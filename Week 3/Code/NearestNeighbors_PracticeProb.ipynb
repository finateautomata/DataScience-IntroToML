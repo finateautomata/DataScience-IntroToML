{
  "cells": [
    {
      "cell_type": "markdown",
      "metadata": {
        "id": "34tkdBbYKO5P"
      },
      "source": [
        "# Nearest Neighbors Practice Prob"
      ]
    },
    {
      "cell_type": "markdown",
      "metadata": {
        "id": "Pk6lRTkqKO5T"
      },
      "source": [
        "In this exercise you will use the Iris dataset from scikit-learn dataset to perform multiclass classification.  \n",
        "For simplicity and visualization, consider using only the first 2 features (_septal length_, _septal width_).\n",
        "\n",
        "### Things to do:\n",
        "1. Load the Iris dataset\n",
        "2. Split the dataset into train/test/validation sets\n",
        "3. Apply Nearest Neighbors classifier to the dataset\n",
        "4. Tune the parameter $k$ using validation set to find the best classifier \n",
        "5. Report the accuracy of the classifier on train and test data\n",
        "6. Plot the decision boundary for the best classifier"
      ]
    },
    {
      "cell_type": "code",
      "execution_count": 2,
      "metadata": {
        "ExecuteTime": {
          "end_time": "2019-04-05T07:41:08.818054Z",
          "start_time": "2019-04-05T07:41:08.509560Z"
        },
        "id": "espcsL3XKO5U"
      },
      "outputs": [],
      "source": [
        "from sklearn.neighbors import KNeighborsClassifier\n",
        "from sklearn import datasets\n",
        "from matplotlib.colors import ListedColormap\n",
        "import numpy as np\n",
        "import matplotlib.pyplot as plt\n",
        "from sklearn.model_selection import train_test_split\n",
        "import pandas as pd\n",
        "from sklearn import datasets"
      ]
    },
    {
      "cell_type": "code",
      "execution_count": 3,
      "metadata": {
        "id": "3uwzFrl6KO5V"
      },
      "outputs": [],
      "source": [
        "# Build a NN classifier.\n",
        "# Use validation set to tune the classifer for best performance.\n",
        "# try k = 1, 3, 5, .., 15\n"
      ]
    },
    {
      "cell_type": "code",
      "execution_count": 4,
      "metadata": {
        "ExecuteTime": {
          "end_time": "2019-04-05T08:16:12.662627Z",
          "start_time": "2019-04-05T08:16:12.657553Z"
        },
        "id": "rSYH---kKO5W"
      },
      "outputs": [
        {
          "name": "stdout",
          "output_type": "stream",
          "text": [
            "k = 1 and weight = uniform\n",
            "accuracy = 0.7333333333333333\n",
            "k = 3 and weight = uniform\n",
            "accuracy = 0.7333333333333333\n",
            "k = 5 and weight = uniform\n",
            "accuracy = 0.7666666666666667\n",
            "k = 7 and weight = uniform\n",
            "accuracy = 0.7666666666666667\n",
            "k = 9 and weight = uniform\n",
            "accuracy = 0.7333333333333333\n",
            "k = 11 and weight = uniform\n",
            "accuracy = 0.7333333333333333\n",
            "k = 13 and weight = uniform\n",
            "accuracy = 0.7666666666666667\n",
            "k = 15 and weight = uniform\n",
            "accuracy = 0.7333333333333333\n",
            "k = 1 and weight = distance\n",
            "accuracy = 0.7333333333333333\n",
            "k = 3 and weight = distance\n",
            "accuracy = 0.7333333333333333\n",
            "k = 5 and weight = distance\n",
            "accuracy = 0.7666666666666667\n",
            "k = 7 and weight = distance\n",
            "accuracy = 0.7666666666666667\n",
            "k = 9 and weight = distance\n",
            "accuracy = 0.7333333333333333\n",
            "k = 11 and weight = distance\n",
            "accuracy = 0.7333333333333333\n",
            "k = 13 and weight = distance\n",
            "accuracy = 0.7666666666666667\n",
            "k = 15 and weight = distance\n",
            "accuracy = 0.7666666666666667\n"
          ]
        }
      ],
      "source": [
        "## Your code here\n",
        "\n",
        "# load iris\n",
        "iris = datasets.load_iris() \n",
        "X = iris.data[:, :2]\n",
        "y = iris.target\n",
        "\n",
        "# Split into testing and training data\n",
        "X_train_full, X_test, y_train_full, y_test = train_test_split(X, y, test_size=0.2, random_state=5)\n",
        "# Split training data into testing and validation data\n",
        "X_train, X_valid, y_train, y_valid = train_test_split(X_train_full, y_train_full, test_size=0.25, random_state=10)\n",
        "\n",
        "# build classifier\n",
        "for weights in ['uniform', 'distance']:\n",
        "    for i in range(1, 16, 2):\n",
        "        clf = KNeighborsClassifier(n_neighbors=i, p=1, weights=weights)\n",
        "        clf.fit(X_train, y_train)\n",
        "        predictions = clf.predict(X_valid)\n",
        "        print(f'k = {i} and weight = {weights}')\n",
        "        print ('accuracy = ' + str(np.sum(predictions == y_valid)/(len(y_valid))))\n",
        "\n"
      ]
    },
    {
      "cell_type": "markdown",
      "metadata": {
        "id": "ciy8GrA2KO5X"
      },
      "source": [
        "Visualizing the decision boundary"
      ]
    },
    {
      "cell_type": "code",
      "execution_count": 5,
      "metadata": {
        "id": "rLEHptG0KO5X"
      },
      "outputs": [
        {
          "data": {
            "image/png": "[encoded data removed]",
            "text/plain": [
              "<Figure size 432x288 with 1 Axes>"
            ]
          },
          "metadata": {
            "needs_background": "light"
          },
          "output_type": "display_data"
        }
      ],
      "source": [
        "## helper code to visualize the decision boundary\n",
        "\n",
        "## set the following values accordingly for visualiziation\n",
        "classifier = clf     # your classifier object\n",
        "n_neighbors = 7   # value of k\n",
        "X = X_train_full              # Data to plot (training data)\n",
        "y = y_train_full\n",
        "\n",
        "h = .02  # step size in the mesh\n",
        "# Create color maps\n",
        "cmap_light = ListedColormap(['#FFAAAA', '#AAFFAA', '#AAAAFF'])\n",
        "cmap_bold = ListedColormap(['#FF0000', '#00FF00', '#0000FF'])\n",
        "\n",
        "# Plot the decision boundary. For that, we will assign a color to each\n",
        "# point in the mesh [x_min, x_max]x[y_min, y_max].\n",
        "x_min, x_max = X[:, 0].min() - 1, X[:, 0].max() + 1\n",
        "y_min, y_max = X[:, 1].min() - 1, X[:, 1].max() + 1\n",
        "xx, yy = np.meshgrid(np.arange(x_min, x_max, h),\n",
        "                     np.arange(y_min, y_max, h))\n",
        "Z = classifier.predict(np.c_[xx.ravel(), yy.ravel()])\n",
        "\n",
        "# Put the result into a color plot\n",
        "Z = Z.reshape(xx.shape)\n",
        "plt.figure()\n",
        "plt.pcolormesh(xx, yy, Z, cmap=cmap_light)\n",
        "\n",
        "# Plot also the training points\n",
        "plt.scatter(X[:, 0], X[:, 1], c=y, cmap=cmap_bold)\n",
        "plt.xlim(xx.min(), xx.max())\n",
        "plt.ylim(yy.min(), yy.max())\n",
        "plt.title(\"3-Class classification (k = %i)\"\n",
        "          % (n_neighbors))\n",
        "\n",
        "plt.show()"
      ]
    },
    {
      "cell_type": "code",
      "execution_count": null,
      "metadata": {
        "id": "xA1RVbe7KO5Z"
      },
      "outputs": [],
      "source": []
    }
  ],
  "metadata": {
    "colab": {
      "name": "NearestNeighbors_PracticeProb.ipynb",
      "provenance": []
    },
    "kernelspec": {
      "display_name": "Python 3",
      "language": "python",
      "name": "python3"
    },
    "language_info": {
      "codemirror_mode": {
        "name": "ipython",
        "version": 3
      },
      "file_extension": ".py",
      "mimetype": "text/x-python",
      "name": "python",
      "nbconvert_exporter": "python",
      "pygments_lexer": "ipython3",
      "version": "3.10.2"
    },
    "varInspector": {
      "cols": {
        "lenName": 16,
        "lenType": 16,
        "lenVar": 40
      },
      "kernels_config": {
        "python": {
          "delete_cmd_postfix": "",
          "delete_cmd_prefix": "del ",
          "library": "var_list.py",
          "varRefreshCmd": "print(var_dic_list())"
        },
        "r": {
          "delete_cmd_postfix": ") ",
          "delete_cmd_prefix": "rm(",
          "library": "var_list.r",
          "varRefreshCmd": "cat(var_dic_list()) "
        }
      },
      "types_to_exclude": [
        "module",
        "function",
        "builtin_function_or_method",
        "instance",
        "_Feature"
      ],
      "window_display": false
    }
  },
  "nbformat": 4,
  "nbformat_minor": 0
}
