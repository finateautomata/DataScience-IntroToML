{
  "cells": [
    {
      "cell_type": "markdown",
      "source": [
        "Outline: \\\n",
        "* Load cifar dataset \\\n",
        "- Normalization: \n",
        " - Subtract 128\n",
        " - Divide by 128\n",
        "* Implement convolutional network\n",
        " - Model1\n",
        "   - Conv2D, 32 kernels, size = 3x3\n",
        "   - Dense(128)\n",
        " - Model 2\n",
        "   - Conv2D, 32 kernels, size = 3x3\n",
        "   - Conv2D, 64 kernels, size = 3x3\n",
        "   - Dense 1(512)\n",
        "- Use Maxpooling as and when required\n",
        "\n",
        "- Compare the test performance "
      ],
      "metadata": {
        "id": "h9DTyzi8xfG-"
      }
    },
    {
      "cell_type": "markdown",
      "metadata": {
        "id": "bPpkhM8V8xTw"
      },
      "source": [
        "## Import libraries"
      ]
    },
    {
      "cell_type": "code",
      "execution_count": null,
      "metadata": {
        "id": "PMDESfUq8xTx"
      },
      "outputs": [],
      "source": [
        "from keras.layers import Input, Dense, Dropout, Flatten\n",
        "from keras.layers import Conv2D, MaxPooling2D, Activation\n",
        "from keras.layers.normalization import BatchNormalization\n",
        "from keras.models import Model\n",
        "import keras\n",
        "from keras.datasets import cifar10\n",
        "import matplotlib.pyplot as plt\n",
        "import numpy as np\n",
        "from keras.utils import np_utils"
      ]
    },
    {
      "cell_type": "markdown",
      "metadata": {
        "id": "GrXNS5OJ8xTy"
      },
      "source": [
        "## Load data"
      ]
    },
    {
      "cell_type": "code",
      "execution_count": null,
      "metadata": {
        "id": "fz64S9FK8xTy",
        "outputId": "cc270e01-d6a6-439b-b020-11a7dc2a5ba5"
      },
      "outputs": [
        {
          "name": "stdout",
          "output_type": "stream",
          "text": [
            "Number of train data: 50000\n",
            "Number of test data:  10000\n",
            "\n",
            "\n",
            "Shape of X_train: \t(50000, 32, 32, 3)\n",
            "\n",
            "Shape of y_train: \t(50000, 1)\n",
            "\n",
            "Shape of X_test: \t(10000, 32, 32, 3)\n",
            "\n",
            "Shape of X_test: \t(10000, 1)\n"
          ]
        }
      ],
      "source": [
        "(X_train, y_train), (X_test, y_test) = cifar10.load_data()\n",
        "print( \"Number of train data: \"+str(X_train.shape[0]) )\n",
        "print( \"Number of test data:  \"+str(X_test.shape[0]) )\n",
        "print( \"\\n\\nShape of X_train: \\t\" + str(X_train.shape) )\n",
        "print( \"\\nShape of y_train: \\t\" + str(y_train.shape) )\n",
        "print( \"\\nShape of X_test: \\t\" + str(X_test.shape) )\n",
        "print( \"\\nShape of X_test: \\t\" + str(y_test.shape) )"
      ]
    },
    {
      "cell_type": "code",
      "source": [
        "# normalize inputs from 0-255 to [-1, 1]\n",
        "\n",
        "\n"
      ],
      "metadata": {
        "id": "n30k0T0mKBeG"
      },
      "execution_count": null,
      "outputs": []
    },
    {
      "cell_type": "code",
      "source": [
        "# Convert labels to One hot\n",
        "\n",
        "\n"
      ],
      "metadata": {
        "id": "TWXCSlB5KqJn"
      },
      "execution_count": null,
      "outputs": []
    },
    {
      "cell_type": "code",
      "source": [
        "# Implement model-1\n",
        "\n",
        "#  conv2d (Conv2D)             (None, 32, 32, 32)               \n",
        "                                                                 \n",
        "#  max_pooling2d (MaxPooling2D  (None, 16, 16, 32)               \n",
        "#  )                                                               \n",
        "                                                                 \n",
        "#  conv2d_1 (Conv2D)           (None, 16, 16, 32)              \n",
        "                                                                 \n",
        "#  max_pooling2d_1 (MaxPooling  (None, 8, 8, 32)                \n",
        "#  2D)                                                             \n",
        "                                                                 \n",
        "#  flatten (Flatten)           (None, 2048)                    \n",
        "                                                                 \n",
        "#  dense (Dense)               (None, 128)               \n",
        "                                                                 \n",
        "#  dense_1 (Dense)             (None, 10)                \n",
        "\n",
        "\n",
        "\n",
        "\n",
        "\n",
        "\n",
        "\n",
        "\n",
        "                                                                 "
      ],
      "metadata": {
        "id": "ZkLeA1od82wI"
      },
      "execution_count": null,
      "outputs": []
    },
    {
      "cell_type": "code",
      "source": [
        "# Final evaluation of the model-1\n",
        "\n"
      ],
      "metadata": {
        "id": "7iLJVRp78p6D"
      },
      "execution_count": null,
      "outputs": []
    },
    {
      "cell_type": "code",
      "source": [
        "# Implement model-2\n",
        "\n",
        "\n",
        "#  conv2d_2 (Conv2D)           (None, 32, 32, 32)               \n",
        "                                                                 \n",
        "#  max_pooling2d_2 (MaxPooling  (None, 16, 16, 32)               \n",
        "#  2D)                                                             \n",
        "                                                                 \n",
        "#  conv2d_3 (Conv2D)           (None, 16, 16, 64)             \n",
        "                                                                 \n",
        "#  max_pooling2d_3 (MaxPooling  (None, 8, 8, 64)               \n",
        "#  2D)                                                           \n",
        "                                                                 \n",
        "#  flatten_1 (Flatten)         (None, 4096)                      \n",
        "                                                                 \n",
        "#  dense_2 (Dense)             (None, 512)                \n",
        "                                                                 \n",
        "#  dense_3 (Dense)             (None, 10)                         \n",
        "\n",
        "\n",
        "\n",
        "\n",
        "\n",
        "\n",
        "\n",
        "\n",
        "\n",
        "                                                             "
      ],
      "metadata": {
        "id": "akJjkW2rJIlu"
      },
      "execution_count": null,
      "outputs": []
    },
    {
      "cell_type": "code",
      "source": [
        "# Final evaluation of the model-2\n"
      ],
      "metadata": {
        "id": "I6lWNpsHJSxG"
      },
      "execution_count": null,
      "outputs": []
    },
    {
      "cell_type": "code",
      "source": [
        ""
      ],
      "metadata": {
        "id": "g_2uRkiTLia1"
      },
      "execution_count": null,
      "outputs": []
    }
  ],
  "metadata": {
    "kernelspec": {
      "display_name": "tf",
      "language": "python",
      "name": "tf"
    },
    "language_info": {
      "codemirror_mode": {
        "name": "ipython",
        "version": 2
      },
      "file_extension": ".py",
      "mimetype": "text/x-python",
      "name": "python",
      "nbconvert_exporter": "python",
      "pygments_lexer": "ipython2",
      "version": "2.7.12"
    },
    "colab": {
      "name": "CNN_Practice.ipynb",
      "provenance": [],
      "collapsed_sections": []
    }
  },
  "nbformat": 4,
  "nbformat_minor": 0
}