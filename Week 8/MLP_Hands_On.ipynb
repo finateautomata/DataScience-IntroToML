{
  "cells": [
    {
      "cell_type": "markdown",
      "metadata": {
        "id": "pLTgmm2fjIbp"
      },
      "source": [
        "# Multi-Layer Perceptron - Excess Return Forecasts\n",
        "\n",
        "**Objectives**\n",
        "\n",
        "* Train Feed-Forward Networks\n",
        "  * Early Stopping\n",
        "  * Activation Functions\n",
        "  * Loss Functions\n",
        "  * Optimizers\n",
        "  * Shallow vs. Deep\n",
        "* Forecast Excess Returns"
      ]
    },
    {
      "cell_type": "markdown",
      "metadata": {
        "id": "JP__utrhjH4g"
      },
      "source": [
        "## Data Import - Goyal Welch Excess Return Predictors"
      ]
    },
    {
      "cell_type": "code",
      "execution_count": 1,
      "metadata": {
        "colab": {
          "base_uri": "https://localhost:8080/"
        },
        "id": "ZqcvNtDowuiO",
        "outputId": "fa2cbacd-6a7c-485c-ead3-231a7af44202"
      },
      "outputs": [
        {
          "name": "stdout",
          "output_type": "stream",
          "text": [
            "/usr/local/lib/python3.7/dist-packages/gdown/cli.py:131: FutureWarning: Option `--id` was deprecated in version 4.3.1 and will be removed in 5.0. You don't need to pass it anymore to use a file ID.\n",
            "  category=FutureWarning,\n",
            "Downloading...\n",
            "From: https://drive.google.com/uc?id=1OMWYlG7JXHN-PeBvQ1UBmfmlIuZP80fO\n",
            "To: /content/merged_data.csv\n",
            "100% 981k/981k [00:00<00:00, 85.4MB/s]\n"
          ]
        }
      ],
      "source": [
        "# !gdown --id 1OMWYlG7JXHN-PeBvQ1UBmfmlIuZP80fO"
      ]
    },
    {
      "cell_type": "markdown",
      "metadata": {
        "id": "pffIaIyYXAuK"
      },
      "source": [
        "## Library Imports"
      ]
    },
    {
      "cell_type": "code",
      "execution_count": 3,
      "metadata": {
        "id": "rz8YSTDgW7rG"
      },
      "outputs": [],
      "source": [
        "import pandas as pd\n",
        "import numpy as np\n",
        "from sklearn.preprocessing import MinMaxScaler\n",
        "from keras.models import Sequential\n",
        "from keras.layers import Dense, Normalization\n",
        "import tensorflow as tf\n",
        "from tensorflow.keras.callbacks import EarlyStopping\n",
        "import matplotlib.pyplot as plt\n",
        "import time"
      ]
    },
    {
      "cell_type": "code",
      "execution_count": 4,
      "metadata": {
        "id": "GmvSymg-w1yi"
      },
      "outputs": [],
      "source": [
        "df_1 = pd.read_csv('merged_data.csv')"
      ]
    },
    {
      "cell_type": "code",
      "execution_count": 5,
      "metadata": {
        "id": "LWJPKnOAxI4y"
      },
      "outputs": [],
      "source": [
        "df_1.set_index('Date',inplace=True)"
      ]
    },
    {
      "cell_type": "markdown",
      "metadata": {
        "id": "WRQot0XsXZd0"
      },
      "source": [
        "## Data Transformations"
      ]
    },
    {
      "cell_type": "code",
      "execution_count": 6,
      "metadata": {
        "id": "grvVKc__xyWC"
      },
      "outputs": [],
      "source": [
        "y = df_1['excess_returns']\n",
        "X = df_1.drop('excess_returns',axis=1)"
      ]
    },
    {
      "cell_type": "code",
      "execution_count": 7,
      "metadata": {
        "colab": {
          "base_uri": "https://localhost:8080/"
        },
        "id": "E1kgAKueZ2Bl",
        "outputId": "e6814a22-a942-4119-b6e8-c3d38bee9571"
      },
      "outputs": [
        {
          "data": {
            "text/plain": [
              "Date\n",
              "1959-03-01    0.001152\n",
              "1959-04-01    0.038054\n",
              "1959-05-01    0.021431\n",
              "1959-06-01   -0.003225\n",
              "1959-07-01    0.032004\n",
              "Name: excess_returns, dtype: float64"
            ]
          },
          "execution_count": 7,
          "metadata": {},
          "output_type": "execute_result"
        }
      ],
      "source": [
        "y.head()"
      ]
    },
    {
      "cell_type": "code",
      "execution_count": 8,
      "metadata": {
        "colab": {
          "base_uri": "https://localhost:8080/",
          "height": 418
        },
        "id": "0tjxwnA3aIRl",
        "outputId": "d4e33e6b-6ed0-4018-94be-56ea597f9da5"
      },
      "outputs": [
        {
          "data": {
            "text/html": [
              "<div>\n",
              "<style scoped>\n",
              "    .dataframe tbody tr th:only-of-type {\n",
              "        vertical-align: middle;\n",
              "    }\n",
              "\n",
              "    .dataframe tbody tr th {\n",
              "        vertical-align: top;\n",
              "    }\n",
              "\n",
              "    .dataframe thead th {\n",
              "        text-align: right;\n",
              "    }\n",
              "</style>\n",
              "<table border=\"1\" class=\"dataframe\">\n",
              "  <thead>\n",
              "    <tr style=\"text-align: right;\">\n",
              "      <th></th>\n",
              "      <th>CPIAUCSL</th>\n",
              "      <th>RPI</th>\n",
              "      <th>W875RX1</th>\n",
              "      <th>DPCERA3M086SBEA</th>\n",
              "      <th>CMRMTSPLx</th>\n",
              "      <th>RETAILx</th>\n",
              "      <th>INDPRO</th>\n",
              "      <th>IPFPNSS</th>\n",
              "      <th>IPFINAL</th>\n",
              "      <th>IPCONGD</th>\n",
              "      <th>...</th>\n",
              "      <th>DTCOLNVHFNM</th>\n",
              "      <th>DTCTHFNM</th>\n",
              "      <th>INVEST</th>\n",
              "      <th>D12</th>\n",
              "      <th>E12</th>\n",
              "      <th>b/m</th>\n",
              "      <th>lty</th>\n",
              "      <th>ntis</th>\n",
              "      <th>ltr</th>\n",
              "      <th>svar</th>\n",
              "    </tr>\n",
              "    <tr>\n",
              "      <th>Date</th>\n",
              "      <th></th>\n",
              "      <th></th>\n",
              "      <th></th>\n",
              "      <th></th>\n",
              "      <th></th>\n",
              "      <th></th>\n",
              "      <th></th>\n",
              "      <th></th>\n",
              "      <th></th>\n",
              "      <th></th>\n",
              "      <th></th>\n",
              "      <th></th>\n",
              "      <th></th>\n",
              "      <th></th>\n",
              "      <th></th>\n",
              "      <th></th>\n",
              "      <th></th>\n",
              "      <th></th>\n",
              "      <th></th>\n",
              "      <th></th>\n",
              "      <th></th>\n",
              "    </tr>\n",
              "  </thead>\n",
              "  <tbody>\n",
              "    <tr>\n",
              "      <th>1959-03-01</th>\n",
              "      <td>-0.000690</td>\n",
              "      <td>0.006430</td>\n",
              "      <td>0.007359</td>\n",
              "      <td>0.009410</td>\n",
              "      <td>-0.003423</td>\n",
              "      <td>0.008321</td>\n",
              "      <td>0.014303</td>\n",
              "      <td>0.006036</td>\n",
              "      <td>0.004899</td>\n",
              "      <td>0.000000</td>\n",
              "      <td>...</td>\n",
              "      <td>0.004929</td>\n",
              "      <td>0.004138</td>\n",
              "      <td>-0.014792</td>\n",
              "      <td>1.77000</td>\n",
              "      <td>3.11000</td>\n",
              "      <td>0.516860</td>\n",
              "      <td>0.0403</td>\n",
              "      <td>0.024984</td>\n",
              "      <td>0.0017</td>\n",
              "      <td>0.000492</td>\n",
              "    </tr>\n",
              "    <tr>\n",
              "      <th>1959-04-01</th>\n",
              "      <td>0.001380</td>\n",
              "      <td>0.006494</td>\n",
              "      <td>0.007049</td>\n",
              "      <td>-0.003639</td>\n",
              "      <td>0.019922</td>\n",
              "      <td>0.000616</td>\n",
              "      <td>0.021077</td>\n",
              "      <td>0.014338</td>\n",
              "      <td>0.014542</td>\n",
              "      <td>0.015653</td>\n",
              "      <td>...</td>\n",
              "      <td>0.012134</td>\n",
              "      <td>0.006734</td>\n",
              "      <td>0.024929</td>\n",
              "      <td>1.77667</td>\n",
              "      <td>3.20667</td>\n",
              "      <td>0.498597</td>\n",
              "      <td>0.0414</td>\n",
              "      <td>0.024361</td>\n",
              "      <td>-0.0117</td>\n",
              "      <td>0.000493</td>\n",
              "    </tr>\n",
              "    <tr>\n",
              "      <th>1959-05-01</th>\n",
              "      <td>0.001723</td>\n",
              "      <td>0.005763</td>\n",
              "      <td>0.006616</td>\n",
              "      <td>0.012005</td>\n",
              "      <td>0.006797</td>\n",
              "      <td>0.007803</td>\n",
              "      <td>0.014950</td>\n",
              "      <td>0.008269</td>\n",
              "      <td>0.009583</td>\n",
              "      <td>0.004768</td>\n",
              "      <td>...</td>\n",
              "      <td>0.002828</td>\n",
              "      <td>0.002020</td>\n",
              "      <td>-0.015342</td>\n",
              "      <td>1.78333</td>\n",
              "      <td>3.30333</td>\n",
              "      <td>0.483077</td>\n",
              "      <td>0.0417</td>\n",
              "      <td>0.025887</td>\n",
              "      <td>-0.0005</td>\n",
              "      <td>0.000428</td>\n",
              "    </tr>\n",
              "    <tr>\n",
              "      <th>1959-06-01</th>\n",
              "      <td>0.000339</td>\n",
              "      <td>0.003102</td>\n",
              "      <td>0.002974</td>\n",
              "      <td>0.003708</td>\n",
              "      <td>-0.000051</td>\n",
              "      <td>0.009064</td>\n",
              "      <td>0.001144</td>\n",
              "      <td>0.007034</td>\n",
              "      <td>0.007126</td>\n",
              "      <td>-0.004768</td>\n",
              "      <td>...</td>\n",
              "      <td>0.009726</td>\n",
              "      <td>0.009007</td>\n",
              "      <td>-0.012252</td>\n",
              "      <td>1.79000</td>\n",
              "      <td>3.40000</td>\n",
              "      <td>0.483219</td>\n",
              "      <td>0.0419</td>\n",
              "      <td>0.026882</td>\n",
              "      <td>0.0010</td>\n",
              "      <td>0.000915</td>\n",
              "    </tr>\n",
              "    <tr>\n",
              "      <th>1959-07-01</th>\n",
              "      <td>-0.001034</td>\n",
              "      <td>-0.000589</td>\n",
              "      <td>-0.000764</td>\n",
              "      <td>-0.003427</td>\n",
              "      <td>0.012110</td>\n",
              "      <td>-0.000330</td>\n",
              "      <td>-0.024238</td>\n",
              "      <td>0.001167</td>\n",
              "      <td>0.008247</td>\n",
              "      <td>0.013056</td>\n",
              "      <td>...</td>\n",
              "      <td>-0.004631</td>\n",
              "      <td>-0.001000</td>\n",
              "      <td>0.029341</td>\n",
              "      <td>1.79667</td>\n",
              "      <td>3.41000</td>\n",
              "      <td>0.460823</td>\n",
              "      <td>0.0417</td>\n",
              "      <td>0.027141</td>\n",
              "      <td>0.0060</td>\n",
              "      <td>0.000488</td>\n",
              "    </tr>\n",
              "  </tbody>\n",
              "</table>\n",
              "<p>5 rows × 119 columns</p>\n",
              "</div>"
            ],
            "text/plain": [
              "            CPIAUCSL       RPI   W875RX1  DPCERA3M086SBEA  CMRMTSPLx  \\\n",
              "Date                                                                   \n",
              "1959-03-01 -0.000690  0.006430  0.007359         0.009410  -0.003423   \n",
              "1959-04-01  0.001380  0.006494  0.007049        -0.003639   0.019922   \n",
              "1959-05-01  0.001723  0.005763  0.006616         0.012005   0.006797   \n",
              "1959-06-01  0.000339  0.003102  0.002974         0.003708  -0.000051   \n",
              "1959-07-01 -0.001034 -0.000589 -0.000764        -0.003427   0.012110   \n",
              "\n",
              "             RETAILx    INDPRO   IPFPNSS   IPFINAL   IPCONGD  ...  \\\n",
              "Date                                                          ...   \n",
              "1959-03-01  0.008321  0.014303  0.006036  0.004899  0.000000  ...   \n",
              "1959-04-01  0.000616  0.021077  0.014338  0.014542  0.015653  ...   \n",
              "1959-05-01  0.007803  0.014950  0.008269  0.009583  0.004768  ...   \n",
              "1959-06-01  0.009064  0.001144  0.007034  0.007126 -0.004768  ...   \n",
              "1959-07-01 -0.000330 -0.024238  0.001167  0.008247  0.013056  ...   \n",
              "\n",
              "            DTCOLNVHFNM  DTCTHFNM    INVEST      D12      E12       b/m  \\\n",
              "Date                                                                      \n",
              "1959-03-01     0.004929  0.004138 -0.014792  1.77000  3.11000  0.516860   \n",
              "1959-04-01     0.012134  0.006734  0.024929  1.77667  3.20667  0.498597   \n",
              "1959-05-01     0.002828  0.002020 -0.015342  1.78333  3.30333  0.483077   \n",
              "1959-06-01     0.009726  0.009007 -0.012252  1.79000  3.40000  0.483219   \n",
              "1959-07-01    -0.004631 -0.001000  0.029341  1.79667  3.41000  0.460823   \n",
              "\n",
              "               lty      ntis     ltr      svar  \n",
              "Date                                            \n",
              "1959-03-01  0.0403  0.024984  0.0017  0.000492  \n",
              "1959-04-01  0.0414  0.024361 -0.0117  0.000493  \n",
              "1959-05-01  0.0417  0.025887 -0.0005  0.000428  \n",
              "1959-06-01  0.0419  0.026882  0.0010  0.000915  \n",
              "1959-07-01  0.0417  0.027141  0.0060  0.000488  \n",
              "\n",
              "[5 rows x 119 columns]"
            ]
          },
          "execution_count": 8,
          "metadata": {},
          "output_type": "execute_result"
        }
      ],
      "source": [
        "X.head()"
      ]
    },
    {
      "cell_type": "markdown",
      "metadata": {
        "id": "JHvnTo2lc0lP"
      },
      "source": [
        "Generating the splits- We are going to use Min Max Scaler and use a very specific strategy in scaling our variables."
      ]
    },
    {
      "cell_type": "code",
      "execution_count": 9,
      "metadata": {
        "colab": {
          "base_uri": "https://localhost:8080/"
        },
        "id": "rrT76zi-yLkL",
        "outputId": "1728b851-561e-4c36-a3f0-21600ba7a21e"
      },
      "outputs": [
        {
          "data": {
            "text/plain": [
              "Date\n",
              "1959-03-01    0.001152\n",
              "1959-04-01    0.038054\n",
              "1959-05-01    0.021431\n",
              "1959-06-01   -0.003225\n",
              "1959-07-01    0.032004\n",
              "                ...   \n",
              "2020-08-01    0.071968\n",
              "2020-09-01   -0.038251\n",
              "2020-10-01   -0.026509\n",
              "2020-11-01    0.109303\n",
              "2020-12-01    0.041473\n",
              "Name: excess_returns, Length: 742, dtype: float64"
            ]
          },
          "execution_count": 9,
          "metadata": {},
          "output_type": "execute_result"
        }
      ],
      "source": [
        "y"
      ]
    },
    {
      "cell_type": "code",
      "execution_count": 10,
      "metadata": {
        "id": "UJiR0Q4Sdtas"
      },
      "outputs": [],
      "source": [
        "scaler = MinMaxScaler(feature_range=(-1,1))"
      ]
    },
    {
      "cell_type": "code",
      "execution_count": 11,
      "metadata": {
        "id": "TnPqZZsFciDd"
      },
      "outputs": [],
      "source": [
        "X_train =scaler.fit_transform(X.loc[:'2018'])\n",
        "X_valid = scaler.transform(X.loc['2019-01-01':'2019-12-01'])"
      ]
    },
    {
      "cell_type": "code",
      "execution_count": 12,
      "metadata": {
        "id": "vNPl4H9LeZr1"
      },
      "outputs": [],
      "source": [
        "X_test_0 = scaler.fit_transform(X.loc[:'2019'])\n",
        "X_test = scaler.transform(X.loc['2020-01-01':'2020-12-01'])"
      ]
    },
    {
      "cell_type": "code",
      "execution_count": 13,
      "metadata": {
        "id": "lEH4s6Zxi_CO"
      },
      "outputs": [],
      "source": [
        "y_train=y.loc[:'2018']\n",
        "y_valid=y.loc['2019-01-01':'2019-12-01']\n",
        "y_test=y.loc['2020-01-01':'2020-12-01']"
      ]
    },
    {
      "cell_type": "code",
      "execution_count": 14,
      "metadata": {
        "colab": {
          "base_uri": "https://localhost:8080/",
          "height": 693
        },
        "id": "-tsa-mUfw0NH",
        "outputId": "531a3671-495f-45af-a9eb-e42caaa906f2"
      },
      "outputs": [
        {
          "data": {
            "text/html": [
              "<div>\n",
              "<style scoped>\n",
              "    .dataframe tbody tr th:only-of-type {\n",
              "        vertical-align: middle;\n",
              "    }\n",
              "\n",
              "    .dataframe tbody tr th {\n",
              "        vertical-align: top;\n",
              "    }\n",
              "\n",
              "    .dataframe thead th {\n",
              "        text-align: right;\n",
              "    }\n",
              "</style>\n",
              "<table border=\"1\" class=\"dataframe\">\n",
              "  <thead>\n",
              "    <tr style=\"text-align: right;\">\n",
              "      <th></th>\n",
              "      <th>CPIAUCSL</th>\n",
              "      <th>RPI</th>\n",
              "      <th>W875RX1</th>\n",
              "      <th>DPCERA3M086SBEA</th>\n",
              "      <th>CMRMTSPLx</th>\n",
              "      <th>RETAILx</th>\n",
              "      <th>INDPRO</th>\n",
              "      <th>IPFPNSS</th>\n",
              "      <th>IPFINAL</th>\n",
              "      <th>IPCONGD</th>\n",
              "      <th>...</th>\n",
              "      <th>DTCOLNVHFNM</th>\n",
              "      <th>DTCTHFNM</th>\n",
              "      <th>INVEST</th>\n",
              "      <th>D12</th>\n",
              "      <th>E12</th>\n",
              "      <th>b/m</th>\n",
              "      <th>lty</th>\n",
              "      <th>ntis</th>\n",
              "      <th>ltr</th>\n",
              "      <th>svar</th>\n",
              "    </tr>\n",
              "    <tr>\n",
              "      <th>Date</th>\n",
              "      <th></th>\n",
              "      <th></th>\n",
              "      <th></th>\n",
              "      <th></th>\n",
              "      <th></th>\n",
              "      <th></th>\n",
              "      <th></th>\n",
              "      <th></th>\n",
              "      <th></th>\n",
              "      <th></th>\n",
              "      <th></th>\n",
              "      <th></th>\n",
              "      <th></th>\n",
              "      <th></th>\n",
              "      <th></th>\n",
              "      <th></th>\n",
              "      <th></th>\n",
              "      <th></th>\n",
              "      <th></th>\n",
              "      <th></th>\n",
              "      <th></th>\n",
              "    </tr>\n",
              "  </thead>\n",
              "  <tbody>\n",
              "    <tr>\n",
              "      <th>1959-03-01</th>\n",
              "      <td>-0.000690</td>\n",
              "      <td>0.006430</td>\n",
              "      <td>0.007359</td>\n",
              "      <td>0.009410</td>\n",
              "      <td>-0.003423</td>\n",
              "      <td>0.008321</td>\n",
              "      <td>0.014303</td>\n",
              "      <td>0.006036</td>\n",
              "      <td>0.004899</td>\n",
              "      <td>0.000000</td>\n",
              "      <td>...</td>\n",
              "      <td>0.004929</td>\n",
              "      <td>0.004138</td>\n",
              "      <td>-0.014792</td>\n",
              "      <td>1.770000</td>\n",
              "      <td>3.110000</td>\n",
              "      <td>0.516860</td>\n",
              "      <td>0.0403</td>\n",
              "      <td>0.024984</td>\n",
              "      <td>0.0017</td>\n",
              "      <td>0.000492</td>\n",
              "    </tr>\n",
              "    <tr>\n",
              "      <th>1959-04-01</th>\n",
              "      <td>0.001380</td>\n",
              "      <td>0.006494</td>\n",
              "      <td>0.007049</td>\n",
              "      <td>-0.003639</td>\n",
              "      <td>0.019922</td>\n",
              "      <td>0.000616</td>\n",
              "      <td>0.021077</td>\n",
              "      <td>0.014338</td>\n",
              "      <td>0.014542</td>\n",
              "      <td>0.015653</td>\n",
              "      <td>...</td>\n",
              "      <td>0.012134</td>\n",
              "      <td>0.006734</td>\n",
              "      <td>0.024929</td>\n",
              "      <td>1.776670</td>\n",
              "      <td>3.206670</td>\n",
              "      <td>0.498597</td>\n",
              "      <td>0.0414</td>\n",
              "      <td>0.024361</td>\n",
              "      <td>-0.0117</td>\n",
              "      <td>0.000493</td>\n",
              "    </tr>\n",
              "    <tr>\n",
              "      <th>1959-05-01</th>\n",
              "      <td>0.001723</td>\n",
              "      <td>0.005763</td>\n",
              "      <td>0.006616</td>\n",
              "      <td>0.012005</td>\n",
              "      <td>0.006797</td>\n",
              "      <td>0.007803</td>\n",
              "      <td>0.014950</td>\n",
              "      <td>0.008269</td>\n",
              "      <td>0.009583</td>\n",
              "      <td>0.004768</td>\n",
              "      <td>...</td>\n",
              "      <td>0.002828</td>\n",
              "      <td>0.002020</td>\n",
              "      <td>-0.015342</td>\n",
              "      <td>1.783330</td>\n",
              "      <td>3.303330</td>\n",
              "      <td>0.483077</td>\n",
              "      <td>0.0417</td>\n",
              "      <td>0.025887</td>\n",
              "      <td>-0.0005</td>\n",
              "      <td>0.000428</td>\n",
              "    </tr>\n",
              "    <tr>\n",
              "      <th>1959-06-01</th>\n",
              "      <td>0.000339</td>\n",
              "      <td>0.003102</td>\n",
              "      <td>0.002974</td>\n",
              "      <td>0.003708</td>\n",
              "      <td>-0.000051</td>\n",
              "      <td>0.009064</td>\n",
              "      <td>0.001144</td>\n",
              "      <td>0.007034</td>\n",
              "      <td>0.007126</td>\n",
              "      <td>-0.004768</td>\n",
              "      <td>...</td>\n",
              "      <td>0.009726</td>\n",
              "      <td>0.009007</td>\n",
              "      <td>-0.012252</td>\n",
              "      <td>1.790000</td>\n",
              "      <td>3.400000</td>\n",
              "      <td>0.483219</td>\n",
              "      <td>0.0419</td>\n",
              "      <td>0.026882</td>\n",
              "      <td>0.0010</td>\n",
              "      <td>0.000915</td>\n",
              "    </tr>\n",
              "    <tr>\n",
              "      <th>1959-07-01</th>\n",
              "      <td>-0.001034</td>\n",
              "      <td>-0.000589</td>\n",
              "      <td>-0.000764</td>\n",
              "      <td>-0.003427</td>\n",
              "      <td>0.012110</td>\n",
              "      <td>-0.000330</td>\n",
              "      <td>-0.024238</td>\n",
              "      <td>0.001167</td>\n",
              "      <td>0.008247</td>\n",
              "      <td>0.013056</td>\n",
              "      <td>...</td>\n",
              "      <td>-0.004631</td>\n",
              "      <td>-0.001000</td>\n",
              "      <td>0.029341</td>\n",
              "      <td>1.796670</td>\n",
              "      <td>3.410000</td>\n",
              "      <td>0.460823</td>\n",
              "      <td>0.0417</td>\n",
              "      <td>0.027141</td>\n",
              "      <td>0.0060</td>\n",
              "      <td>0.000488</td>\n",
              "    </tr>\n",
              "    <tr>\n",
              "      <th>...</th>\n",
              "      <td>...</td>\n",
              "      <td>...</td>\n",
              "      <td>...</td>\n",
              "      <td>...</td>\n",
              "      <td>...</td>\n",
              "      <td>...</td>\n",
              "      <td>...</td>\n",
              "      <td>...</td>\n",
              "      <td>...</td>\n",
              "      <td>...</td>\n",
              "      <td>...</td>\n",
              "      <td>...</td>\n",
              "      <td>...</td>\n",
              "      <td>...</td>\n",
              "      <td>...</td>\n",
              "      <td>...</td>\n",
              "      <td>...</td>\n",
              "      <td>...</td>\n",
              "      <td>...</td>\n",
              "      <td>...</td>\n",
              "      <td>...</td>\n",
              "    </tr>\n",
              "    <tr>\n",
              "      <th>2020-08-01</th>\n",
              "      <td>-0.001624</td>\n",
              "      <td>-0.032790</td>\n",
              "      <td>0.010429</td>\n",
              "      <td>0.006836</td>\n",
              "      <td>0.002130</td>\n",
              "      <td>0.008330</td>\n",
              "      <td>0.010522</td>\n",
              "      <td>0.013035</td>\n",
              "      <td>0.012572</td>\n",
              "      <td>0.007465</td>\n",
              "      <td>...</td>\n",
              "      <td>-0.005675</td>\n",
              "      <td>-0.002656</td>\n",
              "      <td>-0.016114</td>\n",
              "      <td>59.128628</td>\n",
              "      <td>98.556667</td>\n",
              "      <td>0.235975</td>\n",
              "      <td>0.0065</td>\n",
              "      <td>-0.008504</td>\n",
              "      <td>-0.0349</td>\n",
              "      <td>0.000743</td>\n",
              "    </tr>\n",
              "    <tr>\n",
              "      <th>2020-09-01</th>\n",
              "      <td>-0.001046</td>\n",
              "      <td>0.005666</td>\n",
              "      <td>0.009884</td>\n",
              "      <td>0.013125</td>\n",
              "      <td>0.006045</td>\n",
              "      <td>0.020661</td>\n",
              "      <td>-0.003034</td>\n",
              "      <td>-0.005733</td>\n",
              "      <td>-0.010124</td>\n",
              "      <td>-0.014893</td>\n",
              "      <td>...</td>\n",
              "      <td>-0.001469</td>\n",
              "      <td>0.002209</td>\n",
              "      <td>-0.001093</td>\n",
              "      <td>58.851237</td>\n",
              "      <td>98.220000</td>\n",
              "      <td>0.241482</td>\n",
              "      <td>0.0068</td>\n",
              "      <td>-0.005698</td>\n",
              "      <td>0.0080</td>\n",
              "      <td>0.004907</td>\n",
              "    </tr>\n",
              "    <tr>\n",
              "      <th>2020-10-01</th>\n",
              "      <td>-0.001253</td>\n",
              "      <td>-0.002717</td>\n",
              "      <td>0.013773</td>\n",
              "      <td>0.004091</td>\n",
              "      <td>0.009751</td>\n",
              "      <td>-0.000512</td>\n",
              "      <td>0.010856</td>\n",
              "      <td>0.010733</td>\n",
              "      <td>0.006639</td>\n",
              "      <td>0.002768</td>\n",
              "      <td>...</td>\n",
              "      <td>-0.008596</td>\n",
              "      <td>-0.005963</td>\n",
              "      <td>-0.000156</td>\n",
              "      <td>58.660440</td>\n",
              "      <td>96.856667</td>\n",
              "      <td>0.253146</td>\n",
              "      <td>0.0079</td>\n",
              "      <td>-0.001895</td>\n",
              "      <td>-0.0238</td>\n",
              "      <td>0.003661</td>\n",
              "    </tr>\n",
              "    <tr>\n",
              "      <th>2020-11-01</th>\n",
              "      <td>0.000581</td>\n",
              "      <td>-0.010059</td>\n",
              "      <td>-0.002639</td>\n",
              "      <td>-0.005558</td>\n",
              "      <td>-0.001850</td>\n",
              "      <td>-0.014095</td>\n",
              "      <td>0.005320</td>\n",
              "      <td>0.003676</td>\n",
              "      <td>0.004535</td>\n",
              "      <td>0.001491</td>\n",
              "      <td>...</td>\n",
              "      <td>0.005337</td>\n",
              "      <td>0.004147</td>\n",
              "      <td>0.008628</td>\n",
              "      <td>58.469643</td>\n",
              "      <td>95.493333</td>\n",
              "      <td>0.226352</td>\n",
              "      <td>0.0087</td>\n",
              "      <td>-0.005262</td>\n",
              "      <td>0.0093</td>\n",
              "      <td>0.002492</td>\n",
              "    </tr>\n",
              "    <tr>\n",
              "      <th>2020-12-01</th>\n",
              "      <td>0.000639</td>\n",
              "      <td>0.002689</td>\n",
              "      <td>0.000283</td>\n",
              "      <td>-0.009235</td>\n",
              "      <td>-0.003966</td>\n",
              "      <td>-0.009794</td>\n",
              "      <td>0.011507</td>\n",
              "      <td>0.013917</td>\n",
              "      <td>0.015531</td>\n",
              "      <td>0.021141</td>\n",
              "      <td>...</td>\n",
              "      <td>-0.008388</td>\n",
              "      <td>-0.003187</td>\n",
              "      <td>-0.007937</td>\n",
              "      <td>58.278846</td>\n",
              "      <td>94.130000</td>\n",
              "      <td>0.219195</td>\n",
              "      <td>0.0093</td>\n",
              "      <td>-0.000094</td>\n",
              "      <td>-0.0115</td>\n",
              "      <td>0.000678</td>\n",
              "    </tr>\n",
              "  </tbody>\n",
              "</table>\n",
              "<p>742 rows × 119 columns</p>\n",
              "</div>"
            ],
            "text/plain": [
              "            CPIAUCSL       RPI   W875RX1  DPCERA3M086SBEA  CMRMTSPLx  \\\n",
              "Date                                                                   \n",
              "1959-03-01 -0.000690  0.006430  0.007359         0.009410  -0.003423   \n",
              "1959-04-01  0.001380  0.006494  0.007049        -0.003639   0.019922   \n",
              "1959-05-01  0.001723  0.005763  0.006616         0.012005   0.006797   \n",
              "1959-06-01  0.000339  0.003102  0.002974         0.003708  -0.000051   \n",
              "1959-07-01 -0.001034 -0.000589 -0.000764        -0.003427   0.012110   \n",
              "...              ...       ...       ...              ...        ...   \n",
              "2020-08-01 -0.001624 -0.032790  0.010429         0.006836   0.002130   \n",
              "2020-09-01 -0.001046  0.005666  0.009884         0.013125   0.006045   \n",
              "2020-10-01 -0.001253 -0.002717  0.013773         0.004091   0.009751   \n",
              "2020-11-01  0.000581 -0.010059 -0.002639        -0.005558  -0.001850   \n",
              "2020-12-01  0.000639  0.002689  0.000283        -0.009235  -0.003966   \n",
              "\n",
              "             RETAILx    INDPRO   IPFPNSS   IPFINAL   IPCONGD  ...  \\\n",
              "Date                                                          ...   \n",
              "1959-03-01  0.008321  0.014303  0.006036  0.004899  0.000000  ...   \n",
              "1959-04-01  0.000616  0.021077  0.014338  0.014542  0.015653  ...   \n",
              "1959-05-01  0.007803  0.014950  0.008269  0.009583  0.004768  ...   \n",
              "1959-06-01  0.009064  0.001144  0.007034  0.007126 -0.004768  ...   \n",
              "1959-07-01 -0.000330 -0.024238  0.001167  0.008247  0.013056  ...   \n",
              "...              ...       ...       ...       ...       ...  ...   \n",
              "2020-08-01  0.008330  0.010522  0.013035  0.012572  0.007465  ...   \n",
              "2020-09-01  0.020661 -0.003034 -0.005733 -0.010124 -0.014893  ...   \n",
              "2020-10-01 -0.000512  0.010856  0.010733  0.006639  0.002768  ...   \n",
              "2020-11-01 -0.014095  0.005320  0.003676  0.004535  0.001491  ...   \n",
              "2020-12-01 -0.009794  0.011507  0.013917  0.015531  0.021141  ...   \n",
              "\n",
              "            DTCOLNVHFNM  DTCTHFNM    INVEST        D12        E12       b/m  \\\n",
              "Date                                                                          \n",
              "1959-03-01     0.004929  0.004138 -0.014792   1.770000   3.110000  0.516860   \n",
              "1959-04-01     0.012134  0.006734  0.024929   1.776670   3.206670  0.498597   \n",
              "1959-05-01     0.002828  0.002020 -0.015342   1.783330   3.303330  0.483077   \n",
              "1959-06-01     0.009726  0.009007 -0.012252   1.790000   3.400000  0.483219   \n",
              "1959-07-01    -0.004631 -0.001000  0.029341   1.796670   3.410000  0.460823   \n",
              "...                 ...       ...       ...        ...        ...       ...   \n",
              "2020-08-01    -0.005675 -0.002656 -0.016114  59.128628  98.556667  0.235975   \n",
              "2020-09-01    -0.001469  0.002209 -0.001093  58.851237  98.220000  0.241482   \n",
              "2020-10-01    -0.008596 -0.005963 -0.000156  58.660440  96.856667  0.253146   \n",
              "2020-11-01     0.005337  0.004147  0.008628  58.469643  95.493333  0.226352   \n",
              "2020-12-01    -0.008388 -0.003187 -0.007937  58.278846  94.130000  0.219195   \n",
              "\n",
              "               lty      ntis     ltr      svar  \n",
              "Date                                            \n",
              "1959-03-01  0.0403  0.024984  0.0017  0.000492  \n",
              "1959-04-01  0.0414  0.024361 -0.0117  0.000493  \n",
              "1959-05-01  0.0417  0.025887 -0.0005  0.000428  \n",
              "1959-06-01  0.0419  0.026882  0.0010  0.000915  \n",
              "1959-07-01  0.0417  0.027141  0.0060  0.000488  \n",
              "...            ...       ...     ...       ...  \n",
              "2020-08-01  0.0065 -0.008504 -0.0349  0.000743  \n",
              "2020-09-01  0.0068 -0.005698  0.0080  0.004907  \n",
              "2020-10-01  0.0079 -0.001895 -0.0238  0.003661  \n",
              "2020-11-01  0.0087 -0.005262  0.0093  0.002492  \n",
              "2020-12-01  0.0093 -0.000094 -0.0115  0.000678  \n",
              "\n",
              "[742 rows x 119 columns]"
            ]
          },
          "execution_count": 14,
          "metadata": {},
          "output_type": "execute_result"
        }
      ],
      "source": [
        "X"
      ]
    },
    {
      "cell_type": "markdown",
      "metadata": {
        "id": "8Kic7InGhhfx"
      },
      "source": [
        "# Building the Neural Network"
      ]
    },
    {
      "cell_type": "markdown",
      "metadata": {
        "id": "DOCX_j0ohmZ6"
      },
      "source": [
        "## Some Universal Parameters"
      ]
    },
    {
      "cell_type": "code",
      "execution_count": 15,
      "metadata": {
        "id": "S2uGloeEdTVV"
      },
      "outputs": [],
      "source": [
        "# Set the Patience Level of Early Stopping\n",
        "# Iterations increase with patience\n",
        "\n",
        "# Number of epochs with no improvement after which training will be stopped.\n",
        "\n",
        "\n",
        "#patience = 2\n",
        "#patience = 3\n",
        "#patience = 4\n",
        "#patience = 5\n",
        "#patience = 6\n",
        "#patience = 7\n",
        "#patience = 8\n",
        "#patience = 9\n",
        "patience = 50\n",
        "\n",
        "early_stop = EarlyStopping(monitor='val_loss',patience=patience)"
      ]
    },
    {
      "cell_type": "code",
      "execution_count": 16,
      "metadata": {
        "id": "c326Z_YHh5jn"
      },
      "outputs": [],
      "source": [
        "### Select Activation Function by Uncommenting ###\n",
        "\n",
        "#act_fn = 'elu'       # Exponential Linear Unit\n",
        "#act_fn = 'gelu'      # Gaussian error linear unit\n",
        "#act_fn = 'selu'      # Scaled Exponential Linear Unit \n",
        "act_fn = 'relu'      # Rectified Linear Unit\n",
        "#act_fn = 'sigmoid'   # Sigmoid activation"
      ]
    },
    {
      "cell_type": "code",
      "execution_count": 17,
      "metadata": {
        "id": "bTxRvCOqiaaF"
      },
      "outputs": [],
      "source": [
        "### Select Loss Function by Uncommenting ###\n",
        "\n",
        "#loss = 'mean_squared_error' # Mean Squared Error Loss\n",
        "loss = 'huber' #Huber Loss\n",
        "#loss = 'mean_absolute_error "
      ]
    },
    {
      "cell_type": "code",
      "execution_count": 18,
      "metadata": {
        "id": "AOIbYUszie57"
      },
      "outputs": [],
      "source": [
        "### Select Optimizer by Uncommenting ###\n",
        "\n",
        "#optimizer = 'Adadelta' # Adadelta\n",
        "optimizer = 'adam' # Adam\n",
        "#optimizer = 'SGD'  # Stochastic Gradient Descent"
      ]
    },
    {
      "cell_type": "markdown",
      "metadata": {
        "id": "6NKDSrKpit7L"
      },
      "source": [
        "## Neural Net with 1 Layer - Shallow Net - NN(1)"
      ]
    },
    {
      "cell_type": "code",
      "execution_count": 19,
      "metadata": {
        "id": "IxxYzVkbirAZ"
      },
      "outputs": [],
      "source": [
        "#neurons = 3\n",
        "#neurons = 6\n",
        "#neurons = 9\n",
        "neurons = 119"
      ]
    },
    {
      "cell_type": "code",
      "execution_count": 20,
      "metadata": {
        "colab": {
          "base_uri": "https://localhost:8080/"
        },
        "id": "HCiaTvTji66p",
        "outputId": "eaafc296-37e9-4ab6-d58d-f64b05047d49"
      },
      "outputs": [
        {
          "name": "stdout",
          "output_type": "stream",
          "text": [
            "Metal device set to: Apple M1 Max\n",
            "\n",
            "systemMemory: 32.00 GB\n",
            "maxCacheSize: 10.67 GB\n",
            "\n",
            "Epoch 1/500\n"
          ]
        },
        {
          "name": "stderr",
          "output_type": "stream",
          "text": [
            "2022-05-16 16:35:52.705647: I tensorflow/core/common_runtime/pluggable_device/pluggable_device_factory.cc:305] Could not identify NUMA node of platform GPU ID 0, defaulting to 0. Your kernel may not have been built with NUMA support.\n",
            "2022-05-16 16:35:52.705807: I tensorflow/core/common_runtime/pluggable_device/pluggable_device_factory.cc:271] Created TensorFlow device (/job:localhost/replica:0/task:0/device:GPU:0 with 0 MB memory) -> physical PluggableDevice (device: 0, name: METAL, pci bus id: <undefined>)\n",
            "2022-05-16 16:35:52.869234: W tensorflow/core/platform/profile_utils/cpu_utils.cc:128] Failed to get CPU frequency: 0 Hz\n",
            "2022-05-16 16:35:53.470696: I tensorflow/core/grappler/optimizers/custom_graph_optimizer_registry.cc:113] Plugin optimizer for device_type GPU is enabled.\n"
          ]
        },
        {
          "name": "stdout",
          "output_type": "stream",
          "text": [
            "23/23 [==============================] - 3s 22ms/step - loss: 0.0098 - val_loss: 0.0060\n",
            "Epoch 2/500\n",
            "13/23 [===============>..............] - ETA: 0s - loss: 0.0036"
          ]
        },
        {
          "name": "stderr",
          "output_type": "stream",
          "text": [
            "2022-05-16 16:35:55.512023: I tensorflow/core/grappler/optimizers/custom_graph_optimizer_registry.cc:113] Plugin optimizer for device_type GPU is enabled.\n"
          ]
        },
        {
          "name": "stdout",
          "output_type": "stream",
          "text": [
            "23/23 [==============================] - 0s 5ms/step - loss: 0.0033 - val_loss: 0.0079\n",
            "Epoch 3/500\n",
            "23/23 [==============================] - 0s 5ms/step - loss: 0.0020 - val_loss: 0.0085\n",
            "Epoch 4/500\n",
            "23/23 [==============================] - 0s 5ms/step - loss: 0.0014 - val_loss: 0.0060\n",
            "Epoch 5/500\n",
            "23/23 [==============================] - 0s 5ms/step - loss: 0.0011 - val_loss: 0.0060\n",
            "Epoch 6/500\n",
            "23/23 [==============================] - 0s 5ms/step - loss: 9.8880e-04 - val_loss: 0.0059\n",
            "Epoch 7/500\n",
            "23/23 [==============================] - 0s 5ms/step - loss: 9.0745e-04 - val_loss: 0.0068\n",
            "Epoch 8/500\n",
            "23/23 [==============================] - 0s 5ms/step - loss: 7.4438e-04 - val_loss: 0.0043\n",
            "Epoch 9/500\n",
            "23/23 [==============================] - 0s 5ms/step - loss: 7.0390e-04 - val_loss: 0.0035\n",
            "Epoch 10/500\n",
            "23/23 [==============================] - 0s 5ms/step - loss: 6.1818e-04 - val_loss: 0.0032\n",
            "Epoch 11/500\n",
            "23/23 [==============================] - 0s 5ms/step - loss: 6.0163e-04 - val_loss: 0.0034\n",
            "Epoch 12/500\n",
            "23/23 [==============================] - 0s 5ms/step - loss: 4.9616e-04 - val_loss: 0.0042\n",
            "Epoch 13/500\n",
            "23/23 [==============================] - 0s 5ms/step - loss: 4.9406e-04 - val_loss: 0.0043\n",
            "Epoch 14/500\n",
            "23/23 [==============================] - 0s 5ms/step - loss: 3.8321e-04 - val_loss: 0.0031\n",
            "Epoch 15/500\n",
            "23/23 [==============================] - 0s 5ms/step - loss: 3.3003e-04 - val_loss: 0.0044\n",
            "Epoch 16/500\n",
            "23/23 [==============================] - 0s 5ms/step - loss: 3.5048e-04 - val_loss: 0.0029\n",
            "Epoch 17/500\n",
            "23/23 [==============================] - 0s 5ms/step - loss: 2.5495e-04 - val_loss: 0.0028\n",
            "Epoch 18/500\n",
            "23/23 [==============================] - 0s 6ms/step - loss: 2.7623e-04 - val_loss: 0.0040\n",
            "Epoch 19/500\n",
            "23/23 [==============================] - 0s 5ms/step - loss: 3.6747e-04 - val_loss: 0.0025\n",
            "Epoch 20/500\n",
            "23/23 [==============================] - 0s 5ms/step - loss: 3.0079e-04 - val_loss: 0.0038\n",
            "Epoch 21/500\n",
            "23/23 [==============================] - 0s 5ms/step - loss: 3.5114e-04 - val_loss: 0.0025\n",
            "Epoch 22/500\n",
            "23/23 [==============================] - 0s 6ms/step - loss: 2.3803e-04 - val_loss: 0.0026\n",
            "Epoch 23/500\n",
            "23/23 [==============================] - 0s 5ms/step - loss: 2.5590e-04 - val_loss: 0.0032\n",
            "Epoch 24/500\n",
            "23/23 [==============================] - 0s 5ms/step - loss: 1.8975e-04 - val_loss: 0.0029\n",
            "Epoch 25/500\n",
            "23/23 [==============================] - 0s 5ms/step - loss: 1.9541e-04 - val_loss: 0.0022\n",
            "Epoch 26/500\n",
            "23/23 [==============================] - 0s 5ms/step - loss: 1.5361e-04 - val_loss: 0.0026\n",
            "Epoch 27/500\n",
            "23/23 [==============================] - 0s 5ms/step - loss: 1.1298e-04 - val_loss: 0.0033\n",
            "Epoch 28/500\n",
            "23/23 [==============================] - 0s 5ms/step - loss: 1.6351e-04 - val_loss: 0.0027\n",
            "Epoch 29/500\n",
            "23/23 [==============================] - 0s 5ms/step - loss: 1.5426e-04 - val_loss: 0.0027\n",
            "Epoch 30/500\n",
            "23/23 [==============================] - 0s 5ms/step - loss: 1.0161e-04 - val_loss: 0.0024\n",
            "Epoch 31/500\n",
            "23/23 [==============================] - 0s 5ms/step - loss: 1.0235e-04 - val_loss: 0.0023\n",
            "Epoch 32/500\n",
            "23/23 [==============================] - 0s 5ms/step - loss: 7.7187e-05 - val_loss: 0.0025\n",
            "Epoch 33/500\n",
            "23/23 [==============================] - 0s 5ms/step - loss: 9.4988e-05 - val_loss: 0.0025\n",
            "Epoch 34/500\n",
            "23/23 [==============================] - 0s 5ms/step - loss: 9.0702e-05 - val_loss: 0.0024\n",
            "Epoch 35/500\n",
            "23/23 [==============================] - 0s 5ms/step - loss: 9.6309e-05 - val_loss: 0.0026\n",
            "Epoch 36/500\n",
            "23/23 [==============================] - 0s 5ms/step - loss: 1.5210e-04 - val_loss: 0.0018\n",
            "Epoch 37/500\n",
            "23/23 [==============================] - 0s 5ms/step - loss: 2.3629e-04 - val_loss: 0.0034\n",
            "Epoch 38/500\n",
            "23/23 [==============================] - 0s 5ms/step - loss: 2.1837e-04 - val_loss: 0.0032\n",
            "Epoch 39/500\n",
            "23/23 [==============================] - 0s 5ms/step - loss: 7.1138e-04 - val_loss: 0.0033\n",
            "Epoch 40/500\n",
            "23/23 [==============================] - 0s 5ms/step - loss: 6.1017e-04 - val_loss: 0.0026\n",
            "Epoch 41/500\n",
            "23/23 [==============================] - 0s 5ms/step - loss: 5.7931e-04 - val_loss: 0.0027\n",
            "Epoch 42/500\n",
            "23/23 [==============================] - 0s 5ms/step - loss: 2.6076e-04 - val_loss: 0.0026\n",
            "Epoch 43/500\n",
            "23/23 [==============================] - 0s 5ms/step - loss: 1.2716e-04 - val_loss: 0.0023\n",
            "Epoch 44/500\n",
            "23/23 [==============================] - 0s 5ms/step - loss: 1.0463e-04 - val_loss: 0.0022\n",
            "Epoch 45/500\n",
            "23/23 [==============================] - 0s 5ms/step - loss: 9.6974e-05 - val_loss: 0.0023\n",
            "Epoch 46/500\n",
            "23/23 [==============================] - 0s 5ms/step - loss: 5.3740e-05 - val_loss: 0.0025\n",
            "Epoch 47/500\n",
            "23/23 [==============================] - 0s 5ms/step - loss: 6.7969e-05 - val_loss: 0.0025\n",
            "Epoch 48/500\n",
            "23/23 [==============================] - 0s 5ms/step - loss: 9.1818e-05 - val_loss: 0.0022\n",
            "Epoch 49/500\n",
            "23/23 [==============================] - 0s 5ms/step - loss: 6.5050e-05 - val_loss: 0.0020\n",
            "Epoch 50/500\n",
            "23/23 [==============================] - 0s 6ms/step - loss: 5.9115e-05 - val_loss: 0.0022\n",
            "Epoch 51/500\n",
            "23/23 [==============================] - 0s 5ms/step - loss: 5.7390e-05 - val_loss: 0.0022\n",
            "Epoch 52/500\n",
            "23/23 [==============================] - 0s 5ms/step - loss: 4.1864e-05 - val_loss: 0.0023\n",
            "Epoch 53/500\n",
            "23/23 [==============================] - 0s 6ms/step - loss: 4.2737e-05 - val_loss: 0.0021\n",
            "Epoch 54/500\n",
            "23/23 [==============================] - 0s 6ms/step - loss: 2.8376e-05 - val_loss: 0.0022\n",
            "Epoch 55/500\n",
            "23/23 [==============================] - 0s 5ms/step - loss: 2.2431e-05 - val_loss: 0.0023\n",
            "Epoch 56/500\n",
            "23/23 [==============================] - 0s 5ms/step - loss: 2.8265e-05 - val_loss: 0.0024\n",
            "Epoch 57/500\n",
            "23/23 [==============================] - 0s 5ms/step - loss: 2.6294e-05 - val_loss: 0.0028\n",
            "Epoch 58/500\n",
            "23/23 [==============================] - 0s 5ms/step - loss: 3.9108e-05 - val_loss: 0.0022\n",
            "Epoch 59/500\n",
            "23/23 [==============================] - 0s 5ms/step - loss: 2.2208e-05 - val_loss: 0.0021\n",
            "Epoch 60/500\n",
            "23/23 [==============================] - 0s 5ms/step - loss: 2.4248e-05 - val_loss: 0.0023\n",
            "Epoch 61/500\n",
            "23/23 [==============================] - 0s 5ms/step - loss: 2.3984e-05 - val_loss: 0.0020\n",
            "Epoch 62/500\n",
            "23/23 [==============================] - 0s 5ms/step - loss: 3.2640e-05 - val_loss: 0.0021\n",
            "Epoch 63/500\n",
            "23/23 [==============================] - 0s 5ms/step - loss: 2.8618e-05 - val_loss: 0.0023\n",
            "Epoch 64/500\n",
            "23/23 [==============================] - 0s 5ms/step - loss: 3.2116e-05 - val_loss: 0.0022\n",
            "Epoch 65/500\n",
            "23/23 [==============================] - 0s 5ms/step - loss: 3.9006e-05 - val_loss: 0.0020\n",
            "Epoch 66/500\n",
            "23/23 [==============================] - 0s 5ms/step - loss: 3.1223e-05 - val_loss: 0.0020\n",
            "Epoch 67/500\n",
            "23/23 [==============================] - 0s 5ms/step - loss: 1.8112e-05 - val_loss: 0.0021\n",
            "Epoch 68/500\n",
            "23/23 [==============================] - 0s 5ms/step - loss: 4.0394e-05 - val_loss: 0.0019\n",
            "Epoch 69/500\n",
            "23/23 [==============================] - 0s 5ms/step - loss: 7.3536e-05 - val_loss: 0.0020\n",
            "Epoch 70/500\n",
            "23/23 [==============================] - 0s 5ms/step - loss: 6.8194e-05 - val_loss: 0.0023\n",
            "Epoch 71/500\n",
            "23/23 [==============================] - 0s 5ms/step - loss: 1.0720e-04 - val_loss: 0.0019\n",
            "Epoch 72/500\n",
            "23/23 [==============================] - 0s 5ms/step - loss: 1.7579e-04 - val_loss: 0.0025\n",
            "Epoch 73/500\n",
            "23/23 [==============================] - 0s 5ms/step - loss: 1.7547e-04 - val_loss: 0.0018\n",
            "Epoch 74/500\n",
            "23/23 [==============================] - 0s 5ms/step - loss: 1.5360e-04 - val_loss: 0.0023\n",
            "Epoch 75/500\n",
            "23/23 [==============================] - 0s 5ms/step - loss: 1.4887e-04 - val_loss: 0.0023\n",
            "Epoch 76/500\n",
            "23/23 [==============================] - 0s 5ms/step - loss: 1.5950e-04 - val_loss: 0.0025\n",
            "Epoch 77/500\n",
            "23/23 [==============================] - 0s 5ms/step - loss: 3.3530e-04 - val_loss: 0.0020\n",
            "Epoch 78/500\n",
            "23/23 [==============================] - 0s 5ms/step - loss: 2.7782e-04 - val_loss: 0.0023\n",
            "Epoch 79/500\n",
            "23/23 [==============================] - 0s 5ms/step - loss: 1.9974e-04 - val_loss: 0.0027\n",
            "Epoch 80/500\n",
            "23/23 [==============================] - 0s 5ms/step - loss: 1.3519e-04 - val_loss: 0.0023\n",
            "Epoch 81/500\n",
            "23/23 [==============================] - 0s 5ms/step - loss: 9.7702e-05 - val_loss: 0.0022\n",
            "Epoch 82/500\n",
            "23/23 [==============================] - 0s 5ms/step - loss: 7.0785e-05 - val_loss: 0.0020\n",
            "Epoch 83/500\n",
            "23/23 [==============================] - 0s 5ms/step - loss: 4.4058e-05 - val_loss: 0.0019\n",
            "Epoch 84/500\n",
            "23/23 [==============================] - 0s 5ms/step - loss: 3.8490e-05 - val_loss: 0.0018\n",
            "Epoch 85/500\n",
            "23/23 [==============================] - 0s 5ms/step - loss: 3.0791e-05 - val_loss: 0.0020\n",
            "Epoch 86/500\n",
            "23/23 [==============================] - 0s 5ms/step - loss: 2.3562e-05 - val_loss: 0.0020\n",
            "Epoch 87/500\n",
            "23/23 [==============================] - 0s 5ms/step - loss: 1.7890e-05 - val_loss: 0.0018\n",
            "Epoch 88/500\n",
            "23/23 [==============================] - 0s 5ms/step - loss: 1.5224e-05 - val_loss: 0.0020\n",
            "Epoch 89/500\n",
            "23/23 [==============================] - 0s 5ms/step - loss: 1.2243e-05 - val_loss: 0.0019\n",
            "Epoch 90/500\n",
            "23/23 [==============================] - 0s 5ms/step - loss: 1.0060e-05 - val_loss: 0.0019\n",
            "Epoch 91/500\n",
            "23/23 [==============================] - 0s 5ms/step - loss: 1.1766e-05 - val_loss: 0.0019\n",
            "Epoch 92/500\n",
            "23/23 [==============================] - 0s 5ms/step - loss: 1.2093e-05 - val_loss: 0.0020\n",
            "Epoch 93/500\n",
            "23/23 [==============================] - 0s 5ms/step - loss: 1.6993e-05 - val_loss: 0.0020\n",
            "Epoch 94/500\n",
            "23/23 [==============================] - 0s 5ms/step - loss: 1.3644e-05 - val_loss: 0.0017\n",
            "Epoch 95/500\n",
            "23/23 [==============================] - 0s 5ms/step - loss: 1.9897e-05 - val_loss: 0.0018\n",
            "Epoch 96/500\n",
            "23/23 [==============================] - 0s 5ms/step - loss: 1.5901e-05 - val_loss: 0.0019\n",
            "Epoch 97/500\n",
            "23/23 [==============================] - 0s 5ms/step - loss: 2.0777e-05 - val_loss: 0.0020\n",
            "Epoch 98/500\n",
            "23/23 [==============================] - 0s 5ms/step - loss: 1.7490e-05 - val_loss: 0.0019\n",
            "Epoch 99/500\n",
            "23/23 [==============================] - 0s 5ms/step - loss: 2.6775e-05 - val_loss: 0.0016\n",
            "Epoch 100/500\n",
            "23/23 [==============================] - 0s 5ms/step - loss: 4.1320e-05 - val_loss: 0.0017\n",
            "Epoch 101/500\n",
            "23/23 [==============================] - 0s 5ms/step - loss: 4.3486e-05 - val_loss: 0.0017\n",
            "Epoch 102/500\n",
            "23/23 [==============================] - 0s 5ms/step - loss: 7.6728e-05 - val_loss: 0.0020\n",
            "Epoch 103/500\n",
            "23/23 [==============================] - 0s 5ms/step - loss: 4.2931e-05 - val_loss: 0.0019\n",
            "Epoch 104/500\n",
            "23/23 [==============================] - 0s 5ms/step - loss: 5.5435e-05 - val_loss: 0.0023\n",
            "Epoch 105/500\n",
            "23/23 [==============================] - 0s 5ms/step - loss: 6.6585e-05 - val_loss: 0.0018\n",
            "Epoch 106/500\n",
            "23/23 [==============================] - 0s 5ms/step - loss: 8.0629e-05 - val_loss: 0.0020\n",
            "Epoch 107/500\n",
            "23/23 [==============================] - 0s 5ms/step - loss: 1.1204e-04 - val_loss: 0.0013\n",
            "Epoch 108/500\n",
            "23/23 [==============================] - 0s 5ms/step - loss: 1.0486e-04 - val_loss: 0.0016\n",
            "Epoch 109/500\n",
            "23/23 [==============================] - 0s 5ms/step - loss: 1.1727e-04 - val_loss: 0.0015\n",
            "Epoch 110/500\n",
            "23/23 [==============================] - 0s 5ms/step - loss: 1.5544e-04 - val_loss: 0.0018\n",
            "Epoch 111/500\n",
            "23/23 [==============================] - 0s 5ms/step - loss: 1.4718e-04 - val_loss: 0.0013\n",
            "Epoch 112/500\n",
            "23/23 [==============================] - 0s 5ms/step - loss: 1.6766e-04 - val_loss: 0.0016\n",
            "Epoch 113/500\n",
            "23/23 [==============================] - 0s 5ms/step - loss: 1.9063e-04 - val_loss: 0.0019\n",
            "Epoch 114/500\n",
            "23/23 [==============================] - 0s 5ms/step - loss: 2.2139e-04 - val_loss: 0.0015\n",
            "Epoch 115/500\n",
            "23/23 [==============================] - 0s 5ms/step - loss: 1.7406e-04 - val_loss: 0.0024\n",
            "Epoch 116/500\n",
            "23/23 [==============================] - 0s 5ms/step - loss: 1.3597e-04 - val_loss: 0.0015\n",
            "Epoch 117/500\n",
            "23/23 [==============================] - 0s 5ms/step - loss: 1.1007e-04 - val_loss: 0.0023\n",
            "Epoch 118/500\n",
            "23/23 [==============================] - 0s 5ms/step - loss: 1.5160e-04 - val_loss: 0.0017\n",
            "Epoch 119/500\n",
            "23/23 [==============================] - 0s 5ms/step - loss: 1.6646e-04 - val_loss: 0.0015\n",
            "Epoch 120/500\n",
            "23/23 [==============================] - 0s 5ms/step - loss: 1.2532e-04 - val_loss: 0.0013\n",
            "Epoch 121/500\n",
            "23/23 [==============================] - 0s 5ms/step - loss: 1.2096e-04 - val_loss: 0.0024\n",
            "Epoch 122/500\n",
            "23/23 [==============================] - 0s 5ms/step - loss: 8.8772e-05 - val_loss: 0.0013\n",
            "Epoch 123/500\n",
            "23/23 [==============================] - 0s 5ms/step - loss: 1.4845e-04 - val_loss: 0.0019\n",
            "Epoch 124/500\n",
            "23/23 [==============================] - 0s 5ms/step - loss: 1.1298e-04 - val_loss: 0.0015\n",
            "Epoch 125/500\n",
            "23/23 [==============================] - 0s 5ms/step - loss: 6.7492e-05 - val_loss: 0.0013\n",
            "Epoch 126/500\n",
            "23/23 [==============================] - 0s 5ms/step - loss: 5.9564e-05 - val_loss: 0.0017\n",
            "Epoch 127/500\n",
            "23/23 [==============================] - 0s 5ms/step - loss: 1.9834e-04 - val_loss: 0.0012\n",
            "Epoch 128/500\n",
            "23/23 [==============================] - 0s 5ms/step - loss: 1.7971e-04 - val_loss: 0.0017\n",
            "Epoch 129/500\n",
            "23/23 [==============================] - 0s 5ms/step - loss: 5.9645e-05 - val_loss: 0.0016\n",
            "Epoch 130/500\n",
            "23/23 [==============================] - 0s 5ms/step - loss: 2.5751e-05 - val_loss: 0.0016\n",
            "Epoch 131/500\n",
            "23/23 [==============================] - 0s 5ms/step - loss: 1.7263e-05 - val_loss: 0.0017\n",
            "Epoch 132/500\n",
            "23/23 [==============================] - 0s 5ms/step - loss: 1.2595e-05 - val_loss: 0.0015\n",
            "Epoch 133/500\n",
            "23/23 [==============================] - 0s 5ms/step - loss: 1.1803e-05 - val_loss: 0.0015\n",
            "Epoch 134/500\n",
            "23/23 [==============================] - 0s 5ms/step - loss: 6.5153e-06 - val_loss: 0.0017\n",
            "Epoch 135/500\n",
            "23/23 [==============================] - 0s 5ms/step - loss: 1.5784e-05 - val_loss: 0.0014\n",
            "Epoch 136/500\n",
            "23/23 [==============================] - 0s 5ms/step - loss: 1.0757e-05 - val_loss: 0.0015\n",
            "Epoch 137/500\n",
            "23/23 [==============================] - 0s 5ms/step - loss: 1.0925e-05 - val_loss: 0.0016\n",
            "Epoch 138/500\n",
            "23/23 [==============================] - 0s 5ms/step - loss: 1.4682e-05 - val_loss: 0.0014\n",
            "Epoch 139/500\n",
            "23/23 [==============================] - 0s 5ms/step - loss: 9.4065e-06 - val_loss: 0.0015\n",
            "Epoch 140/500\n",
            "23/23 [==============================] - 0s 5ms/step - loss: 1.3900e-05 - val_loss: 0.0016\n",
            "Epoch 141/500\n",
            "23/23 [==============================] - 0s 5ms/step - loss: 1.4481e-05 - val_loss: 0.0016\n",
            "Epoch 142/500\n",
            "23/23 [==============================] - 0s 5ms/step - loss: 3.3756e-05 - val_loss: 0.0015\n",
            "Epoch 143/500\n",
            "23/23 [==============================] - 0s 5ms/step - loss: 2.8569e-05 - val_loss: 0.0015\n",
            "Epoch 144/500\n",
            "23/23 [==============================] - 0s 6ms/step - loss: 1.5834e-05 - val_loss: 0.0017\n",
            "Epoch 145/500\n",
            "23/23 [==============================] - 0s 5ms/step - loss: 2.4760e-05 - val_loss: 0.0014\n",
            "Epoch 146/500\n",
            "23/23 [==============================] - 0s 5ms/step - loss: 2.8620e-05 - val_loss: 0.0016\n",
            "Epoch 147/500\n",
            "23/23 [==============================] - 0s 5ms/step - loss: 2.8547e-05 - val_loss: 0.0014\n",
            "Epoch 148/500\n",
            "23/23 [==============================] - 0s 5ms/step - loss: 3.5224e-05 - val_loss: 0.0016\n",
            "Epoch 149/500\n",
            "23/23 [==============================] - 0s 5ms/step - loss: 2.4139e-05 - val_loss: 0.0016\n",
            "Epoch 150/500\n",
            "23/23 [==============================] - 0s 5ms/step - loss: 2.6906e-05 - val_loss: 0.0015\n",
            "Epoch 151/500\n",
            "23/23 [==============================] - 0s 5ms/step - loss: 2.8807e-05 - val_loss: 0.0017\n",
            "Epoch 152/500\n",
            "23/23 [==============================] - 0s 5ms/step - loss: 3.0354e-05 - val_loss: 0.0014\n",
            "Epoch 153/500\n",
            "23/23 [==============================] - 0s 5ms/step - loss: 4.0701e-05 - val_loss: 0.0013\n",
            "Epoch 154/500\n",
            "23/23 [==============================] - 0s 5ms/step - loss: 5.9291e-05 - val_loss: 0.0014\n",
            "Epoch 155/500\n",
            "23/23 [==============================] - 0s 5ms/step - loss: 5.1312e-05 - val_loss: 0.0018\n",
            "Epoch 156/500\n",
            "23/23 [==============================] - 0s 5ms/step - loss: 1.0568e-04 - val_loss: 0.0012\n",
            "Epoch 157/500\n",
            "23/23 [==============================] - 0s 5ms/step - loss: 8.3824e-05 - val_loss: 0.0014\n",
            "Epoch 158/500\n",
            "23/23 [==============================] - 0s 5ms/step - loss: 1.3963e-04 - val_loss: 0.0013\n",
            "Epoch 159/500\n",
            "23/23 [==============================] - 0s 5ms/step - loss: 2.5359e-04 - val_loss: 0.0015\n",
            "Epoch 160/500\n",
            "23/23 [==============================] - 0s 5ms/step - loss: 1.6520e-04 - val_loss: 0.0016\n",
            "Epoch 161/500\n",
            "23/23 [==============================] - 0s 5ms/step - loss: 0.0021 - val_loss: 0.0016\n",
            "Epoch 162/500\n",
            "23/23 [==============================] - 0s 5ms/step - loss: 0.0014 - val_loss: 0.0023\n",
            "Epoch 163/500\n",
            "23/23 [==============================] - 0s 5ms/step - loss: 4.1288e-04 - val_loss: 0.0020\n",
            "Epoch 164/500\n",
            "23/23 [==============================] - 0s 5ms/step - loss: 3.0396e-04 - val_loss: 0.0017\n",
            "Epoch 165/500\n",
            "23/23 [==============================] - 0s 5ms/step - loss: 2.6680e-04 - val_loss: 0.0011\n",
            "Epoch 166/500\n",
            "23/23 [==============================] - 0s 5ms/step - loss: 1.5320e-04 - val_loss: 0.0011\n",
            "Epoch 167/500\n",
            "23/23 [==============================] - 0s 5ms/step - loss: 1.5493e-04 - val_loss: 0.0013\n",
            "Epoch 168/500\n",
            "23/23 [==============================] - 0s 5ms/step - loss: 1.2109e-04 - val_loss: 0.0011\n",
            "Epoch 169/500\n",
            "23/23 [==============================] - 0s 5ms/step - loss: 9.8923e-05 - val_loss: 9.8709e-04\n",
            "Epoch 170/500\n",
            "23/23 [==============================] - 0s 5ms/step - loss: 7.6210e-05 - val_loss: 0.0011\n",
            "Epoch 171/500\n",
            "23/23 [==============================] - 0s 5ms/step - loss: 9.0814e-05 - val_loss: 0.0011\n",
            "Epoch 172/500\n",
            "23/23 [==============================] - 0s 5ms/step - loss: 6.1965e-05 - val_loss: 0.0011\n",
            "Epoch 173/500\n",
            "23/23 [==============================] - 0s 5ms/step - loss: 5.4525e-05 - val_loss: 0.0010\n",
            "Epoch 174/500\n",
            "23/23 [==============================] - 0s 5ms/step - loss: 4.3402e-05 - val_loss: 0.0012\n",
            "Epoch 175/500\n",
            "23/23 [==============================] - 0s 5ms/step - loss: 3.8728e-05 - val_loss: 0.0012\n",
            "Epoch 176/500\n",
            "23/23 [==============================] - 0s 5ms/step - loss: 3.2996e-05 - val_loss: 0.0011\n",
            "Epoch 177/500\n",
            "23/23 [==============================] - 0s 5ms/step - loss: 3.0307e-05 - val_loss: 0.0010\n",
            "Epoch 178/500\n",
            "23/23 [==============================] - 0s 5ms/step - loss: 3.5221e-05 - val_loss: 0.0010\n",
            "Epoch 179/500\n",
            "23/23 [==============================] - 0s 5ms/step - loss: 2.6921e-05 - val_loss: 0.0011\n",
            "Epoch 180/500\n",
            "23/23 [==============================] - 0s 5ms/step - loss: 2.2484e-05 - val_loss: 0.0012\n",
            "Epoch 181/500\n",
            "23/23 [==============================] - 0s 5ms/step - loss: 2.3286e-05 - val_loss: 0.0012\n",
            "Epoch 182/500\n",
            "23/23 [==============================] - 0s 5ms/step - loss: 2.2775e-05 - val_loss: 0.0011\n",
            "Epoch 183/500\n",
            "23/23 [==============================] - 0s 5ms/step - loss: 1.7748e-05 - val_loss: 0.0011\n",
            "Epoch 184/500\n",
            "23/23 [==============================] - 0s 5ms/step - loss: 1.4238e-05 - val_loss: 0.0011\n",
            "Epoch 185/500\n",
            "23/23 [==============================] - 0s 5ms/step - loss: 1.4584e-05 - val_loss: 0.0011\n",
            "Epoch 186/500\n",
            "23/23 [==============================] - 0s 5ms/step - loss: 1.3061e-05 - val_loss: 0.0012\n",
            "Epoch 187/500\n",
            "23/23 [==============================] - 0s 5ms/step - loss: 1.2629e-05 - val_loss: 0.0011\n",
            "Epoch 188/500\n",
            "23/23 [==============================] - 0s 5ms/step - loss: 1.0218e-05 - val_loss: 0.0010\n",
            "Epoch 189/500\n",
            "23/23 [==============================] - 0s 5ms/step - loss: 9.7300e-06 - val_loss: 0.0011\n",
            "Epoch 190/500\n",
            "23/23 [==============================] - 0s 5ms/step - loss: 3.8046e-05 - val_loss: 0.0011\n",
            "Epoch 191/500\n",
            "23/23 [==============================] - 0s 5ms/step - loss: 1.5930e-05 - val_loss: 0.0011\n",
            "Epoch 192/500\n",
            "23/23 [==============================] - 0s 5ms/step - loss: 1.3526e-05 - val_loss: 0.0011\n",
            "Epoch 193/500\n",
            "23/23 [==============================] - 0s 5ms/step - loss: 1.0344e-05 - val_loss: 0.0011\n",
            "Epoch 194/500\n",
            "23/23 [==============================] - 0s 5ms/step - loss: 1.2622e-05 - val_loss: 0.0011\n",
            "Epoch 195/500\n",
            "23/23 [==============================] - 0s 5ms/step - loss: 9.8354e-06 - val_loss: 0.0011\n",
            "Epoch 196/500\n",
            "23/23 [==============================] - 0s 5ms/step - loss: 7.4190e-06 - val_loss: 0.0011\n",
            "Epoch 197/500\n",
            "23/23 [==============================] - 0s 5ms/step - loss: 8.3288e-06 - val_loss: 0.0011\n",
            "Epoch 198/500\n",
            "23/23 [==============================] - 0s 5ms/step - loss: 7.9423e-06 - val_loss: 0.0011\n",
            "Epoch 199/500\n",
            "23/23 [==============================] - 0s 5ms/step - loss: 8.1653e-06 - val_loss: 0.0011\n",
            "Epoch 200/500\n",
            "23/23 [==============================] - 0s 5ms/step - loss: 8.1197e-06 - val_loss: 0.0010\n",
            "Epoch 201/500\n",
            "23/23 [==============================] - 0s 5ms/step - loss: 6.4211e-06 - val_loss: 0.0011\n",
            "Epoch 202/500\n",
            "23/23 [==============================] - 0s 5ms/step - loss: 9.8737e-06 - val_loss: 0.0011\n",
            "Epoch 203/500\n",
            "23/23 [==============================] - 0s 5ms/step - loss: 1.3966e-05 - val_loss: 0.0011\n",
            "Epoch 204/500\n",
            "23/23 [==============================] - 0s 5ms/step - loss: 7.0089e-06 - val_loss: 0.0011\n",
            "Epoch 205/500\n",
            "23/23 [==============================] - 0s 5ms/step - loss: 7.0292e-06 - val_loss: 0.0012\n",
            "Epoch 206/500\n",
            "23/23 [==============================] - 0s 5ms/step - loss: 1.4224e-05 - val_loss: 0.0011\n",
            "Epoch 207/500\n",
            "23/23 [==============================] - 0s 5ms/step - loss: 8.5882e-06 - val_loss: 0.0011\n",
            "Epoch 208/500\n",
            "23/23 [==============================] - 0s 5ms/step - loss: 6.9012e-06 - val_loss: 0.0011\n",
            "Epoch 209/500\n",
            "23/23 [==============================] - 0s 5ms/step - loss: 6.8594e-06 - val_loss: 0.0011\n",
            "Epoch 210/500\n",
            "23/23 [==============================] - 0s 5ms/step - loss: 4.5145e-06 - val_loss: 0.0011\n",
            "Epoch 211/500\n",
            "23/23 [==============================] - 0s 5ms/step - loss: 5.4649e-06 - val_loss: 0.0011\n",
            "Epoch 212/500\n",
            "23/23 [==============================] - 0s 5ms/step - loss: 5.0617e-06 - val_loss: 0.0011\n",
            "Epoch 213/500\n",
            "23/23 [==============================] - 0s 5ms/step - loss: 5.8545e-06 - val_loss: 0.0011\n",
            "Epoch 214/500\n",
            "23/23 [==============================] - 0s 5ms/step - loss: 8.0436e-06 - val_loss: 0.0011\n",
            "Epoch 215/500\n",
            "23/23 [==============================] - 0s 5ms/step - loss: 9.2965e-06 - val_loss: 0.0011\n",
            "Epoch 216/500\n",
            "23/23 [==============================] - 0s 5ms/step - loss: 3.2588e-04 - val_loss: 0.0012\n",
            "Epoch 217/500\n",
            "23/23 [==============================] - 0s 5ms/step - loss: 4.2548e-04 - val_loss: 0.0018\n",
            "Epoch 218/500\n",
            "23/23 [==============================] - 0s 5ms/step - loss: 2.2977e-04 - val_loss: 0.0013\n",
            "Epoch 219/500\n",
            "23/23 [==============================] - 0s 5ms/step - loss: 9.9867e-05 - val_loss: 0.0012\n"
          ]
        },
        {
          "data": {
            "text/plain": [
              "<keras.callbacks.History at 0x2c3410e50>"
            ]
          },
          "execution_count": 20,
          "metadata": {},
          "output_type": "execute_result"
        }
      ],
      "source": [
        "epochs=500\n",
        "normalizer = Normalization(axis=-1) \n",
        "model = Sequential(normalizer) # scale the input variables\n",
        "model.add(Dense(neurons, activation=act_fn)) #define a single dense layer\n",
        "model.add(Dense(1)) # output layer\n",
        "model.compile(loss=loss, optimizer=optimizer) # Huber loss, mean square error\n",
        "model.fit(X_train,y_train,validation_data = (X_valid,y_valid),epochs=epochs,callbacks=[early_stop]) #fit the model"
      ]
    },
    {
      "cell_type": "code",
      "execution_count": 21,
      "metadata": {
        "colab": {
          "base_uri": "https://localhost:8080/"
        },
        "id": "u_9PrUbLj6PM",
        "outputId": "985d21d6-f331-41ef-f0be-fa223d2fcd70"
      },
      "outputs": [
        {
          "name": "stdout",
          "output_type": "stream",
          "text": [
            "1/1 [==============================] - 0s 15ms/step - loss: 0.0373\n"
          ]
        },
        {
          "data": {
            "text/plain": [
              "0.037323422729969025"
            ]
          },
          "execution_count": 21,
          "metadata": {},
          "output_type": "execute_result"
        }
      ],
      "source": [
        "model.evaluate(X_test,y_test) "
      ]
    },
    {
      "cell_type": "code",
      "execution_count": 22,
      "metadata": {
        "colab": {
          "base_uri": "https://localhost:8080/"
        },
        "id": "n1YiJXjMj9D0",
        "outputId": "33f5653d-6a7a-431d-e0a4-cd742315dde1"
      },
      "outputs": [
        {
          "name": "stderr",
          "output_type": "stream",
          "text": [
            "2022-05-16 16:36:26.492692: I tensorflow/core/grappler/optimizers/custom_graph_optimizer_registry.cc:113] Plugin optimizer for device_type GPU is enabled.\n"
          ]
        }
      ],
      "source": [
        "y_pred_nn1 = model.predict(X_test)"
      ]
    },
    {
      "cell_type": "code",
      "execution_count": 23,
      "metadata": {
        "colab": {
          "base_uri": "https://localhost:8080/",
          "height": 298
        },
        "id": "VPPNFOcPkcx6",
        "outputId": "4792061a-b6ee-4472-9243-9c4b99adbc7c"
      },
      "outputs": [
        {
          "data": {
            "text/plain": [
              "Text(0.5, 1.0, 'Shallow NeuralNet Forecast')"
            ]
          },
          "execution_count": 23,
          "metadata": {},
          "output_type": "execute_result"
        },
        {
          "data": {
            "image/png": "[encoded data removed]",
            "text/plain": [
              "<Figure size 432x288 with 1 Axes>"
            ]
          },
          "metadata": {
            "needs_background": "light"
          },
          "output_type": "display_data"
        }
      ],
      "source": [
        "X_grid = np.arange(len(X_test))\n",
        "X_grid = X_grid.reshape((len(X_grid), 1))\n",
        "plt.plot(X_grid,y_test)\n",
        "#plt.xlabel('date')\n",
        "plt.plot(X_grid,y_pred_nn1)\n",
        "plt.legend(('Actual','Forecast - NN1'))\n",
        "plt.title('Shallow NeuralNet Forecast')\n",
        "#plt.savefig('Shallow NeuralNet Test')"
      ]
    },
    {
      "cell_type": "markdown",
      "metadata": {
        "id": "SGZw_aCLlxzD"
      },
      "source": [
        "## Neural Net with 3 Layers"
      ]
    },
    {
      "cell_type": "code",
      "execution_count": 24,
      "metadata": {
        "id": "Ifjxve76lw_I"
      },
      "outputs": [
        {
          "name": "stdout",
          "output_type": "stream",
          "text": [
            "Epoch 1/500\n",
            "10/23 [============>.................] - ETA: 0s - loss: 0.0067"
          ]
        },
        {
          "name": "stderr",
          "output_type": "stream",
          "text": [
            "2022-05-16 16:36:33.101853: I tensorflow/core/grappler/optimizers/custom_graph_optimizer_registry.cc:113] Plugin optimizer for device_type GPU is enabled.\n"
          ]
        },
        {
          "name": "stdout",
          "output_type": "stream",
          "text": [
            "23/23 [==============================] - 1s 13ms/step - loss: 0.0040 - val_loss: 0.0032\n",
            "Epoch 2/500\n",
            "23/23 [==============================] - 0s 6ms/step - loss: 0.0010 - val_loss: 0.0011\n",
            "Epoch 3/500\n",
            " 1/23 [>.............................] - ETA: 0s - loss: 8.7125e-04"
          ]
        },
        {
          "name": "stderr",
          "output_type": "stream",
          "text": [
            "2022-05-16 16:36:33.458299: I tensorflow/core/grappler/optimizers/custom_graph_optimizer_registry.cc:113] Plugin optimizer for device_type GPU is enabled.\n"
          ]
        },
        {
          "name": "stdout",
          "output_type": "stream",
          "text": [
            "23/23 [==============================] - 0s 6ms/step - loss: 7.6251e-04 - val_loss: 0.0011\n",
            "Epoch 4/500\n",
            "23/23 [==============================] - 0s 6ms/step - loss: 6.3221e-04 - val_loss: 0.0010\n",
            "Epoch 5/500\n",
            "23/23 [==============================] - 0s 6ms/step - loss: 5.3771e-04 - val_loss: 0.0012\n",
            "Epoch 6/500\n",
            "23/23 [==============================] - 0s 6ms/step - loss: 5.1688e-04 - val_loss: 7.8079e-04\n",
            "Epoch 7/500\n",
            "23/23 [==============================] - 0s 6ms/step - loss: 4.4579e-04 - val_loss: 0.0011\n",
            "Epoch 8/500\n",
            "23/23 [==============================] - 0s 6ms/step - loss: 3.8267e-04 - val_loss: 8.8275e-04\n",
            "Epoch 9/500\n",
            "23/23 [==============================] - 0s 6ms/step - loss: 4.3662e-04 - val_loss: 8.6578e-04\n",
            "Epoch 10/500\n",
            "23/23 [==============================] - 0s 7ms/step - loss: 3.6347e-04 - val_loss: 8.5752e-04\n",
            "Epoch 11/500\n",
            "23/23 [==============================] - 0s 6ms/step - loss: 3.0446e-04 - val_loss: 9.9243e-04\n",
            "Epoch 12/500\n",
            "23/23 [==============================] - 0s 6ms/step - loss: 2.5163e-04 - val_loss: 0.0011\n",
            "Epoch 13/500\n",
            "23/23 [==============================] - 0s 6ms/step - loss: 2.4449e-04 - val_loss: 9.4058e-04\n",
            "Epoch 14/500\n",
            "23/23 [==============================] - 0s 6ms/step - loss: 2.1431e-04 - val_loss: 0.0013\n",
            "Epoch 15/500\n",
            "23/23 [==============================] - 0s 6ms/step - loss: 2.1906e-04 - val_loss: 0.0010\n",
            "Epoch 16/500\n",
            "23/23 [==============================] - 0s 6ms/step - loss: 2.0037e-04 - val_loss: 0.0011\n",
            "Epoch 17/500\n",
            "23/23 [==============================] - 0s 6ms/step - loss: 1.6233e-04 - val_loss: 0.0010\n",
            "Epoch 18/500\n",
            "23/23 [==============================] - 0s 6ms/step - loss: 1.6319e-04 - val_loss: 0.0010\n",
            "Epoch 19/500\n",
            "23/23 [==============================] - 0s 6ms/step - loss: 1.8651e-04 - val_loss: 0.0010\n",
            "Epoch 20/500\n",
            "23/23 [==============================] - 0s 6ms/step - loss: 1.5429e-04 - val_loss: 0.0010\n",
            "Epoch 21/500\n",
            "23/23 [==============================] - 0s 6ms/step - loss: 1.4230e-04 - val_loss: 0.0011\n",
            "Epoch 22/500\n",
            "23/23 [==============================] - 0s 6ms/step - loss: 1.2459e-04 - val_loss: 0.0011\n",
            "Epoch 23/500\n",
            "23/23 [==============================] - 0s 6ms/step - loss: 1.0334e-04 - val_loss: 0.0012\n",
            "Epoch 24/500\n",
            "23/23 [==============================] - 0s 6ms/step - loss: 1.0813e-04 - val_loss: 0.0011\n",
            "Epoch 25/500\n",
            "23/23 [==============================] - 0s 6ms/step - loss: 1.0036e-04 - val_loss: 0.0011\n",
            "Epoch 26/500\n",
            "23/23 [==============================] - 0s 6ms/step - loss: 9.2238e-05 - val_loss: 0.0011\n",
            "Epoch 27/500\n",
            "23/23 [==============================] - 0s 6ms/step - loss: 7.7625e-05 - val_loss: 0.0014\n",
            "Epoch 28/500\n",
            "23/23 [==============================] - 0s 6ms/step - loss: 9.6474e-05 - val_loss: 0.0012\n",
            "Epoch 29/500\n",
            "23/23 [==============================] - 0s 6ms/step - loss: 1.2233e-04 - val_loss: 9.1134e-04\n",
            "Epoch 30/500\n",
            "23/23 [==============================] - 0s 6ms/step - loss: 1.1066e-04 - val_loss: 0.0012\n",
            "Epoch 31/500\n",
            "23/23 [==============================] - 0s 6ms/step - loss: 1.2256e-04 - val_loss: 0.0012\n",
            "Epoch 32/500\n",
            "23/23 [==============================] - 0s 6ms/step - loss: 9.6482e-05 - val_loss: 0.0013\n",
            "Epoch 33/500\n",
            "23/23 [==============================] - 0s 7ms/step - loss: 7.6046e-05 - val_loss: 0.0010\n",
            "Epoch 34/500\n",
            "23/23 [==============================] - 0s 6ms/step - loss: 6.6738e-05 - val_loss: 0.0012\n",
            "Epoch 35/500\n",
            "23/23 [==============================] - 0s 6ms/step - loss: 6.3922e-05 - val_loss: 0.0011\n",
            "Epoch 36/500\n",
            "23/23 [==============================] - 0s 6ms/step - loss: 1.3860e-04 - val_loss: 9.9694e-04\n",
            "Epoch 37/500\n",
            "23/23 [==============================] - 0s 6ms/step - loss: 1.1735e-04 - val_loss: 0.0012\n",
            "Epoch 38/500\n",
            "23/23 [==============================] - 0s 6ms/step - loss: 9.3492e-05 - val_loss: 0.0011\n",
            "Epoch 39/500\n",
            "23/23 [==============================] - 0s 6ms/step - loss: 5.3754e-05 - val_loss: 0.0012\n",
            "Epoch 40/500\n",
            "23/23 [==============================] - 0s 6ms/step - loss: 4.7439e-05 - val_loss: 0.0014\n",
            "Epoch 41/500\n",
            "23/23 [==============================] - 0s 6ms/step - loss: 7.3481e-05 - val_loss: 0.0014\n",
            "Epoch 42/500\n",
            "23/23 [==============================] - 0s 6ms/step - loss: 8.6922e-05 - val_loss: 0.0012\n",
            "Epoch 43/500\n",
            "23/23 [==============================] - 0s 6ms/step - loss: 5.4150e-05 - val_loss: 9.4705e-04\n",
            "Epoch 44/500\n",
            "23/23 [==============================] - 0s 6ms/step - loss: 4.7678e-05 - val_loss: 0.0011\n",
            "Epoch 45/500\n",
            "23/23 [==============================] - 0s 6ms/step - loss: 4.1388e-05 - val_loss: 0.0011\n",
            "Epoch 46/500\n",
            "23/23 [==============================] - 0s 6ms/step - loss: 3.5874e-05 - val_loss: 0.0012\n",
            "Epoch 47/500\n",
            "23/23 [==============================] - 0s 6ms/step - loss: 2.4189e-05 - val_loss: 0.0011\n",
            "Epoch 48/500\n",
            "23/23 [==============================] - 0s 7ms/step - loss: 2.0772e-05 - val_loss: 0.0012\n",
            "Epoch 49/500\n",
            "23/23 [==============================] - 0s 6ms/step - loss: 1.5624e-05 - val_loss: 0.0012\n",
            "Epoch 50/500\n",
            "23/23 [==============================] - 0s 6ms/step - loss: 2.7355e-05 - val_loss: 0.0011\n",
            "Epoch 51/500\n",
            "23/23 [==============================] - 0s 6ms/step - loss: 3.1813e-05 - val_loss: 0.0010\n",
            "Epoch 52/500\n",
            "23/23 [==============================] - 0s 6ms/step - loss: 2.2956e-05 - val_loss: 0.0012\n",
            "Epoch 53/500\n",
            "23/23 [==============================] - 0s 6ms/step - loss: 2.1768e-05 - val_loss: 0.0013\n",
            "Epoch 54/500\n",
            "23/23 [==============================] - 0s 6ms/step - loss: 2.6867e-05 - val_loss: 0.0013\n",
            "Epoch 55/500\n",
            "23/23 [==============================] - 0s 6ms/step - loss: 2.4419e-05 - val_loss: 0.0010\n",
            "Epoch 56/500\n",
            "23/23 [==============================] - 0s 6ms/step - loss: 1.5685e-05 - val_loss: 0.0013\n"
          ]
        },
        {
          "data": {
            "text/plain": [
              "8.286339044570923"
            ]
          },
          "execution_count": 24,
          "metadata": {},
          "output_type": "execute_result"
        }
      ],
      "source": [
        "start_time = time.time()\n",
        "epochs = 500\n",
        "normalizer = Normalization(axis=-1)\n",
        "model_dnn = Sequential(normalizer) # scale the input variables\n",
        "model_dnn.add(Dense(119, activation=act_fn)) #define first dense layer with 119 neurons\n",
        "model_dnn.add(Dense(50,  activation=act_fn)) #define first dense layer with 50 neurons\n",
        "model_dnn.add(Dense(25,  activation=act_fn)) #define second dense layer with 25 neurons\n",
        "model_dnn.add(Dense(1)) # output layer\n",
        "model_dnn.compile(loss=loss, optimizer=optimizer) # define the loss and optimizer\n",
        "model_dnn.fit(X_train,y_train,validation_data = (X_valid,y_valid),epochs=epochs,callbacks=[early_stop]) #fit the model\n",
        "end_time = time.time()\n",
        "end_time - start_time"
      ]
    },
    {
      "cell_type": "code",
      "execution_count": 25,
      "metadata": {
        "colab": {
          "base_uri": "https://localhost:8080/"
        },
        "id": "rbA0L--Kmnrl",
        "outputId": "f54e37d0-d5ca-4a85-ce76-7c04f68d79a4"
      },
      "outputs": [
        {
          "name": "stdout",
          "output_type": "stream",
          "text": [
            "1/1 [==============================] - 0s 15ms/step - loss: 0.0316\n"
          ]
        },
        {
          "data": {
            "text/plain": [
              "0.031626664102077484"
            ]
          },
          "execution_count": 25,
          "metadata": {},
          "output_type": "execute_result"
        }
      ],
      "source": [
        "model_dnn.evaluate(X_test,y_test) "
      ]
    },
    {
      "cell_type": "code",
      "execution_count": 26,
      "metadata": {
        "id": "WwReg3Aemq6Z"
      },
      "outputs": [
        {
          "name": "stderr",
          "output_type": "stream",
          "text": [
            "2022-05-16 16:37:03.441490: I tensorflow/core/grappler/optimizers/custom_graph_optimizer_registry.cc:113] Plugin optimizer for device_type GPU is enabled.\n"
          ]
        }
      ],
      "source": [
        "y_pred_nn3 = model_dnn.predict(X_test)"
      ]
    },
    {
      "cell_type": "code",
      "execution_count": 27,
      "metadata": {
        "colab": {
          "base_uri": "https://localhost:8080/",
          "height": 298
        },
        "id": "lTtaexjPmn_F",
        "outputId": "59dbdf07-0379-4bdc-c489-c232d701ee15"
      },
      "outputs": [
        {
          "data": {
            "text/plain": [
              "Text(0.5, 1.0, 'NeuralNet Test data')"
            ]
          },
          "execution_count": 27,
          "metadata": {},
          "output_type": "execute_result"
        },
        {
          "data": {
            "image/png": "[encoded data removed]",
            "text/plain": [
              "<Figure size 432x288 with 1 Axes>"
            ]
          },
          "metadata": {
            "needs_background": "light"
          },
          "output_type": "display_data"
        }
      ],
      "source": [
        "X_grid = np.arange(len(X_test))\n",
        "X_grid = X_grid.reshape((len(X_grid), 1))\n",
        "plt.plot(X_grid,y_test)\n",
        "#plt.xlabel('date')\n",
        "plt.plot(X_grid,y_pred_nn1)\n",
        "plt.plot(X_grid,y_pred_nn3)\n",
        "plt.legend(('Actual','Forecast - NN1','Forecast - NN3'))\n",
        "plt.title('NeuralNet Test data')\n",
        "#plt.savefig('NeuralNet Test')"
      ]
    },
    {
      "cell_type": "code",
      "execution_count": 28,
      "metadata": {
        "id": "rVXEkt9GoBWX"
      },
      "outputs": [
        {
          "name": "stdout",
          "output_type": "stream",
          "text": [
            "Epoch 1/500\n"
          ]
        },
        {
          "name": "stderr",
          "output_type": "stream",
          "text": [
            "2022-05-16 16:37:20.511677: I tensorflow/core/grappler/optimizers/custom_graph_optimizer_registry.cc:113] Plugin optimizer for device_type GPU is enabled.\n"
          ]
        },
        {
          "name": "stdout",
          "output_type": "stream",
          "text": [
            "23/23 [==============================] - 1s 18ms/step - loss: 0.0011 - val_loss: 8.4785e-04\n",
            "Epoch 2/500\n",
            "23/23 [==============================] - 0s 7ms/step - loss: 8.1080e-04 - val_loss: 7.0066e-04\n",
            "Epoch 3/500\n"
          ]
        },
        {
          "name": "stderr",
          "output_type": "stream",
          "text": [
            "2022-05-16 16:37:21.308121: I tensorflow/core/grappler/optimizers/custom_graph_optimizer_registry.cc:113] Plugin optimizer for device_type GPU is enabled.\n"
          ]
        },
        {
          "name": "stdout",
          "output_type": "stream",
          "text": [
            "23/23 [==============================] - 0s 7ms/step - loss: 7.6517e-04 - val_loss: 7.0222e-04\n",
            "Epoch 4/500\n",
            "23/23 [==============================] - 0s 7ms/step - loss: 7.7641e-04 - val_loss: 7.9515e-04\n",
            "Epoch 5/500\n",
            "23/23 [==============================] - 0s 7ms/step - loss: 6.9546e-04 - val_loss: 0.0012\n",
            "Epoch 6/500\n",
            "23/23 [==============================] - 0s 7ms/step - loss: 6.5321e-04 - val_loss: 0.0012\n",
            "Epoch 7/500\n",
            "23/23 [==============================] - 0s 7ms/step - loss: 5.8775e-04 - val_loss: 9.5357e-04\n",
            "Epoch 8/500\n",
            "23/23 [==============================] - 0s 6ms/step - loss: 5.4379e-04 - val_loss: 7.7560e-04\n",
            "Epoch 9/500\n",
            "23/23 [==============================] - 0s 7ms/step - loss: 5.1657e-04 - val_loss: 8.3208e-04\n",
            "Epoch 10/500\n",
            "23/23 [==============================] - 0s 7ms/step - loss: 4.6948e-04 - val_loss: 6.4034e-04\n",
            "Epoch 11/500\n",
            "23/23 [==============================] - 0s 6ms/step - loss: 4.4484e-04 - val_loss: 5.7034e-04\n",
            "Epoch 12/500\n",
            "23/23 [==============================] - 0s 6ms/step - loss: 4.0193e-04 - val_loss: 6.9481e-04\n",
            "Epoch 13/500\n",
            "23/23 [==============================] - 0s 7ms/step - loss: 4.6968e-04 - val_loss: 5.9908e-04\n",
            "Epoch 14/500\n",
            "23/23 [==============================] - 0s 6ms/step - loss: 3.8286e-04 - val_loss: 7.5175e-04\n",
            "Epoch 15/500\n",
            "23/23 [==============================] - 0s 7ms/step - loss: 3.3472e-04 - val_loss: 5.7561e-04\n",
            "Epoch 16/500\n",
            "23/23 [==============================] - 0s 7ms/step - loss: 3.6250e-04 - val_loss: 5.9539e-04\n",
            "Epoch 17/500\n",
            "23/23 [==============================] - 0s 7ms/step - loss: 3.4126e-04 - val_loss: 6.7111e-04\n",
            "Epoch 18/500\n",
            "23/23 [==============================] - 0s 7ms/step - loss: 3.2779e-04 - val_loss: 5.9504e-04\n",
            "Epoch 19/500\n",
            "23/23 [==============================] - 0s 6ms/step - loss: 3.2185e-04 - val_loss: 5.8637e-04\n",
            "Epoch 20/500\n",
            "23/23 [==============================] - 0s 7ms/step - loss: 2.4231e-04 - val_loss: 6.3677e-04\n",
            "Epoch 21/500\n",
            "23/23 [==============================] - 0s 6ms/step - loss: 2.3610e-04 - val_loss: 6.1306e-04\n",
            "Epoch 22/500\n",
            "23/23 [==============================] - 0s 6ms/step - loss: 1.8839e-04 - val_loss: 7.2108e-04\n",
            "Epoch 23/500\n",
            "23/23 [==============================] - 0s 6ms/step - loss: 1.8561e-04 - val_loss: 6.7514e-04\n",
            "Epoch 24/500\n",
            "23/23 [==============================] - 0s 6ms/step - loss: 1.5153e-04 - val_loss: 6.2100e-04\n",
            "Epoch 25/500\n",
            "23/23 [==============================] - 0s 7ms/step - loss: 1.4369e-04 - val_loss: 7.6310e-04\n",
            "Epoch 26/500\n",
            "23/23 [==============================] - 0s 6ms/step - loss: 1.2946e-04 - val_loss: 6.0649e-04\n",
            "Epoch 27/500\n",
            "23/23 [==============================] - 0s 6ms/step - loss: 1.0611e-04 - val_loss: 7.0035e-04\n",
            "Epoch 28/500\n",
            "23/23 [==============================] - 0s 6ms/step - loss: 9.7241e-05 - val_loss: 6.4524e-04\n",
            "Epoch 29/500\n",
            "23/23 [==============================] - 0s 6ms/step - loss: 9.3006e-05 - val_loss: 6.8814e-04\n",
            "Epoch 30/500\n",
            "23/23 [==============================] - 0s 7ms/step - loss: 9.6383e-05 - val_loss: 6.3737e-04\n",
            "Epoch 31/500\n",
            "23/23 [==============================] - 0s 6ms/step - loss: 8.5577e-05 - val_loss: 6.5570e-04\n",
            "Epoch 32/500\n",
            "23/23 [==============================] - 0s 7ms/step - loss: 9.2860e-05 - val_loss: 8.6266e-04\n",
            "Epoch 33/500\n",
            "23/23 [==============================] - 0s 7ms/step - loss: 7.8963e-05 - val_loss: 7.2570e-04\n",
            "Epoch 34/500\n",
            "23/23 [==============================] - 0s 7ms/step - loss: 6.9641e-05 - val_loss: 7.3726e-04\n",
            "Epoch 35/500\n",
            "23/23 [==============================] - 0s 6ms/step - loss: 8.6833e-05 - val_loss: 6.8554e-04\n",
            "Epoch 36/500\n",
            "23/23 [==============================] - 0s 6ms/step - loss: 8.9812e-05 - val_loss: 8.6449e-04\n",
            "Epoch 37/500\n",
            "23/23 [==============================] - 0s 6ms/step - loss: 7.6445e-05 - val_loss: 7.6538e-04\n",
            "Epoch 38/500\n",
            "23/23 [==============================] - 0s 6ms/step - loss: 6.4416e-05 - val_loss: 7.3291e-04\n",
            "Epoch 39/500\n",
            "23/23 [==============================] - 0s 6ms/step - loss: 6.3999e-05 - val_loss: 7.4895e-04\n",
            "Epoch 40/500\n",
            "23/23 [==============================] - 0s 6ms/step - loss: 5.3496e-05 - val_loss: 7.3813e-04\n",
            "Epoch 41/500\n",
            "23/23 [==============================] - 0s 6ms/step - loss: 5.2758e-05 - val_loss: 7.7281e-04\n",
            "Epoch 42/500\n",
            "23/23 [==============================] - 0s 6ms/step - loss: 4.7376e-05 - val_loss: 8.1703e-04\n",
            "Epoch 43/500\n",
            "23/23 [==============================] - 0s 6ms/step - loss: 5.8960e-05 - val_loss: 8.8841e-04\n",
            "Epoch 44/500\n",
            "23/23 [==============================] - 0s 6ms/step - loss: 6.5209e-05 - val_loss: 8.9811e-04\n",
            "Epoch 45/500\n",
            "23/23 [==============================] - 0s 6ms/step - loss: 6.0072e-05 - val_loss: 8.4143e-04\n",
            "Epoch 46/500\n",
            "23/23 [==============================] - 0s 7ms/step - loss: 5.3011e-05 - val_loss: 7.4575e-04\n",
            "Epoch 47/500\n",
            "23/23 [==============================] - 0s 6ms/step - loss: 5.1606e-05 - val_loss: 8.0186e-04\n",
            "Epoch 48/500\n",
            "23/23 [==============================] - 0s 6ms/step - loss: 4.6811e-05 - val_loss: 9.1001e-04\n",
            "Epoch 49/500\n",
            "23/23 [==============================] - 0s 6ms/step - loss: 5.8940e-05 - val_loss: 7.9276e-04\n",
            "Epoch 50/500\n",
            "23/23 [==============================] - 0s 6ms/step - loss: 5.6818e-05 - val_loss: 8.9320e-04\n",
            "Epoch 51/500\n",
            "23/23 [==============================] - 0s 7ms/step - loss: 5.5964e-05 - val_loss: 7.5076e-04\n",
            "Epoch 52/500\n",
            "23/23 [==============================] - 0s 7ms/step - loss: 4.4445e-05 - val_loss: 6.8048e-04\n",
            "Epoch 53/500\n",
            "23/23 [==============================] - 0s 6ms/step - loss: 5.5516e-05 - val_loss: 8.3646e-04\n",
            "Epoch 54/500\n",
            "23/23 [==============================] - 0s 6ms/step - loss: 4.5682e-05 - val_loss: 8.4122e-04\n",
            "Epoch 55/500\n",
            "23/23 [==============================] - 0s 7ms/step - loss: 6.0183e-05 - val_loss: 8.0488e-04\n",
            "Epoch 56/500\n",
            "23/23 [==============================] - 0s 7ms/step - loss: 5.5568e-05 - val_loss: 8.9988e-04\n",
            "Epoch 57/500\n",
            "23/23 [==============================] - 0s 7ms/step - loss: 7.0760e-05 - val_loss: 7.8196e-04\n",
            "Epoch 58/500\n",
            "23/23 [==============================] - 0s 7ms/step - loss: 6.1032e-05 - val_loss: 8.6533e-04\n",
            "Epoch 59/500\n",
            "23/23 [==============================] - 0s 7ms/step - loss: 4.7452e-05 - val_loss: 7.8663e-04\n",
            "Epoch 60/500\n",
            "23/23 [==============================] - 0s 7ms/step - loss: 3.4936e-05 - val_loss: 7.9344e-04\n",
            "Epoch 61/500\n",
            "23/23 [==============================] - 0s 7ms/step - loss: 3.0330e-05 - val_loss: 8.2237e-04\n"
          ]
        },
        {
          "data": {
            "text/plain": [
              "<keras.callbacks.History at 0x2c844bf70>"
            ]
          },
          "execution_count": 28,
          "metadata": {},
          "output_type": "execute_result"
        }
      ],
      "source": [
        "epochs = 500\n",
        "normalizer = Normalization(axis=-1)\n",
        "model_dnn4 = Sequential(normalizer) # scale the input variables\n",
        "model_dnn4.add(Dense(119, activation=act_fn)) \n",
        "model_dnn4.add(Dense(50, activation=act_fn))\n",
        "model_dnn4.add(Dense(25, activation=act_fn))\n",
        "model_dnn4.add(Dense(12, activation=act_fn))\n",
        "model_dnn4.add(Dense(1)) # output layer\n",
        "model_dnn4.compile(loss=loss, optimizer=optimizer) # define the loss and optimizer\n",
        "model_dnn4.fit(X_train,y_train,validation_data = (X_valid,y_valid),epochs=epochs,callbacks=[early_stop]) #fit the model"
      ]
    },
    {
      "cell_type": "code",
      "execution_count": 29,
      "metadata": {
        "colab": {
          "base_uri": "https://localhost:8080/"
        },
        "id": "O4Zeqiz209EK",
        "outputId": "21b2e163-b88f-438b-c15e-4551a8c87776"
      },
      "outputs": [
        {
          "name": "stdout",
          "output_type": "stream",
          "text": [
            "1/1 [==============================] - 0s 15ms/step - loss: 0.0219\n"
          ]
        },
        {
          "data": {
            "text/plain": [
              "0.021928129717707634"
            ]
          },
          "execution_count": 29,
          "metadata": {},
          "output_type": "execute_result"
        }
      ],
      "source": [
        "model_dnn4.evaluate(X_test,y_test) "
      ]
    },
    {
      "cell_type": "code",
      "execution_count": 30,
      "metadata": {
        "id": "ky8J8MMV0PLN"
      },
      "outputs": [
        {
          "name": "stderr",
          "output_type": "stream",
          "text": [
            "2022-05-16 16:37:40.112627: I tensorflow/core/grappler/optimizers/custom_graph_optimizer_registry.cc:113] Plugin optimizer for device_type GPU is enabled.\n"
          ]
        }
      ],
      "source": [
        "y_pred_nn4 = model_dnn4.predict(X_test)"
      ]
    },
    {
      "cell_type": "code",
      "execution_count": 31,
      "metadata": {
        "colab": {
          "base_uri": "https://localhost:8080/",
          "height": 298
        },
        "id": "OUiuHJ780RrI",
        "outputId": "ddfd4aa1-8a46-4635-e082-3dc60478f33f"
      },
      "outputs": [
        {
          "data": {
            "text/plain": [
              "Text(0.5, 1.0, 'NeuralNet Test data')"
            ]
          },
          "execution_count": 31,
          "metadata": {},
          "output_type": "execute_result"
        },
        {
          "data": {
            "image/png": "[encoded data removed]",
            "text/plain": [
              "<Figure size 432x288 with 1 Axes>"
            ]
          },
          "metadata": {
            "needs_background": "light"
          },
          "output_type": "display_data"
        }
      ],
      "source": [
        "X_grid = np.arange(len(X_test))\n",
        "X_grid = X_grid.reshape((len(X_grid), 1))\n",
        "plt.plot(X_grid,y_test)\n",
        "#plt.xlabel('date')\n",
        "#plt.plot(X_grid,y_pred_nn1)\n",
        "plt.plot(X_grid,y_pred_nn3)\n",
        "plt.plot(X_grid,y_pred_nn4)\n",
        "plt.legend(('Actual','Forecast - NN3', 'Forecast - NN4'))\n",
        "plt.title('NeuralNet Test data')\n",
        "#plt.savefig('NeuralNet Test')"
      ]
    }
  ],
  "metadata": {
    "colab": {
      "collapsed_sections": [],
      "name": "MLP Hands On.ipynb",
      "provenance": []
    },
    "interpreter": {
      "hash": "a0ce2025c5f5b601305daa41e5dacab6ef395755c047fd94bd2ab00fe25f9a50"
    },
    "kernelspec": {
      "display_name": "Python 3.9.12 ('base')",
      "language": "python",
      "name": "python3"
    },
    "language_info": {
      "codemirror_mode": {
        "name": "ipython",
        "version": 3
      },
      "file_extension": ".py",
      "mimetype": "text/x-python",
      "name": "python",
      "nbconvert_exporter": "python",
      "pygments_lexer": "ipython3",
      "version": "3.9.12"
    }
  },
  "nbformat": 4,
  "nbformat_minor": 0
}
