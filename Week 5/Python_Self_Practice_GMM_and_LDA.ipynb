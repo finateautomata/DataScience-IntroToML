{
  "cells": [
    {
      "cell_type": "markdown",
      "metadata": {
        "id": "TEaBcUlamJby"
      },
      "source": [
        "# Practice Question\n",
        "\n",
        "## GMM\n",
        "\n",
        "1.1. Build a GMM on the Iris data (first 2 features) and tune your model for different covariance types.\n",
        "\n",
        "1.2. Plot the results as shown in the hands on.\n",
        "\n",
        "## LDA\n",
        "\n",
        "2.1. Perform Linear Discriminant Analysis on the Iris Data (first 2 features). \n",
        "\n",
        "2.2. Plot the results as shown in the hands on."
      ]
    },
    {
      "cell_type": "code",
      "execution_count": 11,
      "metadata": {
        "collapsed": true,
        "id": "c64m20zVmJb0"
      },
      "outputs": [],
      "source": [
        "from sklearn import datasets\n",
        "from sklearn.model_selection import train_test_split\n",
        "from sklearn.mixture import GaussianMixture\n",
        "from sklearn.metrics import accuracy_score\n",
        "import numpy as np\n",
        "import pandas as pd\n",
        "\n",
        "import matplotlib as mpl\n",
        "import matplotlib.pyplot as plt\n",
        "\n",
        "# Import libraries here"
      ]
    },
    {
      "cell_type": "code",
      "execution_count": 2,
      "metadata": {
        "collapsed": true,
        "id": "2jRYdMJQmJb1"
      },
      "outputs": [],
      "source": [
        "# Load the iris dataset\n",
        "iris = datasets.load_iris()\n",
        "X = iris.data[:, :2]\n",
        "y = iris.target"
      ]
    },
    {
      "cell_type": "code",
      "execution_count": 33,
      "metadata": {
        "collapsed": true,
        "id": "EZ-TPC6umJb1"
      },
      "outputs": [],
      "source": [
        "#split the dataset into train, valid and test\n",
        "X_train, X_test, y_train, y_test = train_test_split(X, y, test_size=0.2, random_state=5)\n",
        "X_train, X_val, y_train, y_val = train_test_split(X_train, y_train, test_size=0.2, random_state=5)"
      ]
    },
    {
      "cell_type": "code",
      "execution_count": 34,
      "metadata": {
        "id": "RXfuXn6mpif8"
      },
      "outputs": [
        {
          "name": "stdout",
          "output_type": "stream",
          "text": [
            "Test accuracy = 0.2916666666666667\n",
            "Test accuracy = 0.625\n",
            "Test accuracy = 0.125\n",
            "Test accuracy = 0.125\n"
          ]
        }
      ],
      "source": [
        "# select the best covariance_type hyperparameter within ['full', 'tied', 'diag', 'spherical']\n",
        "# Train GMM model with the best covariance_type on the training and validation set\n",
        "# Find Test accuracy on the test data.\n",
        "\n",
        "hyperparameter = ['full', 'tied', 'diag', 'spherical']\n",
        "\n",
        "for hp in hyperparameter:\n",
        "    clf = GaussianMixture(n_components=3, covariance_type=hp)\n",
        "    clf.fit(X_train, y_train)\n",
        "    pred_val = clf.predict(X_val)\n",
        "    print ('Test accuracy = ' + str(accuracy_score(y_val, pred_val)))\n"
      ]
    },
    {
      "cell_type": "code",
      "execution_count": 20,
      "metadata": {
        "id": "ffE_gE35NHix"
      },
      "outputs": [],
      "source": [
        "# Plot the decision boundary.\n",
        "\n",
        "# Visualize (Thanks Ron Weiss for this code.)\n",
        "\n",
        "colors = ['navy', 'turquoise', 'darkorange']\n",
        "\n",
        "def make_ellipses(gmm, ax):\n",
        "    for n, color in enumerate(colors):\n",
        "        \n",
        "        if gmm.covariance_type == 'full':\n",
        "            covariances = gmm.covariances_[n][:2, :2]\n",
        "        elif gmm.covariance_type == 'tied':\n",
        "            covariances = gmm.covariances_[:2, :2]\n",
        "        elif gmm.covariance_type == 'diag':\n",
        "            covariances = np.diag(gmm.covariances_[n][:2])\n",
        "        elif gmm.covariance_type == 'spherical':\n",
        "            covariances = np.eye(gmm.means_.shape[1]) * gmm.covariances_[n]\n",
        "            \n",
        "        v, w = np.linalg.eigh(covariances)\n",
        "        u = w[0] / np.linalg.norm(w[0])\n",
        "        angle = np.arctan2(u[1], u[0])\n",
        "        angle = 180 * angle / np.pi  # convert to degrees\n",
        "        v = 2. * np.sqrt(2.) * np.sqrt(v)\n",
        "        ell = mpl.patches.Ellipse(gmm.means_[n, :2], v[0], v[1], 180 + angle, color=color)\n",
        "        ell.set_alpha(0.5)\n",
        "        ax.add_artist(ell)\n",
        "\n"
      ]
    },
    {
      "cell_type": "code",
      "execution_count": 21,
      "metadata": {},
      "outputs": [
        {
          "name": "stdout",
          "output_type": "stream",
          "text": [
            "0 navy\n",
            "1 turquoise\n",
            "2 darkorange\n"
          ]
        }
      ],
      "source": [
        "for n, color in enumerate(colors):\n",
        "    print(n, color)"
      ]
    },
    {
      "cell_type": "code",
      "execution_count": null,
      "metadata": {},
      "outputs": [],
      "source": [
        "\n",
        "clf = GaussianMixture(n_components=3, covariance_type='diag')\n",
        "clf.fit(X_train, y_train)\n",
        "pred_test = clf.predict(X_test)\n",
        "\n",
        "# Plot\n",
        "plt.figure(figsize=(10,10))\n",
        "plt.ylim([-1,3])\n",
        "plt.xlim([11,15])\n",
        "plt.xlabel('Alcohol', fontsize=15)\n",
        "plt.ylabel('Hue', fontsize=15)\n",
        "h = plt.subplot()\n",
        "make_ellipses(clf, h)\n",
        "\n",
        "# Plot train data with dots\n",
        "for n, color in enumerate(colors):\n",
        "    train_data = pd.DataFrame(X_train)\n",
        "    plt.scatter(train_data[0], train_data[1], s=10, color=color)\n",
        "\n",
        "# Plot the test data with crosses\n",
        "for n, color in enumerate(colors):\n",
        "    test_data = X_test[y_test == n]\n",
        "    plt.scatter(test_data[0], test_data[1], marker='x', color=color)\n",
        "\n",
        "plt.title('Gaussian Mixture Model', fontsize=15)\n",
        "\n",
        "plt.show()\n"
      ]
    },
    {
      "cell_type": "code",
      "execution_count": null,
      "metadata": {},
      "outputs": [],
      "source": [
        "plt.figure(figsize=(10,10))\n",
        "plt.ylim([-1,3])\n",
        "plt.xlim([11,15])\n",
        "plt.xlabel('Alcohol', fontsize=15)\n",
        "plt.ylabel('Hue', fontsize=15)\n",
        "h = plt.subplot()\n",
        "make_ellipses(clf, h)\n",
        "\n",
        "# Plot train data with dots\n",
        "for n, color in enumerate(colors):\n",
        "    train_data = pd.DataFrame(X_train)\n",
        "    plt.scatter(train_data[0], train_data[1], s=10, color=color)\n",
        "\n",
        "# Plot the test data with crosses\n",
        "for n, color in enumerate(colors):\n",
        "    test_data = X_test[y_test == n]\n",
        "    plt.scatter(test_data[0], test_data[1], marker='x', color=color)\n",
        "\n",
        "plt.title('Gaussian Mixture Model', fontsize=15)\n",
        "\n",
        "plt.show()\n"
      ]
    },
    {
      "cell_type": "code",
      "execution_count": null,
      "metadata": {
        "id": "X5U4M-AaeF9Q"
      },
      "outputs": [],
      "source": []
    }
  ],
  "metadata": {
    "colab": {
      "name": "Python Self-Practice: GMM and LDA.ipynb",
      "provenance": []
    },
    "kernelspec": {
      "display_name": "Python 3",
      "language": "python",
      "name": "python3"
    },
    "language_info": {
      "codemirror_mode": {
        "name": "ipython",
        "version": 3
      },
      "file_extension": ".py",
      "mimetype": "text/x-python",
      "name": "python",
      "nbconvert_exporter": "python",
      "pygments_lexer": "ipython3",
      "version": "3.10.2"
    }
  },
  "nbformat": 4,
  "nbformat_minor": 0
}
