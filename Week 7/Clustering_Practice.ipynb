{
  "cells": [
    {
      "cell_type": "markdown",
      "metadata": {
        "deletable": true,
        "editable": true,
        "id": "8dz8c9HVLm2v"
      },
      "source": [
        "1. Understand dataset using make_moons with 1500 samples and 5% noise (given)\n",
        "2. Normalize data using Standard_Scaler()\n",
        "2. Run k-means on it and visualize. Suggest a good value for 'k' in range 1-25 "
      ]
    },
    {
      "cell_type": "markdown",
      "source": [
        "makemoons = https://scikit-learn.org/stable/modules/generated/sklearn.datasets.make_moons.html"
      ],
      "metadata": {
        "id": "QbGATzWw-fSx"
      }
    },
    {
      "cell_type": "code",
      "execution_count": null,
      "metadata": {
        "collapsed": true,
        "deletable": true,
        "editable": true,
        "id": "hlWm3y59Lm2y"
      },
      "outputs": [],
      "source": [
        "import numpy as np\n",
        "import matplotlib.pyplot as plt\n",
        "\n",
        "from sklearn import cluster, datasets\n",
        "from sklearn.neighbors import kneighbors_graph\n",
        "from sklearn.preprocessing import StandardScaler"
      ]
    },
    {
      "cell_type": "code",
      "source": [
        "np.random.seed(0)\n",
        "\n",
        "n_samples = 1500\n",
        "noisy_moons = datasets.make_moons(n_samples=n_samples, noise=.05)\n",
        "\n",
        "colors = ['green','red','blue']\n",
        "\n",
        "# Normalize data using Standard scalar\n",
        "\n"
      ],
      "metadata": {
        "id": "XBnJdHC4REue"
      },
      "execution_count": null,
      "outputs": []
    },
    {
      "cell_type": "code",
      "source": [
        "# K-means algorithm\n",
        "\n",
        "\n",
        "# visialize k-means\n",
        "\n"
      ],
      "metadata": {
        "id": "Xyarh_4MRIz9"
      },
      "execution_count": null,
      "outputs": []
    },
    {
      "cell_type": "code",
      "source": [
        "# number of clusters vs inertia\n",
        "\n"
      ],
      "metadata": {
        "id": "Ghh1dQe9Rkkd"
      },
      "execution_count": null,
      "outputs": []
    }
  ],
  "metadata": {
    "anaconda-cloud": {},
    "kernelspec": {
      "display_name": "Python [default]",
      "language": "python",
      "name": "python3"
    },
    "language_info": {
      "codemirror_mode": {
        "name": "ipython",
        "version": 3
      },
      "file_extension": ".py",
      "mimetype": "text/x-python",
      "name": "python",
      "nbconvert_exporter": "python",
      "pygments_lexer": "ipython3",
      "version": "3.5.3"
    },
    "colab": {
      "name": "Clustering_Practice.ipynb",
      "provenance": [],
      "collapsed_sections": []
    }
  },
  "nbformat": 4,
  "nbformat_minor": 0
}