{
  "nbformat": 4,
  "nbformat_minor": 0,
  "metadata": {
    "colab": {
      "name": "SVM Self Practice.ipynb",
      "provenance": [],
      "collapsed_sections": []
    },
    "kernelspec": {
      "name": "python3",
      "display_name": "Python 3"
    },
    "language_info": {
      "name": "python"
    }
  },
  "cells": [
    {
      "cell_type": "markdown",
      "source": [
        "# Support Vector Machine for Trading"
      ],
      "metadata": {
        "id": "ZpNkNy7s-j3U"
      }
    },
    {
      "cell_type": "markdown",
      "source": [
        "**Background:**\n",
        "\n",
        "Suppose you are working as an analyst at an investment bank. Your manager asked you to implement a new trading algorithm for Apple stock.\n",
        "\n",
        "You decided to use the following indicators:\n",
        "\n",
        "* Average True Range\n",
        "* Commodity Channel Index\n",
        "* Relative Strength Index\n",
        "* Bollinger Bands\n",
        "* On Balance Volume\n",
        "* Momentum\n",
        "* MACD\n",
        "\n",
        "\n",
        "Your training set includes data up to 03/18/2022. You will apply time series cross-validation to tune the hyper-parameter. Test the model on the last 30 trading days.\n",
        "\n",
        "**Objective**\n",
        "* Use SVM Classification on financial data\n",
        "* Use Randomized Search\n",
        "* Use Time Series Cross Validation\n",
        "* Evaluate trading model"
      ],
      "metadata": {
        "id": "Qjak7DWX-ooN"
      }
    },
    {
      "cell_type": "code",
      "execution_count": null,
      "metadata": {
        "id": "eoIEXmpI-jTC",
        "colab": {
          "base_uri": "https://localhost:8080/"
        },
        "outputId": "c2e53d85-2e38-4109-8110-b884b1bf85c7"
      },
      "outputs": [
        {
          "output_type": "stream",
          "name": "stdout",
          "text": [
            "  % Total    % Received % Xferd  Average Speed   Time    Time     Time  Current\n",
            "                                 Dload  Upload   Total   Spent    Left  Speed\n",
            "100  3989    0  3989    0     0   8058      0 --:--:-- --:--:-- --:--:--  8042\n",
            "100  503k  100  503k    0     0   466k      0  0:00:01  0:00:01 --:--:--  466k\n",
            "  % Total    % Received % Xferd  Average Speed   Time    Time     Time  Current\n",
            "                                 Dload  Upload   Total   Spent    Left  Speed\n",
            "100  3941    0  3941    0     0  17832      0 --:--:-- --:--:-- --:--:-- 17752\n",
            "100  406k  100  406k    0     0   467k      0 --:--:-- --:--:-- --:--:--  467k\n"
          ]
        }
      ],
      "source": [
        "url = 'https://anaconda.org/conda-forge/libta-lib/0.4.0/download/linux-64/libta-lib-0.4.0-h516909a_0.tar.bz2'\n",
        "!curl -L $url | tar xj -C /usr/lib/x86_64-linux-gnu/ lib --strip-components=1\n",
        "url = 'https://anaconda.org/conda-forge/ta-lib/0.4.19/download/linux-64/ta-lib-0.4.19-py37ha21ca33_2.tar.bz2'\n",
        "!curl -L $url | tar xj -C /usr/local/lib/python3.7/dist-packages/ lib/python3.7/site-packages/talib --strip-components=3"
      ]
    },
    {
      "cell_type": "code",
      "source": [
        "! pip install yfinance"
      ],
      "metadata": {
        "id": "goKGtuLeDWlZ",
        "colab": {
          "base_uri": "https://localhost:8080/"
        },
        "outputId": "2ef0bf4d-55bf-4c45-bf83-7e437d5dc66a"
      },
      "execution_count": null,
      "outputs": [
        {
          "output_type": "stream",
          "name": "stdout",
          "text": [
            "Collecting yfinance\n",
            "  Downloading yfinance-0.1.70-py2.py3-none-any.whl (26 kB)\n",
            "Requirement already satisfied: numpy>=1.15 in /usr/local/lib/python3.7/dist-packages (from yfinance) (1.21.6)\n",
            "Requirement already satisfied: multitasking>=0.0.7 in /usr/local/lib/python3.7/dist-packages (from yfinance) (0.0.10)\n",
            "Requirement already satisfied: pandas>=0.24.0 in /usr/local/lib/python3.7/dist-packages (from yfinance) (1.3.5)\n",
            "Collecting requests>=2.26\n",
            "  Downloading requests-2.27.1-py2.py3-none-any.whl (63 kB)\n",
            "\u001b[K     |████████████████████████████████| 63 kB 708 kB/s \n",
            "\u001b[?25hCollecting lxml>=4.5.1\n",
            "  Downloading lxml-4.8.0-cp37-cp37m-manylinux_2_17_x86_64.manylinux2014_x86_64.manylinux_2_24_x86_64.whl (6.4 MB)\n",
            "\u001b[K     |████████████████████████████████| 6.4 MB 12.0 MB/s \n",
            "\u001b[?25hRequirement already satisfied: pytz>=2017.3 in /usr/local/lib/python3.7/dist-packages (from pandas>=0.24.0->yfinance) (2022.1)\n",
            "Requirement already satisfied: python-dateutil>=2.7.3 in /usr/local/lib/python3.7/dist-packages (from pandas>=0.24.0->yfinance) (2.8.2)\n",
            "Requirement already satisfied: six>=1.5 in /usr/local/lib/python3.7/dist-packages (from python-dateutil>=2.7.3->pandas>=0.24.0->yfinance) (1.15.0)\n",
            "Requirement already satisfied: charset-normalizer~=2.0.0 in /usr/local/lib/python3.7/dist-packages (from requests>=2.26->yfinance) (2.0.12)\n",
            "Requirement already satisfied: idna<4,>=2.5 in /usr/local/lib/python3.7/dist-packages (from requests>=2.26->yfinance) (2.10)\n",
            "Requirement already satisfied: certifi>=2017.4.17 in /usr/local/lib/python3.7/dist-packages (from requests>=2.26->yfinance) (2021.10.8)\n",
            "Requirement already satisfied: urllib3<1.27,>=1.21.1 in /usr/local/lib/python3.7/dist-packages (from requests>=2.26->yfinance) (1.24.3)\n",
            "Installing collected packages: requests, lxml, yfinance\n",
            "  Attempting uninstall: requests\n",
            "    Found existing installation: requests 2.23.0\n",
            "    Uninstalling requests-2.23.0:\n",
            "      Successfully uninstalled requests-2.23.0\n",
            "  Attempting uninstall: lxml\n",
            "    Found existing installation: lxml 4.2.6\n",
            "    Uninstalling lxml-4.2.6:\n",
            "      Successfully uninstalled lxml-4.2.6\n",
            "\u001b[31mERROR: pip's dependency resolver does not currently take into account all the packages that are installed. This behaviour is the source of the following dependency conflicts.\n",
            "google-colab 1.0.0 requires requests~=2.23.0, but you have requests 2.27.1 which is incompatible.\n",
            "datascience 0.10.6 requires folium==0.2.1, but you have folium 0.8.3 which is incompatible.\u001b[0m\n",
            "Successfully installed lxml-4.8.0 requests-2.27.1 yfinance-0.1.70\n"
          ]
        }
      ]
    },
    {
      "cell_type": "code",
      "source": [
        "import numpy as np\n",
        "import pandas as pd\n",
        "import warnings\n",
        "warnings.simplefilter('ignore')\n",
        "import yfinance as yf\n",
        "import talib as ta\n",
        "from talib import MA_Type  \n",
        "from sklearn.model_selection import RandomizedSearchCV\n",
        "from sklearn.svm import SVC\n",
        "from sklearn.model_selection import TimeSeriesSplit as tscv"
      ],
      "metadata": {
        "id": "4ffQ5nRC_zQR"
      },
      "execution_count": null,
      "outputs": []
    },
    {
      "cell_type": "code",
      "source": [
        "appl=yf.Ticker('aapl')\n",
        "df=appl.history('max')"
      ],
      "metadata": {
        "id": "FTqjpXl1DqJv"
      },
      "execution_count": null,
      "outputs": []
    },
    {
      "cell_type": "code",
      "source": [
        "df"
      ],
      "metadata": {
        "colab": {
          "base_uri": "https://localhost:8080/",
          "height": 450
        },
        "id": "zL39SQJdxwv9",
        "outputId": "44aaddca-0a51-4a2b-ab93-b68bd6c87873"
      },
      "execution_count": null,
      "outputs": [
        {
          "output_type": "execute_result",
          "data": {
            "text/plain": [
              "                  Open        High         Low       Close     Volume  \\\n",
              "Date                                                                    \n",
              "1980-12-12    0.100326    0.100762    0.100326    0.100326  469033600   \n",
              "1980-12-15    0.095528    0.095528    0.095092    0.095092  175884800   \n",
              "1980-12-16    0.088548    0.088548    0.088112    0.088112  105728000   \n",
              "1980-12-17    0.090293    0.090729    0.090293    0.090293   86441600   \n",
              "1980-12-18    0.092911    0.093347    0.092911    0.092911   73449600   \n",
              "...                ...         ...         ...         ...        ...   \n",
              "2022-04-25  161.119995  163.169998  158.460007  162.880005   96046400   \n",
              "2022-04-26  162.250000  162.339996  156.720001  156.800003   95623200   \n",
              "2022-04-27  155.910004  159.789993  155.380005  156.570007   88063200   \n",
              "2022-04-28  159.250000  164.520004  158.929993  163.639999  130216800   \n",
              "2022-04-29  161.839996  166.199997  157.250000  157.649994  131587100   \n",
              "\n",
              "            Dividends  Stock Splits  \n",
              "Date                                 \n",
              "1980-12-12        0.0           0.0  \n",
              "1980-12-15        0.0           0.0  \n",
              "1980-12-16        0.0           0.0  \n",
              "1980-12-17        0.0           0.0  \n",
              "1980-12-18        0.0           0.0  \n",
              "...               ...           ...  \n",
              "2022-04-25        0.0           0.0  \n",
              "2022-04-26        0.0           0.0  \n",
              "2022-04-27        0.0           0.0  \n",
              "2022-04-28        0.0           0.0  \n",
              "2022-04-29        0.0           0.0  \n",
              "\n",
              "[10434 rows x 7 columns]"
            ],
            "text/html": [
              "\n",
              "  <div id=\"df-45c4324e-bea0-43ab-8495-f20c3990a4fd\">\n",
              "    <div class=\"colab-df-container\">\n",
              "      <div>\n",
              "<style scoped>\n",
              "    .dataframe tbody tr th:only-of-type {\n",
              "        vertical-align: middle;\n",
              "    }\n",
              "\n",
              "    .dataframe tbody tr th {\n",
              "        vertical-align: top;\n",
              "    }\n",
              "\n",
              "    .dataframe thead th {\n",
              "        text-align: right;\n",
              "    }\n",
              "</style>\n",
              "<table border=\"1\" class=\"dataframe\">\n",
              "  <thead>\n",
              "    <tr style=\"text-align: right;\">\n",
              "      <th></th>\n",
              "      <th>Open</th>\n",
              "      <th>High</th>\n",
              "      <th>Low</th>\n",
              "      <th>Close</th>\n",
              "      <th>Volume</th>\n",
              "      <th>Dividends</th>\n",
              "      <th>Stock Splits</th>\n",
              "    </tr>\n",
              "    <tr>\n",
              "      <th>Date</th>\n",
              "      <th></th>\n",
              "      <th></th>\n",
              "      <th></th>\n",
              "      <th></th>\n",
              "      <th></th>\n",
              "      <th></th>\n",
              "      <th></th>\n",
              "    </tr>\n",
              "  </thead>\n",
              "  <tbody>\n",
              "    <tr>\n",
              "      <th>1980-12-12</th>\n",
              "      <td>0.100326</td>\n",
              "      <td>0.100762</td>\n",
              "      <td>0.100326</td>\n",
              "      <td>0.100326</td>\n",
              "      <td>469033600</td>\n",
              "      <td>0.0</td>\n",
              "      <td>0.0</td>\n",
              "    </tr>\n",
              "    <tr>\n",
              "      <th>1980-12-15</th>\n",
              "      <td>0.095528</td>\n",
              "      <td>0.095528</td>\n",
              "      <td>0.095092</td>\n",
              "      <td>0.095092</td>\n",
              "      <td>175884800</td>\n",
              "      <td>0.0</td>\n",
              "      <td>0.0</td>\n",
              "    </tr>\n",
              "    <tr>\n",
              "      <th>1980-12-16</th>\n",
              "      <td>0.088548</td>\n",
              "      <td>0.088548</td>\n",
              "      <td>0.088112</td>\n",
              "      <td>0.088112</td>\n",
              "      <td>105728000</td>\n",
              "      <td>0.0</td>\n",
              "      <td>0.0</td>\n",
              "    </tr>\n",
              "    <tr>\n",
              "      <th>1980-12-17</th>\n",
              "      <td>0.090293</td>\n",
              "      <td>0.090729</td>\n",
              "      <td>0.090293</td>\n",
              "      <td>0.090293</td>\n",
              "      <td>86441600</td>\n",
              "      <td>0.0</td>\n",
              "      <td>0.0</td>\n",
              "    </tr>\n",
              "    <tr>\n",
              "      <th>1980-12-18</th>\n",
              "      <td>0.092911</td>\n",
              "      <td>0.093347</td>\n",
              "      <td>0.092911</td>\n",
              "      <td>0.092911</td>\n",
              "      <td>73449600</td>\n",
              "      <td>0.0</td>\n",
              "      <td>0.0</td>\n",
              "    </tr>\n",
              "    <tr>\n",
              "      <th>...</th>\n",
              "      <td>...</td>\n",
              "      <td>...</td>\n",
              "      <td>...</td>\n",
              "      <td>...</td>\n",
              "      <td>...</td>\n",
              "      <td>...</td>\n",
              "      <td>...</td>\n",
              "    </tr>\n",
              "    <tr>\n",
              "      <th>2022-04-25</th>\n",
              "      <td>161.119995</td>\n",
              "      <td>163.169998</td>\n",
              "      <td>158.460007</td>\n",
              "      <td>162.880005</td>\n",
              "      <td>96046400</td>\n",
              "      <td>0.0</td>\n",
              "      <td>0.0</td>\n",
              "    </tr>\n",
              "    <tr>\n",
              "      <th>2022-04-26</th>\n",
              "      <td>162.250000</td>\n",
              "      <td>162.339996</td>\n",
              "      <td>156.720001</td>\n",
              "      <td>156.800003</td>\n",
              "      <td>95623200</td>\n",
              "      <td>0.0</td>\n",
              "      <td>0.0</td>\n",
              "    </tr>\n",
              "    <tr>\n",
              "      <th>2022-04-27</th>\n",
              "      <td>155.910004</td>\n",
              "      <td>159.789993</td>\n",
              "      <td>155.380005</td>\n",
              "      <td>156.570007</td>\n",
              "      <td>88063200</td>\n",
              "      <td>0.0</td>\n",
              "      <td>0.0</td>\n",
              "    </tr>\n",
              "    <tr>\n",
              "      <th>2022-04-28</th>\n",
              "      <td>159.250000</td>\n",
              "      <td>164.520004</td>\n",
              "      <td>158.929993</td>\n",
              "      <td>163.639999</td>\n",
              "      <td>130216800</td>\n",
              "      <td>0.0</td>\n",
              "      <td>0.0</td>\n",
              "    </tr>\n",
              "    <tr>\n",
              "      <th>2022-04-29</th>\n",
              "      <td>161.839996</td>\n",
              "      <td>166.199997</td>\n",
              "      <td>157.250000</td>\n",
              "      <td>157.649994</td>\n",
              "      <td>131587100</td>\n",
              "      <td>0.0</td>\n",
              "      <td>0.0</td>\n",
              "    </tr>\n",
              "  </tbody>\n",
              "</table>\n",
              "<p>10434 rows × 7 columns</p>\n",
              "</div>\n",
              "      <button class=\"colab-df-convert\" onclick=\"convertToInteractive('df-45c4324e-bea0-43ab-8495-f20c3990a4fd')\"\n",
              "              title=\"Convert this dataframe to an interactive table.\"\n",
              "              style=\"display:none;\">\n",
              "        \n",
              "  <svg xmlns=\"http://www.w3.org/2000/svg\" height=\"24px\"viewBox=\"0 0 24 24\"\n",
              "       width=\"24px\">\n",
              "    <path d=\"M0 0h24v24H0V0z\" fill=\"none\"/>\n",
              "    <path d=\"M18.56 5.44l.94 2.06.94-2.06 2.06-.94-2.06-.94-.94-2.06-.94 2.06-2.06.94zm-11 1L8.5 8.5l.94-2.06 2.06-.94-2.06-.94L8.5 2.5l-.94 2.06-2.06.94zm10 10l.94 2.06.94-2.06 2.06-.94-2.06-.94-.94-2.06-.94 2.06-2.06.94z\"/><path d=\"M17.41 7.96l-1.37-1.37c-.4-.4-.92-.59-1.43-.59-.52 0-1.04.2-1.43.59L10.3 9.45l-7.72 7.72c-.78.78-.78 2.05 0 2.83L4 21.41c.39.39.9.59 1.41.59.51 0 1.02-.2 1.41-.59l7.78-7.78 2.81-2.81c.8-.78.8-2.07 0-2.86zM5.41 20L4 18.59l7.72-7.72 1.47 1.35L5.41 20z\"/>\n",
              "  </svg>\n",
              "      </button>\n",
              "      \n",
              "  <style>\n",
              "    .colab-df-container {\n",
              "      display:flex;\n",
              "      flex-wrap:wrap;\n",
              "      gap: 12px;\n",
              "    }\n",
              "\n",
              "    .colab-df-convert {\n",
              "      background-color: #E8F0FE;\n",
              "      border: none;\n",
              "      border-radius: 50%;\n",
              "      cursor: pointer;\n",
              "      display: none;\n",
              "      fill: #1967D2;\n",
              "      height: 32px;\n",
              "      padding: 0 0 0 0;\n",
              "      width: 32px;\n",
              "    }\n",
              "\n",
              "    .colab-df-convert:hover {\n",
              "      background-color: #E2EBFA;\n",
              "      box-shadow: 0px 1px 2px rgba(60, 64, 67, 0.3), 0px 1px 3px 1px rgba(60, 64, 67, 0.15);\n",
              "      fill: #174EA6;\n",
              "    }\n",
              "\n",
              "    [theme=dark] .colab-df-convert {\n",
              "      background-color: #3B4455;\n",
              "      fill: #D2E3FC;\n",
              "    }\n",
              "\n",
              "    [theme=dark] .colab-df-convert:hover {\n",
              "      background-color: #434B5C;\n",
              "      box-shadow: 0px 1px 3px 1px rgba(0, 0, 0, 0.15);\n",
              "      filter: drop-shadow(0px 1px 2px rgba(0, 0, 0, 0.3));\n",
              "      fill: #FFFFFF;\n",
              "    }\n",
              "  </style>\n",
              "\n",
              "      <script>\n",
              "        const buttonEl =\n",
              "          document.querySelector('#df-45c4324e-bea0-43ab-8495-f20c3990a4fd button.colab-df-convert');\n",
              "        buttonEl.style.display =\n",
              "          google.colab.kernel.accessAllowed ? 'block' : 'none';\n",
              "\n",
              "        async function convertToInteractive(key) {\n",
              "          const element = document.querySelector('#df-45c4324e-bea0-43ab-8495-f20c3990a4fd');\n",
              "          const dataTable =\n",
              "            await google.colab.kernel.invokeFunction('convertToInteractive',\n",
              "                                                     [key], {});\n",
              "          if (!dataTable) return;\n",
              "\n",
              "          const docLinkHtml = 'Like what you see? Visit the ' +\n",
              "            '<a target=\"_blank\" href=https://colab.research.google.com/notebooks/data_table.ipynb>data table notebook</a>'\n",
              "            + ' to learn more about interactive tables.';\n",
              "          element.innerHTML = '';\n",
              "          dataTable['output_type'] = 'display_data';\n",
              "          await google.colab.output.renderOutput(dataTable, element);\n",
              "          const docLink = document.createElement('div');\n",
              "          docLink.innerHTML = docLinkHtml;\n",
              "          element.appendChild(docLink);\n",
              "        }\n",
              "      </script>\n",
              "    </div>\n",
              "  </div>\n",
              "  "
            ]
          },
          "metadata": {},
          "execution_count": 5
        }
      ]
    },
    {
      "cell_type": "code",
      "source": [
        "df['High Shifted']=None\n",
        "df['Low Shifted'] = None\n",
        "df['Close Shifted'] = None\n",
        "df['Upper BBand'], df['Middle BBand'],df['Lower BBand']= None\n",
        "df['RSI'] = None\n",
        "df['Macd'], df['Macd Signal'],df['Macd Hist'] = None\n",
        "df['Momentum'] = None\n",
        "df['OBV'] = None\n",
        "df['ATR'] = None\n",
        "df['Returns'] = None\n",
        "df['CCI']=None\n",
        "df['Signal'] =None\n",
        "\n",
        "df.dropna(inplace=True)\n",
        "\n",
        "X=df.drop(['Signal','Returns','Open','Close','Volume','High','Low','Dividends','Stock Splits'],1)\n",
        "Y=df['Signal']\n"
      ],
      "metadata": {
        "id": "aT--qjbiGzOG"
      },
      "execution_count": null,
      "outputs": []
    },
    {
      "cell_type": "code",
      "source": [
        "from sklearn import preprocessing\n",
        "minmax = preprocessing.MinMaxScaler()"
      ],
      "metadata": {
        "id": "QDyCIfRwUIXH"
      },
      "execution_count": null,
      "outputs": []
    },
    {
      "cell_type": "code",
      "source": [
        "X_train =minmax.fit_transform(X.iloc[:-30,:])\n",
        "X_test = pd.DataFrame(minmax.fit_transform(X)).iloc[-30:,:]\n",
        "y_train = Y.iloc[:-30]\n",
        "y_test = Y.iloc[-30:]"
      ],
      "metadata": {
        "id": "A-yFeon-QHJQ"
      },
      "execution_count": null,
      "outputs": []
    },
    {
      "cell_type": "code",
      "source": [
        "# Takes approx 6 mins\n",
        "# Call the classifier:\n",
        "clf = None\n",
        "# Parameter Grid\n",
        "param_grid={'C':[None]}\n",
        "# Randomized Search over Space and Fit:\n",
        "clf_search = RandomizedSearchCV(None)\n",
        "clf_search.fit(None)\n",
        "# Predict\n",
        "y_pred=clf_search.predict(X_test)"
      ],
      "metadata": {
        "id": "O9TOef-jWLJ0"
      },
      "execution_count": null,
      "outputs": []
    },
    {
      "cell_type": "code",
      "source": [
        "from sklearn import metrics\n",
        "Accuracy = metrics.accuracy_score(y_test, y_pred)\n",
        "Precision = metrics.precision_score(y_test, y_pred)\n",
        "Recall = metrics.recall_score(y_test, y_pred)"
      ],
      "metadata": {
        "id": "zTgkfmHmeIvX"
      },
      "execution_count": null,
      "outputs": []
    },
    {
      "cell_type": "code",
      "source": [
        "print(Accuracy)\n",
        "print(Precision)\n",
        "print(Recall)"
      ],
      "metadata": {
        "colab": {
          "base_uri": "https://localhost:8080/"
        },
        "id": "T_F_0fz2fqhM",
        "outputId": "8dd95216-62e5-46af-fcdf-e1c33b49ae63"
      },
      "execution_count": null,
      "outputs": [
        {
          "output_type": "stream",
          "name": "stdout",
          "text": [
            "0.6666666666666666\n",
            "0.7857142857142857\n",
            "0.6111111111111112\n"
          ]
        }
      ]
    },
    {
      "cell_type": "code",
      "source": [
        "df['SVM Signal'] = 0\n",
        "df['SVM Returns'] = 0\n",
        "df['Total Strat Returns'] = 0\n",
        "df['Market Returns'] = 0    "
      ],
      "metadata": {
        "id": "1OI5DlPnia98"
      },
      "execution_count": null,
      "outputs": []
    },
    {
      "cell_type": "code",
      "source": [
        "Signal_Column = df.columns.get_loc('SVM Signal')\n",
        "Strat_Column = df.columns.get_loc('SVM Returns')\n",
        "Return_Column = df.columns.get_loc('Total Strat Returns')\n",
        "Market_Column = df.columns.get_loc('Market Returns')\n",
        "     \n",
        "df.iloc[-30:,Signal_Column] = list(map(int,y_pred))\n",
        "df['SVM Returns'] = df['SVM Signal'] * df['Returns'].shift(-1)\n",
        "    \n",
        "df.iloc[-30:,Return_Column] = np.nancumsum(df['SVM Returns'][-30:])\n",
        "df.iloc[-30:,Market_Column] = np.nancumsum(df['Returns'][-30:])\n",
        "    \n",
        "df['Sharpe_Ratio'] = (df['Total Strat Returns'][-1] - df['Market Returns'][-1])/np.nanstd(df['Total Strat Returns'][-30:])"
      ],
      "metadata": {
        "id": "sCQdcHMijnpc"
      },
      "execution_count": null,
      "outputs": []
    },
    {
      "cell_type": "code",
      "source": [
        "df['Total Strat Returns'].sum()"
      ],
      "metadata": {
        "colab": {
          "base_uri": "https://localhost:8080/"
        },
        "id": "xJHSAEMgplWT",
        "outputId": "0b214c5c-41f1-466e-cea3-a8e5f2fcfccd"
      },
      "execution_count": null,
      "outputs": [
        {
          "output_type": "execute_result",
          "data": {
            "text/plain": [
              "2.1611955585933487"
            ]
          },
          "metadata": {},
          "execution_count": 19
        }
      ]
    },
    {
      "cell_type": "code",
      "source": [
        "print(Accuracy)\n",
        "print(Precision)\n",
        "print(Recall)"
      ],
      "metadata": {
        "colab": {
          "base_uri": "https://localhost:8080/"
        },
        "id": "FsNreVJep5Fg",
        "outputId": "d988ea19-f4a6-45d8-d2bc-f8057f4201b5"
      },
      "execution_count": null,
      "outputs": [
        {
          "output_type": "stream",
          "name": "stdout",
          "text": [
            "0.6666666666666666\n",
            "0.7857142857142857\n",
            "0.6111111111111112\n"
          ]
        }
      ]
    },
    {
      "cell_type": "code",
      "source": [
        "import matplotlib.pyplot as plt\n",
        "from matplotlib.dates import DateFormatter\n",
        "import matplotlib.ticker as ticker\n",
        "\n",
        "fig, ax = plt.subplots(figsize=(16, 8\n",
        "                                ))\n",
        "\n",
        "ax.plot(df[-30:].index.values, df['Total Strat Returns'][-30:].values, color='r', label=\"Strategy Returns\")\n",
        "ax.plot(df[-30:].index.values, df['Market Returns'][-30:].values, color='k', label=\"Buy and Hold\")\n",
        "    \n",
        "ax.set(xlabel= \"Date\",ylabel=\"Returns\")\n",
        "plt.title('MSFT',fontsize=15)\n",
        "ax.xaxis.set_major_locator(ticker.AutoLocator())\n",
        "    \n",
        "plt.figtext(.95,0.78, s=\"Sharpe Ratio \"+'2.92')\n",
        "plt.figtext(.95,0.75, s=\"Sum Total Strat Returns \"+'2.16')\n",
        "plt.figtext(.95,0.72,s=\"Model Accuracy \" +'0.67')\n",
        "plt.figtext(.95,0.69,s=\"Model Precision \" +'0.79')\n",
        "plt.figtext(.95,0.66,s=\"Model Recall \" +'0.61')\n",
        "    \n",
        "plt.legend(loc='best')\n",
        "plt.show()"
      ],
      "metadata": {
        "colab": {
          "base_uri": "https://localhost:8080/",
          "height": 515
        },
        "id": "ZViqWNdoAuu7",
        "outputId": "5d7709c0-6d40-4da0-b39f-872e73d165db"
      },
      "execution_count": null,
      "outputs": [
        {
          "output_type": "display_data",
          "data": {
            "text/plain": [
              "<Figure size 1152x576 with 1 Axes>"
            ],
            "image/png": "[encoded data removed]"
          },
          "metadata": {
            "needs_background": "light"
          }
        }
      ]
    },
    {
      "cell_type": "code",
      "source": [
        ""
      ],
      "metadata": {
        "id": "UWu2UTR_7lwM"
      },
      "execution_count": null,
      "outputs": []
    }
  ]
}