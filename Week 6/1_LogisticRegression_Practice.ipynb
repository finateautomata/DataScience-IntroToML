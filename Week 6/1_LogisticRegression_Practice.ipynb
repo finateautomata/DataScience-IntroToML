{
  "cells": [
    {
      "cell_type": "markdown",
      "metadata": {
        "id": "xAw65LzUN_sX"
      },
      "source": [
        "# Practice Question\n",
        "1. Load the iris dataset\n",
        "2. Divide data into training and testing data (80-20 split)\n",
        "3. Run logisitic regression on this data (play with parameters using GridSearchCV to improve accuracy)\n",
        "4. Plot decision boundaries as done here\n",
        "5. Use SGDClassifier and use gridsearch to tune the parameters {penalty, alpha, eta0}. Use loss='log', learning_rate='constant'."
      ]
    },
    {
      "cell_type": "code",
      "execution_count": null,
      "metadata": {
        "collapsed": true,
        "id": "FJY6ZHzkN_sb"
      },
      "outputs": [],
      "source": [
        "from sklearn import datasets\n",
        "import pandas as pd\n",
        "import numpy as np\n",
        "\n",
        "# Load the iris dataset\n",
        "iris = datasets.load_iris()\n",
        "X = iris.data\n",
        "y = iris.target"
      ]
    },
    {
      "cell_type": "code",
      "execution_count": null,
      "metadata": {
        "collapsed": true,
        "id": "DNjuEQGNN_sc"
      },
      "outputs": [],
      "source": [
        "# train and test data \n"
      ]
    },
    {
      "cell_type": "code",
      "source": [
        "# Logistic Regression - GridSearchCV\n"
      ],
      "metadata": {
        "id": "1pgZEOS3zzfD"
      },
      "execution_count": null,
      "outputs": []
    },
    {
      "cell_type": "code",
      "source": [
        "# SGDClassifier - GridSearchCV\n",
        "# Tune the parameters {penalty, alpha, eta0}. Use loss='log', learning_rate='constant'\n",
        "\n"
      ],
      "metadata": {
        "id": "gWgV95Wcz2bQ"
      },
      "execution_count": null,
      "outputs": []
    },
    {
      "cell_type": "code",
      "source": [
        ""
      ],
      "metadata": {
        "id": "_NpYXI7t0-yy"
      },
      "execution_count": null,
      "outputs": []
    }
  ],
  "metadata": {
    "kernelspec": {
      "display_name": "Python 3",
      "language": "python",
      "name": "python3"
    },
    "language_info": {
      "codemirror_mode": {
        "name": "ipython",
        "version": 3
      },
      "file_extension": ".py",
      "mimetype": "text/x-python",
      "name": "python",
      "nbconvert_exporter": "python",
      "pygments_lexer": "ipython3",
      "version": "3.5.2"
    },
    "colab": {
      "name": "1_LogisticRegression_Practice.ipynb",
      "provenance": [],
      "collapsed_sections": []
    }
  },
  "nbformat": 4,
  "nbformat_minor": 0
}