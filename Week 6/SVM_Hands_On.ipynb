{
  "nbformat": 4,
  "nbformat_minor": 0,
  "metadata": {
    "colab": {
      "name": "Copy of SVM Hands-On.ipynb",
      "provenance": [],
      "collapsed_sections": []
    },
    "kernelspec": {
      "name": "python3",
      "display_name": "Python 3"
    },
    "language_info": {
      "name": "python"
    }
  },
  "cells": [
    {
      "cell_type": "markdown",
      "source": [
        "# Support Vector Machine for Trading"
      ],
      "metadata": {
        "id": "ZpNkNy7s-j3U"
      }
    },
    {
      "cell_type": "markdown",
      "source": [
        "**Background:**\n",
        "\n",
        "Suppose you are working as an analyst at an investment bank. Your manager asked you to implement a new trading algorithm for Microsoft stock.\n",
        "\n",
        "You decided to use the following indicators:\n",
        "\n",
        "* Average True Range\n",
        "* Commodity Channel Index\n",
        "* Relative Strength Index\n",
        "* Bollinger Bands\n",
        "* On Balance Volume\n",
        "* Momentum\n",
        "* MACD\n",
        "\n",
        "\n",
        "Your training set includes data up to 03/18/2022. You will apply time series cross-validation to tune the hyper-parameter. Test the model on the last 30 trading days.\n",
        "\n",
        "**Objective**\n",
        "* Use SVM Classification on financial data\n",
        "* Use Randomized Search\n",
        "* Use Time Series Cross Validation\n",
        "* Evaluate trading model"
      ],
      "metadata": {
        "id": "Qjak7DWX-ooN"
      }
    },
    {
      "cell_type": "code",
      "execution_count": 2,
      "metadata": {
        "id": "eoIEXmpI-jTC",
        "outputId": "f0a79a28-5eb5-4430-8001-52172a53f189",
        "colab": {
          "base_uri": "https://localhost:8080/"
        }
      },
      "outputs": [
        {
          "output_type": "stream",
          "name": "stdout",
          "text": [
            "  % Total    % Received % Xferd  Average Speed   Time    Time     Time  Current\n",
            "                                 Dload  Upload   Total   Spent    Left  Speed\n",
            "100  3977    0  3977    0     0  51649      0 --:--:-- --:--:-- --:--:-- 51649\n",
            "100  503k  100  503k    0     0  2606k      0 --:--:-- --:--:-- --:--:-- 9454k\n",
            "  % Total    % Received % Xferd  Average Speed   Time    Time     Time  Current\n",
            "                                 Dload  Upload   Total   Spent    Left  Speed\n",
            "100  4017    0  4017    0     0  52168      0 --:--:-- --:--:-- --:--:-- 52168\n",
            "100  406k  100  406k    0     0  2174k      0 --:--:-- --:--:-- --:--:-- 2174k\n"
          ]
        }
      ],
      "source": [
        "url = 'https://anaconda.org/conda-forge/libta-lib/0.4.0/download/linux-64/libta-lib-0.4.0-h516909a_0.tar.bz2'\n",
        "!curl -L $url | tar xj -C /usr/lib/x86_64-linux-gnu/ lib --strip-components=1\n",
        "url = 'https://anaconda.org/conda-forge/ta-lib/0.4.19/download/linux-64/ta-lib-0.4.19-py37ha21ca33_2.tar.bz2'\n",
        "!curl -L $url | tar xj -C /usr/local/lib/python3.7/dist-packages/ lib/python3.7/site-packages/talib --strip-components=3"
      ]
    },
    {
      "cell_type": "code",
      "source": [
        "! pip install yfinance"
      ],
      "metadata": {
        "id": "goKGtuLeDWlZ",
        "outputId": "7d5ef632-2fe0-4c64-872e-ad5bcb6db8b7",
        "colab": {
          "base_uri": "https://localhost:8080/"
        }
      },
      "execution_count": 3,
      "outputs": [
        {
          "output_type": "stream",
          "name": "stdout",
          "text": [
            "Collecting yfinance\n",
            "  Downloading yfinance-0.1.70-py2.py3-none-any.whl (26 kB)\n",
            "Collecting requests>=2.26\n",
            "  Downloading requests-2.27.1-py2.py3-none-any.whl (63 kB)\n",
            "\u001b[K     |████████████████████████████████| 63 kB 2.2 MB/s \n",
            "\u001b[?25hRequirement already satisfied: pandas>=0.24.0 in /usr/local/lib/python3.7/dist-packages (from yfinance) (1.3.5)\n",
            "Collecting lxml>=4.5.1\n",
            "  Downloading lxml-4.8.0-cp37-cp37m-manylinux_2_17_x86_64.manylinux2014_x86_64.manylinux_2_24_x86_64.whl (6.4 MB)\n",
            "\u001b[K     |████████████████████████████████| 6.4 MB 47.4 MB/s \n",
            "\u001b[?25hRequirement already satisfied: numpy>=1.15 in /usr/local/lib/python3.7/dist-packages (from yfinance) (1.21.6)\n",
            "Requirement already satisfied: multitasking>=0.0.7 in /usr/local/lib/python3.7/dist-packages (from yfinance) (0.0.10)\n",
            "Requirement already satisfied: python-dateutil>=2.7.3 in /usr/local/lib/python3.7/dist-packages (from pandas>=0.24.0->yfinance) (2.8.2)\n",
            "Requirement already satisfied: pytz>=2017.3 in /usr/local/lib/python3.7/dist-packages (from pandas>=0.24.0->yfinance) (2022.1)\n",
            "Requirement already satisfied: six>=1.5 in /usr/local/lib/python3.7/dist-packages (from python-dateutil>=2.7.3->pandas>=0.24.0->yfinance) (1.15.0)\n",
            "Requirement already satisfied: idna<4,>=2.5 in /usr/local/lib/python3.7/dist-packages (from requests>=2.26->yfinance) (2.10)\n",
            "Requirement already satisfied: certifi>=2017.4.17 in /usr/local/lib/python3.7/dist-packages (from requests>=2.26->yfinance) (2021.10.8)\n",
            "Requirement already satisfied: urllib3<1.27,>=1.21.1 in /usr/local/lib/python3.7/dist-packages (from requests>=2.26->yfinance) (1.24.3)\n",
            "Requirement already satisfied: charset-normalizer~=2.0.0 in /usr/local/lib/python3.7/dist-packages (from requests>=2.26->yfinance) (2.0.12)\n",
            "Installing collected packages: requests, lxml, yfinance\n",
            "  Attempting uninstall: requests\n",
            "    Found existing installation: requests 2.23.0\n",
            "    Uninstalling requests-2.23.0:\n",
            "      Successfully uninstalled requests-2.23.0\n",
            "  Attempting uninstall: lxml\n",
            "    Found existing installation: lxml 4.2.6\n",
            "    Uninstalling lxml-4.2.6:\n",
            "      Successfully uninstalled lxml-4.2.6\n",
            "\u001b[31mERROR: pip's dependency resolver does not currently take into account all the packages that are installed. This behaviour is the source of the following dependency conflicts.\n",
            "google-colab 1.0.0 requires requests~=2.23.0, but you have requests 2.27.1 which is incompatible.\n",
            "datascience 0.10.6 requires folium==0.2.1, but you have folium 0.8.3 which is incompatible.\u001b[0m\n",
            "Successfully installed lxml-4.8.0 requests-2.27.1 yfinance-0.1.70\n"
          ]
        }
      ]
    },
    {
      "cell_type": "code",
      "source": [
        "import numpy as np\n",
        "import pandas as pd\n",
        "import warnings\n",
        "warnings.simplefilter('ignore')\n",
        "import yfinance as yf\n",
        "import talib as ta\n",
        "from talib import MA_Type  \n",
        "from sklearn.model_selection import RandomizedSearchCV\n",
        "from sklearn.svm import SVC\n",
        "from sklearn.model_selection import TimeSeriesSplit as tscv"
      ],
      "metadata": {
        "id": "4ffQ5nRC_zQR"
      },
      "execution_count": 4,
      "outputs": []
    },
    {
      "cell_type": "code",
      "source": [
        "msft=yf.Ticker('msft')\n",
        "df=msft.history('max')"
      ],
      "metadata": {
        "id": "FTqjpXl1DqJv"
      },
      "execution_count": 5,
      "outputs": []
    },
    {
      "cell_type": "code",
      "source": [
        "df.tail(30)"
      ],
      "metadata": {
        "colab": {
          "base_uri": "https://localhost:8080/",
          "height": 1000
        },
        "id": "zL39SQJdxwv9",
        "outputId": "ffe402f9-2bf2-4038-ebb3-7427b1638da8"
      },
      "execution_count": 6,
      "outputs": [
        {
          "output_type": "execute_result",
          "data": {
            "text/plain": [
              "                  Open        High         Low       Close    Volume  \\\n",
              "Date                                                                   \n",
              "2022-03-21  298.890015  300.140015  294.899994  299.160004  28351200   \n",
              "2022-03-22  299.799988  305.000000  298.769989  304.059998  27599700   \n",
              "2022-03-23  300.510010  303.230011  297.720001  299.489990  25715400   \n",
              "2022-03-24  299.140015  304.200012  298.320007  304.100006  24484500   \n",
              "2022-03-25  305.230011  305.500000  299.290009  303.679993  22566500   \n",
              "2022-03-28  304.329987  310.799988  304.329987  310.700012  29578200   \n",
              "2022-03-29  313.910004  315.820007  309.049988  315.410004  30393400   \n",
              "2022-03-30  313.760010  315.950012  311.579987  313.859985  28163600   \n",
              "2022-03-31  313.899994  315.140015  307.890015  308.309998  33422100   \n",
              "2022-04-01  309.369995  310.130005  305.540009  309.420013  27085100   \n",
              "2022-04-04  310.089996  315.109985  309.709991  314.970001  24289600   \n",
              "2022-04-05  313.269989  314.869995  309.869995  310.880005  23156700   \n",
              "2022-04-06  305.190002  307.000000  296.709991  299.500000  40110400   \n",
              "2022-04-07  296.660004  303.649994  296.350006  301.369995  31411200   \n",
              "2022-04-08  300.440002  301.119995  296.279999  296.970001  24347400   \n",
              "2022-04-11  291.790009  292.609985  285.000000  285.260010  34569300   \n",
              "2022-04-12  289.239990  290.739990  280.489990  282.059998  30966700   \n",
              "2022-04-13  282.730011  288.579987  281.299988  287.619995  21907200   \n",
              "2022-04-14  288.089996  288.309998  279.320007  279.829987  28107900   \n",
              "2022-04-18  278.910004  282.459991  278.339996  280.519989  20778000   \n",
              "2022-04-19  279.380005  286.170013  278.410004  285.299988  22297700   \n",
              "2022-04-20  289.399994  289.700012  285.369995  286.359985  22906700   \n",
              "2022-04-21  288.579987  293.299988  280.059998  280.809998  29454600   \n",
              "2022-04-22  281.679993  283.200012  273.380005  274.029999  29405800   \n",
              "2022-04-25  273.290009  281.109985  270.769989  280.720001  35678900   \n",
              "2022-04-26  277.500000  278.359985  270.000000  270.220001  46518400   \n",
              "2022-04-27  282.100006  290.970001  279.160004  283.220001  63477700   \n",
              "2022-04-28  285.190002  290.980011  281.459991  289.630005  33646600   \n",
              "2022-04-29  288.609985  289.880005  276.500000  277.519989  37025000   \n",
              "2022-05-02  277.709991  284.859985  276.220001  284.470001  34090983   \n",
              "\n",
              "            Dividends  Stock Splits  \n",
              "Date                                 \n",
              "2022-03-21        0.0           0.0  \n",
              "2022-03-22        0.0           0.0  \n",
              "2022-03-23        0.0           0.0  \n",
              "2022-03-24        0.0           0.0  \n",
              "2022-03-25        0.0           0.0  \n",
              "2022-03-28        0.0           0.0  \n",
              "2022-03-29        0.0           0.0  \n",
              "2022-03-30        0.0           0.0  \n",
              "2022-03-31        0.0           0.0  \n",
              "2022-04-01        0.0           0.0  \n",
              "2022-04-04        0.0           0.0  \n",
              "2022-04-05        0.0           0.0  \n",
              "2022-04-06        0.0           0.0  \n",
              "2022-04-07        0.0           0.0  \n",
              "2022-04-08        0.0           0.0  \n",
              "2022-04-11        0.0           0.0  \n",
              "2022-04-12        0.0           0.0  \n",
              "2022-04-13        0.0           0.0  \n",
              "2022-04-14        0.0           0.0  \n",
              "2022-04-18        0.0           0.0  \n",
              "2022-04-19        0.0           0.0  \n",
              "2022-04-20        0.0           0.0  \n",
              "2022-04-21        0.0           0.0  \n",
              "2022-04-22        0.0           0.0  \n",
              "2022-04-25        0.0           0.0  \n",
              "2022-04-26        0.0           0.0  \n",
              "2022-04-27        0.0           0.0  \n",
              "2022-04-28        0.0           0.0  \n",
              "2022-04-29        0.0           0.0  \n",
              "2022-05-02        0.0           0.0  "
            ],
            "text/html": [
              "\n",
              "  <div id=\"df-abed4bd1-c088-449b-b709-2d1754998f8d\">\n",
              "    <div class=\"colab-df-container\">\n",
              "      <div>\n",
              "<style scoped>\n",
              "    .dataframe tbody tr th:only-of-type {\n",
              "        vertical-align: middle;\n",
              "    }\n",
              "\n",
              "    .dataframe tbody tr th {\n",
              "        vertical-align: top;\n",
              "    }\n",
              "\n",
              "    .dataframe thead th {\n",
              "        text-align: right;\n",
              "    }\n",
              "</style>\n",
              "<table border=\"1\" class=\"dataframe\">\n",
              "  <thead>\n",
              "    <tr style=\"text-align: right;\">\n",
              "      <th></th>\n",
              "      <th>Open</th>\n",
              "      <th>High</th>\n",
              "      <th>Low</th>\n",
              "      <th>Close</th>\n",
              "      <th>Volume</th>\n",
              "      <th>Dividends</th>\n",
              "      <th>Stock Splits</th>\n",
              "    </tr>\n",
              "    <tr>\n",
              "      <th>Date</th>\n",
              "      <th></th>\n",
              "      <th></th>\n",
              "      <th></th>\n",
              "      <th></th>\n",
              "      <th></th>\n",
              "      <th></th>\n",
              "      <th></th>\n",
              "    </tr>\n",
              "  </thead>\n",
              "  <tbody>\n",
              "    <tr>\n",
              "      <th>2022-03-21</th>\n",
              "      <td>298.890015</td>\n",
              "      <td>300.140015</td>\n",
              "      <td>294.899994</td>\n",
              "      <td>299.160004</td>\n",
              "      <td>28351200</td>\n",
              "      <td>0.0</td>\n",
              "      <td>0.0</td>\n",
              "    </tr>\n",
              "    <tr>\n",
              "      <th>2022-03-22</th>\n",
              "      <td>299.799988</td>\n",
              "      <td>305.000000</td>\n",
              "      <td>298.769989</td>\n",
              "      <td>304.059998</td>\n",
              "      <td>27599700</td>\n",
              "      <td>0.0</td>\n",
              "      <td>0.0</td>\n",
              "    </tr>\n",
              "    <tr>\n",
              "      <th>2022-03-23</th>\n",
              "      <td>300.510010</td>\n",
              "      <td>303.230011</td>\n",
              "      <td>297.720001</td>\n",
              "      <td>299.489990</td>\n",
              "      <td>25715400</td>\n",
              "      <td>0.0</td>\n",
              "      <td>0.0</td>\n",
              "    </tr>\n",
              "    <tr>\n",
              "      <th>2022-03-24</th>\n",
              "      <td>299.140015</td>\n",
              "      <td>304.200012</td>\n",
              "      <td>298.320007</td>\n",
              "      <td>304.100006</td>\n",
              "      <td>24484500</td>\n",
              "      <td>0.0</td>\n",
              "      <td>0.0</td>\n",
              "    </tr>\n",
              "    <tr>\n",
              "      <th>2022-03-25</th>\n",
              "      <td>305.230011</td>\n",
              "      <td>305.500000</td>\n",
              "      <td>299.290009</td>\n",
              "      <td>303.679993</td>\n",
              "      <td>22566500</td>\n",
              "      <td>0.0</td>\n",
              "      <td>0.0</td>\n",
              "    </tr>\n",
              "    <tr>\n",
              "      <th>2022-03-28</th>\n",
              "      <td>304.329987</td>\n",
              "      <td>310.799988</td>\n",
              "      <td>304.329987</td>\n",
              "      <td>310.700012</td>\n",
              "      <td>29578200</td>\n",
              "      <td>0.0</td>\n",
              "      <td>0.0</td>\n",
              "    </tr>\n",
              "    <tr>\n",
              "      <th>2022-03-29</th>\n",
              "      <td>313.910004</td>\n",
              "      <td>315.820007</td>\n",
              "      <td>309.049988</td>\n",
              "      <td>315.410004</td>\n",
              "      <td>30393400</td>\n",
              "      <td>0.0</td>\n",
              "      <td>0.0</td>\n",
              "    </tr>\n",
              "    <tr>\n",
              "      <th>2022-03-30</th>\n",
              "      <td>313.760010</td>\n",
              "      <td>315.950012</td>\n",
              "      <td>311.579987</td>\n",
              "      <td>313.859985</td>\n",
              "      <td>28163600</td>\n",
              "      <td>0.0</td>\n",
              "      <td>0.0</td>\n",
              "    </tr>\n",
              "    <tr>\n",
              "      <th>2022-03-31</th>\n",
              "      <td>313.899994</td>\n",
              "      <td>315.140015</td>\n",
              "      <td>307.890015</td>\n",
              "      <td>308.309998</td>\n",
              "      <td>33422100</td>\n",
              "      <td>0.0</td>\n",
              "      <td>0.0</td>\n",
              "    </tr>\n",
              "    <tr>\n",
              "      <th>2022-04-01</th>\n",
              "      <td>309.369995</td>\n",
              "      <td>310.130005</td>\n",
              "      <td>305.540009</td>\n",
              "      <td>309.420013</td>\n",
              "      <td>27085100</td>\n",
              "      <td>0.0</td>\n",
              "      <td>0.0</td>\n",
              "    </tr>\n",
              "    <tr>\n",
              "      <th>2022-04-04</th>\n",
              "      <td>310.089996</td>\n",
              "      <td>315.109985</td>\n",
              "      <td>309.709991</td>\n",
              "      <td>314.970001</td>\n",
              "      <td>24289600</td>\n",
              "      <td>0.0</td>\n",
              "      <td>0.0</td>\n",
              "    </tr>\n",
              "    <tr>\n",
              "      <th>2022-04-05</th>\n",
              "      <td>313.269989</td>\n",
              "      <td>314.869995</td>\n",
              "      <td>309.869995</td>\n",
              "      <td>310.880005</td>\n",
              "      <td>23156700</td>\n",
              "      <td>0.0</td>\n",
              "      <td>0.0</td>\n",
              "    </tr>\n",
              "    <tr>\n",
              "      <th>2022-04-06</th>\n",
              "      <td>305.190002</td>\n",
              "      <td>307.000000</td>\n",
              "      <td>296.709991</td>\n",
              "      <td>299.500000</td>\n",
              "      <td>40110400</td>\n",
              "      <td>0.0</td>\n",
              "      <td>0.0</td>\n",
              "    </tr>\n",
              "    <tr>\n",
              "      <th>2022-04-07</th>\n",
              "      <td>296.660004</td>\n",
              "      <td>303.649994</td>\n",
              "      <td>296.350006</td>\n",
              "      <td>301.369995</td>\n",
              "      <td>31411200</td>\n",
              "      <td>0.0</td>\n",
              "      <td>0.0</td>\n",
              "    </tr>\n",
              "    <tr>\n",
              "      <th>2022-04-08</th>\n",
              "      <td>300.440002</td>\n",
              "      <td>301.119995</td>\n",
              "      <td>296.279999</td>\n",
              "      <td>296.970001</td>\n",
              "      <td>24347400</td>\n",
              "      <td>0.0</td>\n",
              "      <td>0.0</td>\n",
              "    </tr>\n",
              "    <tr>\n",
              "      <th>2022-04-11</th>\n",
              "      <td>291.790009</td>\n",
              "      <td>292.609985</td>\n",
              "      <td>285.000000</td>\n",
              "      <td>285.260010</td>\n",
              "      <td>34569300</td>\n",
              "      <td>0.0</td>\n",
              "      <td>0.0</td>\n",
              "    </tr>\n",
              "    <tr>\n",
              "      <th>2022-04-12</th>\n",
              "      <td>289.239990</td>\n",
              "      <td>290.739990</td>\n",
              "      <td>280.489990</td>\n",
              "      <td>282.059998</td>\n",
              "      <td>30966700</td>\n",
              "      <td>0.0</td>\n",
              "      <td>0.0</td>\n",
              "    </tr>\n",
              "    <tr>\n",
              "      <th>2022-04-13</th>\n",
              "      <td>282.730011</td>\n",
              "      <td>288.579987</td>\n",
              "      <td>281.299988</td>\n",
              "      <td>287.619995</td>\n",
              "      <td>21907200</td>\n",
              "      <td>0.0</td>\n",
              "      <td>0.0</td>\n",
              "    </tr>\n",
              "    <tr>\n",
              "      <th>2022-04-14</th>\n",
              "      <td>288.089996</td>\n",
              "      <td>288.309998</td>\n",
              "      <td>279.320007</td>\n",
              "      <td>279.829987</td>\n",
              "      <td>28107900</td>\n",
              "      <td>0.0</td>\n",
              "      <td>0.0</td>\n",
              "    </tr>\n",
              "    <tr>\n",
              "      <th>2022-04-18</th>\n",
              "      <td>278.910004</td>\n",
              "      <td>282.459991</td>\n",
              "      <td>278.339996</td>\n",
              "      <td>280.519989</td>\n",
              "      <td>20778000</td>\n",
              "      <td>0.0</td>\n",
              "      <td>0.0</td>\n",
              "    </tr>\n",
              "    <tr>\n",
              "      <th>2022-04-19</th>\n",
              "      <td>279.380005</td>\n",
              "      <td>286.170013</td>\n",
              "      <td>278.410004</td>\n",
              "      <td>285.299988</td>\n",
              "      <td>22297700</td>\n",
              "      <td>0.0</td>\n",
              "      <td>0.0</td>\n",
              "    </tr>\n",
              "    <tr>\n",
              "      <th>2022-04-20</th>\n",
              "      <td>289.399994</td>\n",
              "      <td>289.700012</td>\n",
              "      <td>285.369995</td>\n",
              "      <td>286.359985</td>\n",
              "      <td>22906700</td>\n",
              "      <td>0.0</td>\n",
              "      <td>0.0</td>\n",
              "    </tr>\n",
              "    <tr>\n",
              "      <th>2022-04-21</th>\n",
              "      <td>288.579987</td>\n",
              "      <td>293.299988</td>\n",
              "      <td>280.059998</td>\n",
              "      <td>280.809998</td>\n",
              "      <td>29454600</td>\n",
              "      <td>0.0</td>\n",
              "      <td>0.0</td>\n",
              "    </tr>\n",
              "    <tr>\n",
              "      <th>2022-04-22</th>\n",
              "      <td>281.679993</td>\n",
              "      <td>283.200012</td>\n",
              "      <td>273.380005</td>\n",
              "      <td>274.029999</td>\n",
              "      <td>29405800</td>\n",
              "      <td>0.0</td>\n",
              "      <td>0.0</td>\n",
              "    </tr>\n",
              "    <tr>\n",
              "      <th>2022-04-25</th>\n",
              "      <td>273.290009</td>\n",
              "      <td>281.109985</td>\n",
              "      <td>270.769989</td>\n",
              "      <td>280.720001</td>\n",
              "      <td>35678900</td>\n",
              "      <td>0.0</td>\n",
              "      <td>0.0</td>\n",
              "    </tr>\n",
              "    <tr>\n",
              "      <th>2022-04-26</th>\n",
              "      <td>277.500000</td>\n",
              "      <td>278.359985</td>\n",
              "      <td>270.000000</td>\n",
              "      <td>270.220001</td>\n",
              "      <td>46518400</td>\n",
              "      <td>0.0</td>\n",
              "      <td>0.0</td>\n",
              "    </tr>\n",
              "    <tr>\n",
              "      <th>2022-04-27</th>\n",
              "      <td>282.100006</td>\n",
              "      <td>290.970001</td>\n",
              "      <td>279.160004</td>\n",
              "      <td>283.220001</td>\n",
              "      <td>63477700</td>\n",
              "      <td>0.0</td>\n",
              "      <td>0.0</td>\n",
              "    </tr>\n",
              "    <tr>\n",
              "      <th>2022-04-28</th>\n",
              "      <td>285.190002</td>\n",
              "      <td>290.980011</td>\n",
              "      <td>281.459991</td>\n",
              "      <td>289.630005</td>\n",
              "      <td>33646600</td>\n",
              "      <td>0.0</td>\n",
              "      <td>0.0</td>\n",
              "    </tr>\n",
              "    <tr>\n",
              "      <th>2022-04-29</th>\n",
              "      <td>288.609985</td>\n",
              "      <td>289.880005</td>\n",
              "      <td>276.500000</td>\n",
              "      <td>277.519989</td>\n",
              "      <td>37025000</td>\n",
              "      <td>0.0</td>\n",
              "      <td>0.0</td>\n",
              "    </tr>\n",
              "    <tr>\n",
              "      <th>2022-05-02</th>\n",
              "      <td>277.709991</td>\n",
              "      <td>284.859985</td>\n",
              "      <td>276.220001</td>\n",
              "      <td>284.470001</td>\n",
              "      <td>34090983</td>\n",
              "      <td>0.0</td>\n",
              "      <td>0.0</td>\n",
              "    </tr>\n",
              "  </tbody>\n",
              "</table>\n",
              "</div>\n",
              "      <button class=\"colab-df-convert\" onclick=\"convertToInteractive('df-abed4bd1-c088-449b-b709-2d1754998f8d')\"\n",
              "              title=\"Convert this dataframe to an interactive table.\"\n",
              "              style=\"display:none;\">\n",
              "        \n",
              "  <svg xmlns=\"http://www.w3.org/2000/svg\" height=\"24px\"viewBox=\"0 0 24 24\"\n",
              "       width=\"24px\">\n",
              "    <path d=\"M0 0h24v24H0V0z\" fill=\"none\"/>\n",
              "    <path d=\"M18.56 5.44l.94 2.06.94-2.06 2.06-.94-2.06-.94-.94-2.06-.94 2.06-2.06.94zm-11 1L8.5 8.5l.94-2.06 2.06-.94-2.06-.94L8.5 2.5l-.94 2.06-2.06.94zm10 10l.94 2.06.94-2.06 2.06-.94-2.06-.94-.94-2.06-.94 2.06-2.06.94z\"/><path d=\"M17.41 7.96l-1.37-1.37c-.4-.4-.92-.59-1.43-.59-.52 0-1.04.2-1.43.59L10.3 9.45l-7.72 7.72c-.78.78-.78 2.05 0 2.83L4 21.41c.39.39.9.59 1.41.59.51 0 1.02-.2 1.41-.59l7.78-7.78 2.81-2.81c.8-.78.8-2.07 0-2.86zM5.41 20L4 18.59l7.72-7.72 1.47 1.35L5.41 20z\"/>\n",
              "  </svg>\n",
              "      </button>\n",
              "      \n",
              "  <style>\n",
              "    .colab-df-container {\n",
              "      display:flex;\n",
              "      flex-wrap:wrap;\n",
              "      gap: 12px;\n",
              "    }\n",
              "\n",
              "    .colab-df-convert {\n",
              "      background-color: #E8F0FE;\n",
              "      border: none;\n",
              "      border-radius: 50%;\n",
              "      cursor: pointer;\n",
              "      display: none;\n",
              "      fill: #1967D2;\n",
              "      height: 32px;\n",
              "      padding: 0 0 0 0;\n",
              "      width: 32px;\n",
              "    }\n",
              "\n",
              "    .colab-df-convert:hover {\n",
              "      background-color: #E2EBFA;\n",
              "      box-shadow: 0px 1px 2px rgba(60, 64, 67, 0.3), 0px 1px 3px 1px rgba(60, 64, 67, 0.15);\n",
              "      fill: #174EA6;\n",
              "    }\n",
              "\n",
              "    [theme=dark] .colab-df-convert {\n",
              "      background-color: #3B4455;\n",
              "      fill: #D2E3FC;\n",
              "    }\n",
              "\n",
              "    [theme=dark] .colab-df-convert:hover {\n",
              "      background-color: #434B5C;\n",
              "      box-shadow: 0px 1px 3px 1px rgba(0, 0, 0, 0.15);\n",
              "      filter: drop-shadow(0px 1px 2px rgba(0, 0, 0, 0.3));\n",
              "      fill: #FFFFFF;\n",
              "    }\n",
              "  </style>\n",
              "\n",
              "      <script>\n",
              "        const buttonEl =\n",
              "          document.querySelector('#df-abed4bd1-c088-449b-b709-2d1754998f8d button.colab-df-convert');\n",
              "        buttonEl.style.display =\n",
              "          google.colab.kernel.accessAllowed ? 'block' : 'none';\n",
              "\n",
              "        async function convertToInteractive(key) {\n",
              "          const element = document.querySelector('#df-abed4bd1-c088-449b-b709-2d1754998f8d');\n",
              "          const dataTable =\n",
              "            await google.colab.kernel.invokeFunction('convertToInteractive',\n",
              "                                                     [key], {});\n",
              "          if (!dataTable) return;\n",
              "\n",
              "          const docLinkHtml = 'Like what you see? Visit the ' +\n",
              "            '<a target=\"_blank\" href=https://colab.research.google.com/notebooks/data_table.ipynb>data table notebook</a>'\n",
              "            + ' to learn more about interactive tables.';\n",
              "          element.innerHTML = '';\n",
              "          dataTable['output_type'] = 'display_data';\n",
              "          await google.colab.output.renderOutput(dataTable, element);\n",
              "          const docLink = document.createElement('div');\n",
              "          docLink.innerHTML = docLinkHtml;\n",
              "          element.appendChild(docLink);\n",
              "        }\n",
              "      </script>\n",
              "    </div>\n",
              "  </div>\n",
              "  "
            ]
          },
          "metadata": {},
          "execution_count": 6
        }
      ]
    },
    {
      "cell_type": "code",
      "source": [
        "help(ta.CCI)"
      ],
      "metadata": {
        "colab": {
          "base_uri": "https://localhost:8080/"
        },
        "id": "ldIqSjd5wYu6",
        "outputId": "f913e3ce-c4ab-45f1-ee6f-271ef5479f8f"
      },
      "execution_count": 7,
      "outputs": [
        {
          "output_type": "stream",
          "name": "stdout",
          "text": [
            "Help on function CCI in module talib._ta_lib:\n",
            "\n",
            "CCI(...)\n",
            "    CCI(high, low, close[, timeperiod=?])\n",
            "    \n",
            "    Commodity Channel Index (Momentum Indicators)\n",
            "    \n",
            "    Inputs:\n",
            "        prices: ['high', 'low', 'close']\n",
            "    Parameters:\n",
            "        timeperiod: 14\n",
            "    Outputs:\n",
            "        real\n",
            "\n"
          ]
        }
      ]
    },
    {
      "cell_type": "code",
      "source": [
        "df['High Shifted'] = df['High'].shift(1)\n",
        "df['Low Shifted'] = df['Low'].shift(1)\n",
        "df['Close Shifted'] = df['Close'].shift(1)\n",
        "df['Upper BBand'], df['Middle BBand'], df['Lower BBand']= ta.BBANDS(df['Close Shifted'],timeperiod=20)\n",
        "df['RSI'] = ta.RSI(np.array(df['Close Shifted']), timeperiod=14)\n",
        "df['Macd'], df['Macd Signal'],df['Macd Hist'] = ta.MACD(df['Close Shifted'], fastperiod=12, slowperiod=26, signalperiod=9)\n",
        "df['Momentum'] = ta.MOM(df['Close Shifted'],timeperiod=12)\n",
        "df['OBV'] = ta.OBV(df['Close Shifted'],df['Volume'].shift(1))\n",
        "df['ATR'] = ta.ATR(df['High'].shift(1),df['Low'].shift(1),df['Close'].shift(1))\n",
        "df['Returns'] = np.log(df['Open']/df['Open'].shift(1))\n",
        "df['CCI']=ta.CCI(df['High Shifted'],df['Low Shifted'],df['Close Shifted'])\n",
        "df['Signal'] =np.where(df.Returns >= 0, 1, 0)\n",
        "\n",
        "df.dropna(inplace=True)\n",
        "\n",
        "X = df.drop(['Signal','Returns','Open','Close','Volume','High','Low','Dividends','Stock Splits'],1)\n",
        "Y = df['Signal']\n"
      ],
      "metadata": {
        "id": "aT--qjbiGzOG"
      },
      "execution_count": 8,
      "outputs": []
    },
    {
      "cell_type": "code",
      "source": [
        "from sklearn import preprocessing\n",
        "minmax = preprocessing.MinMaxScaler()"
      ],
      "metadata": {
        "id": "QDyCIfRwUIXH"
      },
      "execution_count": null,
      "outputs": []
    },
    {
      "cell_type": "code",
      "source": [
        "X_train = minmax.fit_transform(X.iloc[:-30,:])\n",
        "X_test = pd.DataFrame(minmax.transform(X)).iloc[-30:,:]\n",
        "y_train = Y.iloc[:-30]\n",
        "y_test = Y.iloc[-30:]"
      ],
      "metadata": {
        "id": "A-yFeon-QHJQ"
      },
      "execution_count": null,
      "outputs": []
    },
    {
      "cell_type": "code",
      "source": [
        "# Takes approx 6 mins\n",
        "# Call the classifier:\n",
        "clf = SVC(kernel='rbf')\n",
        "# Parameter Grid\n",
        "param_grid={'C':[1,10,100,1000]}\n",
        "# Randomized Search over Space and Fit:\n",
        "clf_search = RandomizedSearchCV(clf, param_distributions=param_grid, cv = tscv(5,test_size=1, gap=0))\n",
        "clf_search.fit(X_train,y_train)\n",
        "# Predict\n",
        "y_pred=clf_search.predict(X_test)"
      ],
      "metadata": {
        "id": "O9TOef-jWLJ0"
      },
      "execution_count": null,
      "outputs": []
    },
    {
      "cell_type": "code",
      "source": [
        "from sklearn import metrics\n",
        "Accuracy = metrics.accuracy_score(y_test, y_pred)\n",
        "Precision = metrics.precision_score(y_test, y_pred)\n",
        "Recall = metrics.recall_score(y_test, y_pred)"
      ],
      "metadata": {
        "id": "zTgkfmHmeIvX"
      },
      "execution_count": null,
      "outputs": []
    },
    {
      "cell_type": "code",
      "source": [
        "print(Accuracy)\n",
        "print(Precision)\n",
        "print(Recall)"
      ],
      "metadata": {
        "colab": {
          "base_uri": "https://localhost:8080/"
        },
        "id": "T_F_0fz2fqhM",
        "outputId": "1bca3460-044e-4b2a-dd4d-cb78422c7fe8"
      },
      "execution_count": null,
      "outputs": [
        {
          "output_type": "stream",
          "name": "stdout",
          "text": [
            "0.6\n",
            "0.6666666666666666\n",
            "0.5\n"
          ]
        }
      ]
    },
    {
      "cell_type": "code",
      "source": [
        "df['SVM Signal'] = 0\n",
        "df['SVM Returns'] = 0\n",
        "df['Total Strat Returns'] = 0\n",
        "df['Market Returns'] = 0    "
      ],
      "metadata": {
        "id": "1OI5DlPnia98"
      },
      "execution_count": null,
      "outputs": []
    },
    {
      "cell_type": "code",
      "source": [
        "Signal_Column = df.columns.get_loc('SVM Signal')\n",
        "Strat_Column = df.columns.get_loc('SVM Returns')\n",
        "Return_Column = df.columns.get_loc('Total Strat Returns')\n",
        "Market_Column = df.columns.get_loc('Market Returns')\n",
        "     \n",
        "df.iloc[-30:,Signal_Column] = list(map(int,y_pred))\n",
        "df['SVM Returns'] = df['SVM Signal'] * df['Returns'].shift(-1)\n",
        "    \n",
        "df.iloc[-30:,Return_Column] = np.nancumsum(df['SVM Returns'][-30:])\n",
        "df.iloc[-30:,Market_Column] = np.nancumsum(df['Returns'][-30:])\n",
        "    \n",
        "df['Sharpe_Ratio'] = (df['Total Strat Returns'][-1] - df['Market Returns'][-1])/np.nanstd(df['Total Strat Returns'][-30:])"
      ],
      "metadata": {
        "id": "sCQdcHMijnpc"
      },
      "execution_count": null,
      "outputs": []
    },
    {
      "cell_type": "code",
      "source": [
        "df['Sharpe_Ratio']"
      ],
      "metadata": {
        "colab": {
          "base_uri": "https://localhost:8080/"
        },
        "id": "xJHSAEMgplWT",
        "outputId": "b3fe3cd0-4057-4b31-d3b2-e522c5fda0d5"
      },
      "execution_count": null,
      "outputs": [
        {
          "output_type": "execute_result",
          "data": {
            "text/plain": [
              "Date\n",
              "1986-05-01    5.278515\n",
              "1986-05-02    5.278515\n",
              "1986-05-05    5.278515\n",
              "1986-05-06    5.278515\n",
              "1986-05-07    5.278515\n",
              "                ...   \n",
              "2022-04-25    5.278515\n",
              "2022-04-26    5.278515\n",
              "2022-04-27    5.278515\n",
              "2022-04-28    5.278515\n",
              "2022-04-29    5.278515\n",
              "Name: Sharpe_Ratio, Length: 9074, dtype: float64"
            ]
          },
          "metadata": {},
          "execution_count": 83
        }
      ]
    },
    {
      "cell_type": "code",
      "source": [
        "print(Accuracy)\n",
        "print(Precision)\n",
        "print(Recall)"
      ],
      "metadata": {
        "colab": {
          "base_uri": "https://localhost:8080/"
        },
        "id": "FsNreVJep5Fg",
        "outputId": "2f641cf3-5720-4baf-c7b1-3d7707cd74a3"
      },
      "execution_count": null,
      "outputs": [
        {
          "output_type": "stream",
          "name": "stdout",
          "text": [
            "0.6\n",
            "0.7272727272727273\n",
            "0.47058823529411764\n"
          ]
        }
      ]
    },
    {
      "cell_type": "code",
      "source": [
        "import matplotlib.pyplot as plt\n",
        "from matplotlib.dates import DateFormatter\n",
        "import matplotlib.ticker as ticker\n",
        "\n",
        "fig, ax = plt.subplots(figsize=(16, 8\n",
        "                                ))\n",
        "\n",
        "ax.plot(df[-30:].index.values, df['Total Strat Returns'][-30:].values, color='r', label=\"Strategy Returns\")\n",
        "ax.plot(df[-30:].index.values, df['Market Returns'][-30:].values, color='k', label=\"Buy and Hold\")\n",
        "    \n",
        "ax.set(xlabel= \"Date\",ylabel=\"Returns\")\n",
        "plt.title('MSFT',fontsize=15)\n",
        "ax.xaxis.set_major_locator(ticker.AutoLocator())\n",
        "    \n",
        "plt.figtext(.95,0.78, s=\"Sharpe Ratio \"+'5.27')\n",
        "plt.figtext(.95,0.75, s=\"Sum Total Strat Returns \"+'0.49')\n",
        "plt.figtext(.95,0.72,s=\"Model Accuracy \" +'0.6')\n",
        "plt.figtext(.95,0.69,s=\"Model Precision \" +'0.72')\n",
        "plt.figtext(.95,0.66,s=\"Model Recall \" +'0.47')\n",
        "    \n",
        "plt.legend(loc='best')\n",
        "plt.show()"
      ],
      "metadata": {
        "colab": {
          "base_uri": "https://localhost:8080/",
          "height": 515
        },
        "id": "ZViqWNdoAuu7",
        "outputId": "ca639055-b0a3-4311-8f7e-6e48366932b6"
      },
      "execution_count": null,
      "outputs": [
        {
          "output_type": "display_data",
          "data": {
            "text/plain": [
              "<Figure size 1152x576 with 1 Axes>"
            ],
            "image/png": "[encoded data removed]"
          },
          "metadata": {
            "needs_background": "light"
          }
        }
      ]
    },
    {
      "cell_type": "code",
      "source": [
        ""
      ],
      "metadata": {
        "id": "UWu2UTR_7lwM"
      },
      "execution_count": null,
      "outputs": []
    }
  ]
}