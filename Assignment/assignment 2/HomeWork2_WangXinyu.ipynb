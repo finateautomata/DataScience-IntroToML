{
 "cells": [
  {
   "cell_type": "markdown",
   "metadata": {
    "id": "VcDkR_0hKuA2"
   },
   "source": [
    "### Load Data"
   ]
  },
  {
   "cell_type": "code",
   "execution_count": 25,
   "metadata": {},
   "outputs": [],
   "source": [
    "import pandas as pd\n",
    "import numpy as np\n",
    "from sklearn.naive_bayes import GaussianNB\n",
    "from sklearn.metrics import accuracy_score"
   ]
  },
  {
   "cell_type": "code",
   "execution_count": 26,
   "metadata": {
    "id": "SsnulOBjKryx"
   },
   "outputs": [],
   "source": [
    "df = pd.read_csv('hw2_data.csv')"
   ]
  },
  {
   "cell_type": "code",
   "execution_count": 27,
   "metadata": {},
   "outputs": [
    {
     "data": {
      "text/plain": [
       "(2243, 56)"
      ]
     },
     "execution_count": 27,
     "metadata": {},
     "output_type": "execute_result"
    }
   ],
   "source": [
    "df.shape"
   ]
  },
  {
   "cell_type": "markdown",
   "metadata": {
    "id": "BsVI99GYLnxk"
   },
   "source": [
    "### Question-1: Keep only the labels between -1 and 3"
   ]
  },
  {
   "cell_type": "code",
   "execution_count": 28,
   "metadata": {},
   "outputs": [],
   "source": [
    "df = df.loc[(df['label'] >= -1) & (df['label'] <= 2)]"
   ]
  },
  {
   "cell_type": "code",
   "execution_count": 29,
   "metadata": {},
   "outputs": [
    {
     "data": {
      "text/plain": [
       "(2211, 56)"
      ]
     },
     "execution_count": 29,
     "metadata": {},
     "output_type": "execute_result"
    }
   ],
   "source": [
    "df.shape"
   ]
  },
  {
   "cell_type": "code",
   "execution_count": 30,
   "metadata": {},
   "outputs": [
    {
     "data": {
      "text/plain": [
       "(1069, 55)"
      ]
     },
     "execution_count": 30,
     "metadata": {},
     "output_type": "execute_result"
    }
   ],
   "source": [
    "df_train = df[df['fyear']==2018]\n",
    "df_train_label = df_train['label']\n",
    "df_train = df_train.drop('label', axis=1)\n",
    "df_train.shape"
   ]
  },
  {
   "cell_type": "code",
   "execution_count": 31,
   "metadata": {},
   "outputs": [
    {
     "data": {
      "text/plain": [
       "(1045, 55)"
      ]
     },
     "execution_count": 31,
     "metadata": {},
     "output_type": "execute_result"
    }
   ],
   "source": [
    "df_valid = df[df['fyear']==2019]\n",
    "df_valid_label = df_valid['label']\n",
    "df_valid = df_valid.drop('label', axis=1)\n",
    "df_valid.shape"
   ]
  },
  {
   "cell_type": "code",
   "execution_count": 32,
   "metadata": {},
   "outputs": [
    {
     "data": {
      "text/plain": [
       "(97,)"
      ]
     },
     "execution_count": 32,
     "metadata": {},
     "output_type": "execute_result"
    }
   ],
   "source": [
    "df_test = df[df['fyear']==2020]\n",
    "df_test_label = df_test['label']\n",
    "df_test = df_test.drop('label', axis=1)\n",
    "df_test_label.shape"
   ]
  },
  {
   "cell_type": "markdown",
   "metadata": {
    "id": "-_AYzE_8Lvsj"
   },
   "source": [
    "### Question-2: Compute and report the prior probabilities"
   ]
  },
  {
   "cell_type": "code",
   "execution_count": 33,
   "metadata": {
    "id": "IyI9e-uCLvK0"
   },
   "outputs": [
    {
     "name": "stdout",
     "output_type": "stream",
     "text": [
      "Training accuracy = 0.30121608980355474\n",
      "Test accuracy = 0.30927835051546393\n"
     ]
    }
   ],
   "source": [
    "# Initialize Gaussian Naive Bayes\n",
    "gnb = GaussianNB()\n",
    "# Train the classifier\n",
    "gnb.fit(df_train, df_train_label)\n",
    "# Make predictions on test data\n",
    "df_pred = gnb.predict(df_test)\n",
    "df_train_pred = gnb.predict(df_train)\n",
    "\n",
    "# print the accuracy\n",
    "print ('Training accuracy = ' + str(accuracy_score(df_train_pred, df_train_label)))\n",
    "print ('Test accuracy = ' + str(accuracy_score(df_pred, df_test_label)))"
   ]
  },
  {
   "cell_type": "code",
   "execution_count": 34,
   "metadata": {},
   "outputs": [
    {
     "name": "stdout",
     "output_type": "stream",
     "text": [
      "[0.07015903 0.82039289 0.0888681  0.02057998]\n"
     ]
    }
   ],
   "source": [
    "print (gnb.class_prior_)"
   ]
  },
  {
   "cell_type": "markdown",
   "metadata": {
    "id": "Mc1hS3lJLyMr"
   },
   "source": [
    "### Question-3"
   ]
  },
  {
   "cell_type": "code",
   "execution_count": 35,
   "metadata": {
    "id": "Pk_JjLNbLx8-"
   },
   "outputs": [],
   "source": [
    "from scipy.stats import norm\n",
    "import matplotlib.pyplot as plt"
   ]
  },
  {
   "cell_type": "code",
   "execution_count": 36,
   "metadata": {},
   "outputs": [
    {
     "name": "stdout",
     "output_type": "stream",
     "text": [
      "2.634437299590731\n",
      "2.658212280980677\n",
      "2.898867165694418\n",
      "2.12368662511862\n"
     ]
    }
   ],
   "source": [
    "for i in [-1, 0, 1, 2]:\n",
    "    ret = df_train['ret']\n",
    "    index = list(df_train_label[df_train_label==i].index)\n",
    "    ret = ret[index]\n",
    "    ret_mean = ret.mean()\n",
    "    ret_std = ret.std()\n",
    "    x = 0.1\n",
    "    density = 1/((2*np.pi)**0.5*ret_std)*np.exp(-((x-ret_mean)**2)/(2*ret_std**2))\n",
    "    print(density)"
   ]
  },
  {
   "cell_type": "markdown",
   "metadata": {
    "id": "kfJCnXRvL6vI"
   },
   "source": [
    "### Question-4: Guassian naive bayes"
   ]
  },
  {
   "cell_type": "code",
   "execution_count": 37,
   "metadata": {
    "id": "ZCC2e1YiL6gf"
   },
   "outputs": [],
   "source": [
    "df_full = pd.concat([df_train, df_valid])\n",
    "df_full_label = pd.concat([df_train_label, df_valid_label])"
   ]
  },
  {
   "cell_type": "code",
   "execution_count": 38,
   "metadata": {},
   "outputs": [
    {
     "name": "stdout",
     "output_type": "stream",
     "text": [
      "full accuracy = 0.24881740775780511\n",
      "Test accuracy = 0.28865979381443296\n"
     ]
    }
   ],
   "source": [
    "# Initialize Gaussian Naive Bayes\n",
    "gnb = GaussianNB()\n",
    "# Train the classifier\n",
    "gnb.fit(df_full, df_full_label)\n",
    "# Make predictions on test data\n",
    "df_pred = gnb.predict(df_test)\n",
    "df_full_pred = gnb.predict(df_full)\n",
    "\n",
    "# print the accuracy\n",
    "print ('full accuracy = ' + str(accuracy_score(df_full_pred, df_full_label)))\n",
    "print ('Test accuracy = ' + str(accuracy_score(df_pred, df_test_label)))"
   ]
  },
  {
   "cell_type": "markdown",
   "metadata": {
    "id": "TSf5hr8ML8dt"
   },
   "source": [
    "### Question-5: Confusion matrix"
   ]
  },
  {
   "cell_type": "code",
   "execution_count": 39,
   "metadata": {
    "id": "XfF5D5HsL6dF"
   },
   "outputs": [],
   "source": [
    "from sklearn import metrics"
   ]
  },
  {
   "cell_type": "code",
   "execution_count": 40,
   "metadata": {},
   "outputs": [
    {
     "name": "stdout",
     "output_type": "stream",
     "text": [
      "The confusion matrix is: \n",
      "\n",
      "[[ 1  0  0  7]\n",
      " [ 1 22  2 52]\n",
      " [ 0  0  1  7]\n",
      " [ 0  0  0  4]]\n"
     ]
    }
   ],
   "source": [
    "print('The confusion matrix is: \\n')\n",
    "print(metrics.confusion_matrix(df_test_label, df_pred))"
   ]
  },
  {
   "cell_type": "markdown",
   "metadata": {
    "id": "xewamlXuL9-5"
   },
   "source": [
    "### Question-6"
   ]
  },
  {
   "cell_type": "code",
   "execution_count": 41,
   "metadata": {
    "id": "uBdfPAgCL6Ua"
   },
   "outputs": [],
   "source": [
    "from sklearn.mixture import GaussianMixture"
   ]
  },
  {
   "cell_type": "code",
   "execution_count": 45,
   "metadata": {},
   "outputs": [
    {
     "name": "stdout",
     "output_type": "stream",
     "text": [
      "Validation accuracy for covariance type tied = 0.7990430622009569\n",
      "Validation accuracy for covariance type full = 0.6794258373205742\n",
      "Validation accuracy for covariance type diag = 0.8143540669856459\n",
      "Validation accuracy for covariance type spherical = 0.14354066985645933\n"
     ]
    }
   ],
   "source": [
    "# Model\n",
    "for i in ['tied', 'full', 'diag', 'spherical']:\n",
    "    clf = GaussianMixture(n_components=3, covariance_type=i, init_params='kmeans', random_state=34)  \n",
    "    clf.means_init = np.array([df_train[df_train_label == i].mean(axis=0) for i in range(3)]) # Maximum Likelihood Estimate\n",
    "    clf.fit(df_train, df_train_label)\n",
    "    pred = clf.predict(df_valid)\n",
    "    print ('Validation accuracy for covariance type '+ i + ' = ' + str(accuracy_score(df_valid_label, pred)))"
   ]
  },
  {
   "cell_type": "code",
   "execution_count": 44,
   "metadata": {},
   "outputs": [
    {
     "name": "stdout",
     "output_type": "stream",
     "text": [
      "Test accuracy = 0.6391752577319587\n"
     ]
    }
   ],
   "source": [
    "# Best for tied\n",
    "\n",
    "clf = GaussianMixture(n_components=3, covariance_type='tied')\n",
    "clf.means_init = np.array([df_full[df_full_label == i].mean(axis=0)\n",
    "                                for i in range(3)])\n",
    "clf.fit(df_full, df_full_label)\n",
    "pred = clf.predict(df_test)\n",
    "print ('Test accuracy = ' + str(accuracy_score(df_test_label, pred)))"
   ]
  },
  {
   "cell_type": "markdown",
   "metadata": {
    "id": "xzIRnDcFL_Ug"
   },
   "source": [
    "### Question-7"
   ]
  },
  {
   "cell_type": "code",
   "execution_count": null,
   "metadata": {},
   "outputs": [],
   "source": []
  }
 ],
 "metadata": {
  "colab": {
   "collapsed_sections": [],
   "name": "HomeWork2_Template.ipynb",
   "provenance": []
  },
  "kernelspec": {
   "display_name": "Python 3",
   "language": "python",
   "name": "python3"
  },
  "language_info": {
   "codemirror_mode": {
    "name": "ipython",
    "version": 3
   },
   "file_extension": ".py",
   "mimetype": "text/x-python",
   "name": "python",
   "nbconvert_exporter": "python",
   "pygments_lexer": "ipython3",
   "version": "3.8.8"
  },
  "toc-autonumbering": false,
  "toc-showcode": false
 },
 "nbformat": 4,
 "nbformat_minor": 4
}
