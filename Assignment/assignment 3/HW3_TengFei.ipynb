{
  "nbformat": 4,
  "nbformat_minor": 0,
  "metadata": {
    "colab": {
      "name": "HW3_TengFei.ipynb",
      "provenance": [],
      "collapsed_sections": []
    },
    "kernelspec": {
      "name": "python3",
      "display_name": "Python 3"
    },
    "language_info": {
      "name": "python"
    },
    "accelerator": "TPU"
  },
  "cells": [
    {
      "cell_type": "markdown",
      "source": [
        "# Homework 3"
      ],
      "metadata": {
        "id": "6sN7di0n7x8k"
      }
    },
    {
      "cell_type": "code",
      "source": [
        "url = 'https://anaconda.org/conda-forge/libta-lib/0.4.0/download/linux-64/libta-lib-0.4.0-h516909a_0.tar.bz2'\n",
        "!curl -L $url | tar xj -C /usr/lib/x86_64-linux-gnu/ lib --strip-components=1\n",
        "url = 'https://anaconda.org/conda-forge/ta-lib/0.4.19/download/linux-64/ta-lib-0.4.19-py37ha21ca33_2.tar.bz2'\n",
        "!curl -L $url | tar xj -C /usr/local/lib/python3.7/dist-packages/ lib/python3.7/site-packages/talib --strip-components=3"
      ],
      "metadata": {
        "colab": {
          "base_uri": "https://localhost:8080/"
        },
        "id": "4iRKPaIMxTIR",
        "outputId": "9c81f929-c46e-4f5a-bfcd-d74ce4694f88"
      },
      "execution_count": 2,
      "outputs": [
        {
          "output_type": "stream",
          "name": "stdout",
          "text": [
            "  % Total    % Received % Xferd  Average Speed   Time    Time     Time  Current\n",
            "                                 Dload  Upload   Total   Spent    Left  Speed\n",
            "100  3925    0  3925    0     0  14377      0 --:--:-- --:--:-- --:--:-- 14377\n",
            "100  503k  100  503k    0     0   697k      0 --:--:-- --:--:-- --:--:--  697k\n",
            "  % Total    % Received % Xferd  Average Speed   Time    Time     Time  Current\n",
            "                                 Dload  Upload   Total   Spent    Left  Speed\n",
            "100  3933    0  3933    0     0  17636      0 --:--:-- --:--:-- --:--:-- 17558\n",
            "100  406k  100  406k    0     0   710k      0 --:--:-- --:--:-- --:--:--  710k\n"
          ]
        }
      ]
    },
    {
      "cell_type": "code",
      "source": [
        "! pip install yfinance"
      ],
      "metadata": {
        "colab": {
          "base_uri": "https://localhost:8080/"
        },
        "id": "sBWy8NG7xRnq",
        "outputId": "7c74d9c2-ef80-4c02-ce92-ab350966c4ec"
      },
      "execution_count": 3,
      "outputs": [
        {
          "output_type": "stream",
          "name": "stdout",
          "text": [
            "Collecting yfinance\n",
            "  Downloading yfinance-0.1.70-py2.py3-none-any.whl (26 kB)\n",
            "Collecting requests>=2.26\n",
            "  Downloading requests-2.27.1-py2.py3-none-any.whl (63 kB)\n",
            "\u001b[K     |████████████████████████████████| 63 kB 1.1 MB/s \n",
            "\u001b[?25hRequirement already satisfied: pandas>=0.24.0 in /usr/local/lib/python3.7/dist-packages (from yfinance) (1.3.5)\n",
            "Collecting lxml>=4.5.1\n",
            "  Downloading lxml-4.8.0-cp37-cp37m-manylinux_2_17_x86_64.manylinux2014_x86_64.manylinux_2_24_x86_64.whl (6.4 MB)\n",
            "\u001b[K     |████████████████████████████████| 6.4 MB 10.9 MB/s \n",
            "\u001b[?25hRequirement already satisfied: multitasking>=0.0.7 in /usr/local/lib/python3.7/dist-packages (from yfinance) (0.0.10)\n",
            "Requirement already satisfied: numpy>=1.15 in /usr/local/lib/python3.7/dist-packages (from yfinance) (1.21.6)\n",
            "Requirement already satisfied: pytz>=2017.3 in /usr/local/lib/python3.7/dist-packages (from pandas>=0.24.0->yfinance) (2022.1)\n",
            "Requirement already satisfied: python-dateutil>=2.7.3 in /usr/local/lib/python3.7/dist-packages (from pandas>=0.24.0->yfinance) (2.8.2)\n",
            "Requirement already satisfied: six>=1.5 in /usr/local/lib/python3.7/dist-packages (from python-dateutil>=2.7.3->pandas>=0.24.0->yfinance) (1.15.0)\n",
            "Requirement already satisfied: certifi>=2017.4.17 in /usr/local/lib/python3.7/dist-packages (from requests>=2.26->yfinance) (2021.10.8)\n",
            "Requirement already satisfied: urllib3<1.27,>=1.21.1 in /usr/local/lib/python3.7/dist-packages (from requests>=2.26->yfinance) (1.24.3)\n",
            "Requirement already satisfied: idna<4,>=2.5 in /usr/local/lib/python3.7/dist-packages (from requests>=2.26->yfinance) (2.10)\n",
            "Requirement already satisfied: charset-normalizer~=2.0.0 in /usr/local/lib/python3.7/dist-packages (from requests>=2.26->yfinance) (2.0.12)\n",
            "Installing collected packages: requests, lxml, yfinance\n",
            "  Attempting uninstall: requests\n",
            "    Found existing installation: requests 2.23.0\n",
            "    Uninstalling requests-2.23.0:\n",
            "      Successfully uninstalled requests-2.23.0\n",
            "  Attempting uninstall: lxml\n",
            "    Found existing installation: lxml 4.2.6\n",
            "    Uninstalling lxml-4.2.6:\n",
            "      Successfully uninstalled lxml-4.2.6\n",
            "\u001b[31mERROR: pip's dependency resolver does not currently take into account all the packages that are installed. This behaviour is the source of the following dependency conflicts.\n",
            "google-colab 1.0.0 requires requests~=2.23.0, but you have requests 2.27.1 which is incompatible.\n",
            "datascience 0.10.6 requires folium==0.2.1, but you have folium 0.8.3 which is incompatible.\u001b[0m\n",
            "Successfully installed lxml-4.8.0 requests-2.27.1 yfinance-0.1.70\n"
          ]
        }
      ]
    },
    {
      "cell_type": "code",
      "execution_count": 30,
      "metadata": {
        "id": "zjhUeA9B7kGs"
      },
      "outputs": [],
      "source": [
        "import numpy as np\n",
        "import pandas as pd\n",
        "import warnings\n",
        "warnings.simplefilter('ignore')\n",
        "import yfinance as yf\n",
        "import talib as ta\n",
        "from talib import MA_Type  \n",
        "from sklearn.model_selection import RandomizedSearchCV\n",
        "from sklearn.svm import SVC\n",
        "from sklearn.model_selection import TimeSeriesSplit"
      ]
    },
    {
      "cell_type": "markdown",
      "source": [
        "## Data and Preprocessing"
      ],
      "metadata": {
        "id": "ofc4b_lA8XD9"
      }
    },
    {
      "cell_type": "markdown",
      "source": [
        "### Using the yfinance library download daily Microsoft stock data with maximum history."
      ],
      "metadata": {
        "id": "d781pYsE8eMF"
      }
    },
    {
      "cell_type": "code",
      "source": [
        "msft = yf.Ticker('MSFT')\n",
        "df = msft.history('max')"
      ],
      "metadata": {
        "id": "dvgEi0aN8md5"
      },
      "execution_count": 5,
      "outputs": []
    },
    {
      "cell_type": "code",
      "source": [
        "df.tail(10)"
      ],
      "metadata": {
        "colab": {
          "base_uri": "https://localhost:8080/",
          "height": 394
        },
        "id": "TGtLdGVQ8sdW",
        "outputId": "46d7c5f6-affb-4955-fdba-620f428287d2"
      },
      "execution_count": 6,
      "outputs": [
        {
          "output_type": "execute_result",
          "data": {
            "text/plain": [
              "                  Open        High         Low       Close    Volume  \\\n",
              "Date                                                                   \n",
              "2022-04-27  282.100006  290.970001  279.160004  283.220001  63477700   \n",
              "2022-04-28  285.190002  290.980011  281.459991  289.630005  33646600   \n",
              "2022-04-29  288.609985  289.880005  276.500000  277.519989  37025000   \n",
              "2022-05-02  277.709991  284.940002  276.220001  284.470001  35151100   \n",
              "2022-05-03  283.959991  284.130005  280.149994  281.779999  25978600   \n",
              "2022-05-04  282.589996  290.880005  276.730011  289.980011  33599300   \n",
              "2022-05-05  285.540009  286.350006  274.339996  277.350006  43260400   \n",
              "2022-05-06  274.809998  279.250000  271.269989  274.730011  37748300   \n",
              "2022-05-09  270.059998  272.359985  263.320007  264.579987  47726000   \n",
              "2022-05-10  271.690002  273.750000  265.070007  269.500000  39268481   \n",
              "\n",
              "            Dividends  Stock Splits  \n",
              "Date                                 \n",
              "2022-04-27        0.0           0.0  \n",
              "2022-04-28        0.0           0.0  \n",
              "2022-04-29        0.0           0.0  \n",
              "2022-05-02        0.0           0.0  \n",
              "2022-05-03        0.0           0.0  \n",
              "2022-05-04        0.0           0.0  \n",
              "2022-05-05        0.0           0.0  \n",
              "2022-05-06        0.0           0.0  \n",
              "2022-05-09        0.0           0.0  \n",
              "2022-05-10        0.0           0.0  "
            ],
            "text/html": [
              "\n",
              "  <div id=\"df-c9ff5100-1818-4757-a1ce-cd5fce29ae91\">\n",
              "    <div class=\"colab-df-container\">\n",
              "      <div>\n",
              "<style scoped>\n",
              "    .dataframe tbody tr th:only-of-type {\n",
              "        vertical-align: middle;\n",
              "    }\n",
              "\n",
              "    .dataframe tbody tr th {\n",
              "        vertical-align: top;\n",
              "    }\n",
              "\n",
              "    .dataframe thead th {\n",
              "        text-align: right;\n",
              "    }\n",
              "</style>\n",
              "<table border=\"1\" class=\"dataframe\">\n",
              "  <thead>\n",
              "    <tr style=\"text-align: right;\">\n",
              "      <th></th>\n",
              "      <th>Open</th>\n",
              "      <th>High</th>\n",
              "      <th>Low</th>\n",
              "      <th>Close</th>\n",
              "      <th>Volume</th>\n",
              "      <th>Dividends</th>\n",
              "      <th>Stock Splits</th>\n",
              "    </tr>\n",
              "    <tr>\n",
              "      <th>Date</th>\n",
              "      <th></th>\n",
              "      <th></th>\n",
              "      <th></th>\n",
              "      <th></th>\n",
              "      <th></th>\n",
              "      <th></th>\n",
              "      <th></th>\n",
              "    </tr>\n",
              "  </thead>\n",
              "  <tbody>\n",
              "    <tr>\n",
              "      <th>2022-04-27</th>\n",
              "      <td>282.100006</td>\n",
              "      <td>290.970001</td>\n",
              "      <td>279.160004</td>\n",
              "      <td>283.220001</td>\n",
              "      <td>63477700</td>\n",
              "      <td>0.0</td>\n",
              "      <td>0.0</td>\n",
              "    </tr>\n",
              "    <tr>\n",
              "      <th>2022-04-28</th>\n",
              "      <td>285.190002</td>\n",
              "      <td>290.980011</td>\n",
              "      <td>281.459991</td>\n",
              "      <td>289.630005</td>\n",
              "      <td>33646600</td>\n",
              "      <td>0.0</td>\n",
              "      <td>0.0</td>\n",
              "    </tr>\n",
              "    <tr>\n",
              "      <th>2022-04-29</th>\n",
              "      <td>288.609985</td>\n",
              "      <td>289.880005</td>\n",
              "      <td>276.500000</td>\n",
              "      <td>277.519989</td>\n",
              "      <td>37025000</td>\n",
              "      <td>0.0</td>\n",
              "      <td>0.0</td>\n",
              "    </tr>\n",
              "    <tr>\n",
              "      <th>2022-05-02</th>\n",
              "      <td>277.709991</td>\n",
              "      <td>284.940002</td>\n",
              "      <td>276.220001</td>\n",
              "      <td>284.470001</td>\n",
              "      <td>35151100</td>\n",
              "      <td>0.0</td>\n",
              "      <td>0.0</td>\n",
              "    </tr>\n",
              "    <tr>\n",
              "      <th>2022-05-03</th>\n",
              "      <td>283.959991</td>\n",
              "      <td>284.130005</td>\n",
              "      <td>280.149994</td>\n",
              "      <td>281.779999</td>\n",
              "      <td>25978600</td>\n",
              "      <td>0.0</td>\n",
              "      <td>0.0</td>\n",
              "    </tr>\n",
              "    <tr>\n",
              "      <th>2022-05-04</th>\n",
              "      <td>282.589996</td>\n",
              "      <td>290.880005</td>\n",
              "      <td>276.730011</td>\n",
              "      <td>289.980011</td>\n",
              "      <td>33599300</td>\n",
              "      <td>0.0</td>\n",
              "      <td>0.0</td>\n",
              "    </tr>\n",
              "    <tr>\n",
              "      <th>2022-05-05</th>\n",
              "      <td>285.540009</td>\n",
              "      <td>286.350006</td>\n",
              "      <td>274.339996</td>\n",
              "      <td>277.350006</td>\n",
              "      <td>43260400</td>\n",
              "      <td>0.0</td>\n",
              "      <td>0.0</td>\n",
              "    </tr>\n",
              "    <tr>\n",
              "      <th>2022-05-06</th>\n",
              "      <td>274.809998</td>\n",
              "      <td>279.250000</td>\n",
              "      <td>271.269989</td>\n",
              "      <td>274.730011</td>\n",
              "      <td>37748300</td>\n",
              "      <td>0.0</td>\n",
              "      <td>0.0</td>\n",
              "    </tr>\n",
              "    <tr>\n",
              "      <th>2022-05-09</th>\n",
              "      <td>270.059998</td>\n",
              "      <td>272.359985</td>\n",
              "      <td>263.320007</td>\n",
              "      <td>264.579987</td>\n",
              "      <td>47726000</td>\n",
              "      <td>0.0</td>\n",
              "      <td>0.0</td>\n",
              "    </tr>\n",
              "    <tr>\n",
              "      <th>2022-05-10</th>\n",
              "      <td>271.690002</td>\n",
              "      <td>273.750000</td>\n",
              "      <td>265.070007</td>\n",
              "      <td>269.500000</td>\n",
              "      <td>39268481</td>\n",
              "      <td>0.0</td>\n",
              "      <td>0.0</td>\n",
              "    </tr>\n",
              "  </tbody>\n",
              "</table>\n",
              "</div>\n",
              "      <button class=\"colab-df-convert\" onclick=\"convertToInteractive('df-c9ff5100-1818-4757-a1ce-cd5fce29ae91')\"\n",
              "              title=\"Convert this dataframe to an interactive table.\"\n",
              "              style=\"display:none;\">\n",
              "        \n",
              "  <svg xmlns=\"http://www.w3.org/2000/svg\" height=\"24px\"viewBox=\"0 0 24 24\"\n",
              "       width=\"24px\">\n",
              "    <path d=\"M0 0h24v24H0V0z\" fill=\"none\"/>\n",
              "    <path d=\"M18.56 5.44l.94 2.06.94-2.06 2.06-.94-2.06-.94-.94-2.06-.94 2.06-2.06.94zm-11 1L8.5 8.5l.94-2.06 2.06-.94-2.06-.94L8.5 2.5l-.94 2.06-2.06.94zm10 10l.94 2.06.94-2.06 2.06-.94-2.06-.94-.94-2.06-.94 2.06-2.06.94z\"/><path d=\"M17.41 7.96l-1.37-1.37c-.4-.4-.92-.59-1.43-.59-.52 0-1.04.2-1.43.59L10.3 9.45l-7.72 7.72c-.78.78-.78 2.05 0 2.83L4 21.41c.39.39.9.59 1.41.59.51 0 1.02-.2 1.41-.59l7.78-7.78 2.81-2.81c.8-.78.8-2.07 0-2.86zM5.41 20L4 18.59l7.72-7.72 1.47 1.35L5.41 20z\"/>\n",
              "  </svg>\n",
              "      </button>\n",
              "      \n",
              "  <style>\n",
              "    .colab-df-container {\n",
              "      display:flex;\n",
              "      flex-wrap:wrap;\n",
              "      gap: 12px;\n",
              "    }\n",
              "\n",
              "    .colab-df-convert {\n",
              "      background-color: #E8F0FE;\n",
              "      border: none;\n",
              "      border-radius: 50%;\n",
              "      cursor: pointer;\n",
              "      display: none;\n",
              "      fill: #1967D2;\n",
              "      height: 32px;\n",
              "      padding: 0 0 0 0;\n",
              "      width: 32px;\n",
              "    }\n",
              "\n",
              "    .colab-df-convert:hover {\n",
              "      background-color: #E2EBFA;\n",
              "      box-shadow: 0px 1px 2px rgba(60, 64, 67, 0.3), 0px 1px 3px 1px rgba(60, 64, 67, 0.15);\n",
              "      fill: #174EA6;\n",
              "    }\n",
              "\n",
              "    [theme=dark] .colab-df-convert {\n",
              "      background-color: #3B4455;\n",
              "      fill: #D2E3FC;\n",
              "    }\n",
              "\n",
              "    [theme=dark] .colab-df-convert:hover {\n",
              "      background-color: #434B5C;\n",
              "      box-shadow: 0px 1px 3px 1px rgba(0, 0, 0, 0.15);\n",
              "      filter: drop-shadow(0px 1px 2px rgba(0, 0, 0, 0.3));\n",
              "      fill: #FFFFFF;\n",
              "    }\n",
              "  </style>\n",
              "\n",
              "      <script>\n",
              "        const buttonEl =\n",
              "          document.querySelector('#df-c9ff5100-1818-4757-a1ce-cd5fce29ae91 button.colab-df-convert');\n",
              "        buttonEl.style.display =\n",
              "          google.colab.kernel.accessAllowed ? 'block' : 'none';\n",
              "\n",
              "        async function convertToInteractive(key) {\n",
              "          const element = document.querySelector('#df-c9ff5100-1818-4757-a1ce-cd5fce29ae91');\n",
              "          const dataTable =\n",
              "            await google.colab.kernel.invokeFunction('convertToInteractive',\n",
              "                                                     [key], {});\n",
              "          if (!dataTable) return;\n",
              "\n",
              "          const docLinkHtml = 'Like what you see? Visit the ' +\n",
              "            '<a target=\"_blank\" href=https://colab.research.google.com/notebooks/data_table.ipynb>data table notebook</a>'\n",
              "            + ' to learn more about interactive tables.';\n",
              "          element.innerHTML = '';\n",
              "          dataTable['output_type'] = 'display_data';\n",
              "          await google.colab.output.renderOutput(dataTable, element);\n",
              "          const docLink = document.createElement('div');\n",
              "          docLink.innerHTML = docLinkHtml;\n",
              "          element.appendChild(docLink);\n",
              "        }\n",
              "      </script>\n",
              "    </div>\n",
              "  </div>\n",
              "  "
            ]
          },
          "metadata": {},
          "execution_count": 6
        }
      ]
    },
    {
      "cell_type": "markdown",
      "source": [
        "### Compute the following indicators using the pandas and ta-lib libraries\n",
        "\n",
        "- Lagged High price\n",
        "- Lagged Close price\n",
        "- Lagged Low price\n",
        "- Bollinger bands using lagged close price with timeperiod=20\n",
        "- RSI using lagged close price with timeperiod=14\n",
        "- MACD using lagged close price with fastperiod=12, slowperiod=26, signalperiod=9\n",
        "- Momentum using lagged close price with timeperiod=12\n",
        "- OBV with lagged close price and lagged volume\n",
        "- ATR with lagged high, low, and close price\n",
        "- Continuously compounded returns of the Open price\n",
        "- CCI using lagged high, low, and close price."
      ],
      "metadata": {
        "id": "ecBNccxH8jgu"
      }
    },
    {
      "cell_type": "code",
      "source": [
        "df['High Shifted'] = df['High'].shift(1)\n",
        "df['Low Shifted'] = df['Low'].shift(1)\n",
        "df['Close Shifted'] = df['Close'].shift(1)\n",
        "df['Upper BBand'], df['Middle BBand'], df['Lower BBand'] = ta.BBANDS(df['Close Shifted'],timeperiod=20)\n",
        "df['RSI'] = ta.RSI(np.array(df['Close Shifted']), timeperiod=14)\n",
        "df['Macd'], df['Macd Signal'], df['Macd Hist'] = ta.MACD(df['Close Shifted'], fastperiod=12, slowperiod=26, signalperiod=9)\n",
        "df['OBV'] = ta.OBV(df['Close Shifted'],df['Volume'].shift(1))\n",
        "df['ATR'] = ta.ATR(df['High'].shift(1), df['Low'].shift(1), df['Close'].shift(1))\n",
        "df['Returns'] = np.log(df['Open'] / df['Open'].shift(1))\n",
        "df['CCI'] = ta.CCI(df['High Shifted'], df['Low Shifted'], df['Close Shifted'])\n",
        "\n",
        "df.dropna(inplace=True)"
      ],
      "metadata": {
        "id": "mVo-B5jf8LhL"
      },
      "execution_count": 7,
      "outputs": []
    },
    {
      "cell_type": "markdown",
      "source": [
        "### You want to long the stock if the return is greater or equal to 1 percent, short the stock when the stock return is less than or equal to -1 percent, and do nothing if the return is between -1 and 1 (exclusive). Create the label where = 1 when R >= 0.01, =0 when -0.01 <= R <= 0.01, = -1 when R >= -0.01. "
      ],
      "metadata": {
        "id": "mACHKAyR-scl"
      }
    },
    {
      "cell_type": "code",
      "source": [
        "def assign_label(v):\n",
        "    if v <= -0.01:\n",
        "        return -1\n",
        "    elif v >= 0.01:\n",
        "        return 1\n",
        "    else:\n",
        "        return 0\n",
        "\n",
        "df['Label'] = df['Returns'].map(assign_label)"
      ],
      "metadata": {
        "id": "HB0Qu_JQ_FK3"
      },
      "execution_count": 8,
      "outputs": []
    },
    {
      "cell_type": "markdown",
      "source": [
        "### Create the feature space X and label vector y. Your feature space should exclude the following variables: ’Label’,’Returns’,’Open’,’Close’,’Volume’,’High’,’Low’,’Dividends’, and ’Stock Splits’"
      ],
      "metadata": {
        "id": "7w7HSzqSEtrs"
      }
    },
    {
      "cell_type": "code",
      "source": [
        "X = df.drop(['Label', 'Returns', 'Open', 'Close', 'Volume', 'High', 'Low', 'Dividends', 'Stock Splits'], 1)\n",
        "Y = df['Label']"
      ],
      "metadata": {
        "id": "_bm6-_2pEwUs"
      },
      "execution_count": 9,
      "outputs": []
    },
    {
      "cell_type": "markdown",
      "source": [
        "### Create the train and test subsets. The training set will inlclude all data points except the last 30 days of the sample. The test sample will include the last 30 days of the sample.\n",
        "You will need to fit a MinMaxScaler from the sklearn library to your train and test feature space separately. Therefore, you need to call the MinMaxScaler for both your training set and your test set.For the traning set the MinMaxScaler will use only the information contained in the training set (hint:use fit transform). For the test set the MinMaxScaler will transform the test set using information in the training set hint: use transform.\n"
      ],
      "metadata": {
        "id": "tE1ei46XG1DX"
      }
    },
    {
      "cell_type": "code",
      "source": [
        "from sklearn import preprocessing\n",
        "minmax = preprocessing.MinMaxScaler()\n",
        "\n",
        "X_train = minmax.fit_transform(X.iloc[:-30, :])\n",
        "X_test = pd.DataFrame(minmax.transform(X)).iloc[-30:, :]\n",
        "y_train = Y.iloc[:-30]\n",
        "y_test = Y.iloc[-30:]"
      ],
      "metadata": {
        "id": "2fCOsud7G4tF"
      },
      "execution_count": 10,
      "outputs": []
    },
    {
      "cell_type": "markdown",
      "source": [
        "## Discriminative Learning"
      ],
      "metadata": {
        "id": "HfiwD-tCMyc7"
      }
    },
    {
      "cell_type": "markdown",
      "source": [
        "### Use Logistic Regression with solver=liblinear’ to classify the label. \n",
        "Tune hyper-parameters ’penalty’ and ’C’ using GridSearchCV implementation and Time Series Split with n split=5, test size=1, gap=0. The grid search should search over: penalty: ’l1’,’l2’ and C:[0.1, 0.5, 1, 2, 3, 4, 5, 10]\n",
        "Report the selected parameters, and accuracy on the training and test data."
      ],
      "metadata": {
        "id": "c_4XYMOOM3Yi"
      }
    },
    {
      "cell_type": "code",
      "source": [
        "from sklearn.linear_model import LogisticRegression\n",
        "from sklearn.model_selection import GridSearchCV\n",
        "from sklearn.metrics import accuracy_score\n",
        "from sklearn.model_selection import TimeSeriesSplit\n",
        "\n",
        "parameters = {'penalty': ['l1','l2'], \n",
        "              'C':[0.1, 0.5, 1, 2, 3, 4, 5, 10]} \n",
        "\n",
        "logreg = LogisticRegression(solver='liblinear')\n",
        "lr_search = GridSearchCV(logreg, parameters, cv=TimeSeriesSplit(5, test_size=1, gap=0)) # takes 10 mins\n",
        "lr_search.fit(X_train, y_train)\n",
        "y_pred = lr_search.predict(X_test)\n",
        "\n",
        "accuracy = accuracy_score(y_pred, y_test)\n",
        "train_acc = accuracy_score(lr_search.predict(X_train), y_train)\n",
        "print ('Selected Parameters: ', lr_search.best_params_)\n",
        "print ('Training Accuracy = ' + str(train_acc))\n",
        "print ('Test Accuracy = ' + str(accuracy))\n",
        "\n",
        "# if don't want take 10 mins\n",
        "# logreg = LogisticRegression(solver='liblinear', C=0.1, penalty='l2')\n",
        "# logreg.fit(X_train, y_train)\n",
        "# y_pred = logreg.predict(X_test)\n",
        "\n",
        "# accuracy = accuracy_score(y_pred, y_test)\n",
        "# train_acc = accuracy_score(logreg.predict(X_train), y_train)\n",
        "# print ('Training Accuracy = ' + str(train_acc))\n",
        "# print ('Test Accuracy = ' + str(accuracy))\n",
        "\n",
        "y_pred_LR = y_pred"
      ],
      "metadata": {
        "colab": {
          "base_uri": "https://localhost:8080/"
        },
        "id": "OJIha9ROM0Gp",
        "outputId": "356e5a00-e2b5-455a-e847-d854c3d269e3"
      },
      "execution_count": 11,
      "outputs": [
        {
          "output_type": "stream",
          "name": "stdout",
          "text": [
            "Selected Parameters:  {'C': 0.1, 'penalty': 'l2'}\n",
            "Training Accuracy = 0.4954148712849409\n",
            "Test Accuracy = 0.4\n"
          ]
        }
      ]
    },
    {
      "cell_type": "markdown",
      "source": [
        "## Support Vector Machine"
      ],
      "metadata": {
        "id": "64rebYXD1754"
      }
    },
    {
      "cell_type": "markdown",
      "source": [
        "### Use Support Vector Machine to classify label. \n",
        "Tune hyper-parameters ‘C’ and ‘kernel’ using RandomizedSearchCV implementation and Time Series Split with n split=5, test size=1, gap=0.The randomized search should search over: ’C’:[0.3,0.5,1,5,10,20,30,50,100] and ’kernel’:[’linear’,’rbf’]. You will use the scoring method ‘f1 macro’ in the cross-validation.\n",
        "Report the selected parameters. Report the accuracy, precision, and recall on the test data.\n"
      ],
      "metadata": {
        "id": "1EkoB5rX3dFq"
      }
    },
    {
      "cell_type": "code",
      "source": [
        "SVC = SVC(kernel='rbf')\n",
        "param_grid={'C':[0.3,0.5,1,5,10,20,30,50,100],\n",
        "            'kernel':['linear', 'rbf']}\n",
        "SVC_search = RandomizedSearchCV(SVC, param_distributions=param_grid, cv=TimeSeriesSplit(5, test_size=1, gap=0)) # 4 min to run\n",
        "SVC_search.fit(X_train, y_train)\n",
        "y_pred = SVC_search.predict(X_test)\n",
        "\n",
        "y_pred_SVC = y_pred"
      ],
      "metadata": {
        "id": "uWFYQ-Aq15wX"
      },
      "execution_count": null,
      "outputs": []
    },
    {
      "cell_type": "code",
      "source": [
        "from sklearn.metrics import f1_score\n",
        "from sklearn import metrics\n",
        "\n",
        "Accuracy = metrics.accuracy_score(y_test, y_pred)\n",
        "f_score = f1_score(y_test, y_pred, average='macro')\n",
        "Precision = metrics.precision_score(y_test, y_pred, average='macro')\n",
        "Recall = metrics.recall_score(y_test, y_pred, average='macro')\n",
        "\n",
        "print ('Selected Parameters: ', SVC_search.best_params_)\n",
        "print ('Test Accuracy: ' + str(Accuracy))\n",
        "print ('f1 score: ', f_score)\n",
        "print ('Precision: ', Precision)\n",
        "print ('Recall: ', Recall)"
      ],
      "metadata": {
        "colab": {
          "base_uri": "https://localhost:8080/"
        },
        "id": "vgtkf51U4Pr9",
        "outputId": "6f85064c-4196-4d75-d233-35aac1f8648d"
      },
      "execution_count": 19,
      "outputs": [
        {
          "output_type": "stream",
          "name": "stdout",
          "text": [
            "Selected Parameters:  {'kernel': 'linear', 'C': 20}\n",
            "Test Accuracy: 0.5\n",
            "f1 score:  0.5084422657952069\n",
            "Precision:  0.6385964912280702\n",
            "Recall:  0.5227272727272727\n"
          ]
        }
      ]
    },
    {
      "cell_type": "markdown",
      "source": [
        "### Show a graph that compares the cumulative sum returns of the logistics and SVM strategy returns to the market buy and hold returns. Which strategy is best? Is there a period one strategy is better than the other?"
      ],
      "metadata": {
        "id": "kvk6-5vPADjt"
      }
    },
    {
      "cell_type": "code",
      "source": [
        "df2 = df.copy()"
      ],
      "metadata": {
        "id": "F6LRtO00cYDs"
      },
      "execution_count": 14,
      "outputs": []
    },
    {
      "cell_type": "code",
      "source": [
        "df2['SVM Signal'] = 0\n",
        "df2['SVM Returns'] = 0\n",
        "\n",
        "df2['LR Singal'] = 0\n",
        "df2['LR Returns'] = 0\n",
        " \n",
        "df2['Total Strat Returns SVM'] = 0\n",
        "df2['Total Strat Returns LR'] = 0\n",
        "df2['Market Returns'] = 0    "
      ],
      "metadata": {
        "id": "MTy0WJp9JaEZ"
      },
      "execution_count": 15,
      "outputs": []
    },
    {
      "cell_type": "code",
      "source": [
        "Signal_Column_SVM = df2.columns.get_loc('SVM Signal')\n",
        "Strat_Column_SVM = df2.columns.get_loc('SVM Returns')\n",
        "\n",
        "Signal_Column_LR = df2.columns.get_loc('LR Singal')\n",
        "Strat_Column_LR = df2.columns.get_loc('LR Returns')\n",
        "\n",
        "SVC_Return_Column = df2.columns.get_loc('Total Strat Returns SVM')\n",
        "LR_Return_Column = df2.columns.get_loc('Total Strat Returns LR')\n",
        "Market_Column = df2.columns.get_loc('Market Returns')\n",
        "     \n",
        "df2.iloc[-30:, Signal_Column_SVM] = list(map(int, y_pred_SVC))\n",
        "df2['SVM Returns'] = df2['SVM Signal'] * df2['Returns'].shift(-1)\n",
        "\n",
        "df2.iloc[-30:, Signal_Column_LR] = list(map(int, y_pred_LR))\n",
        "df2['LR Returns'] = df2['LR Singal'] * df2['Returns'].shift(-1)\n",
        "    \n",
        "df2.iloc[-30:, SVC_Return_Column] = np.nancumsum(df2['SVM Returns'][-30:])\n",
        "df2.iloc[-30:, LR_Return_Column] = np.nancumsum(df2['LR Returns'][-30:])\n",
        "df2.iloc[-30:, Market_Column] = np.nancumsum(df2['Returns'][-30:])\n",
        "    \n",
        "# df2['SVM_Sharpe_Ratio'] = (df2['Total Strat Returns SVM'][-1] - df2['Market Returns'][-1]) / np.nanstd(df2['Total Strat Returns'][-30:])"
      ],
      "metadata": {
        "id": "oX7xEvMFJaf0"
      },
      "execution_count": 16,
      "outputs": []
    },
    {
      "cell_type": "code",
      "source": [
        "import matplotlib.pyplot as plt\n",
        "from matplotlib.dates import DateFormatter\n",
        "import matplotlib.ticker as ticker\n",
        "\n",
        "fig, ax = plt.subplots(figsize=(16, 8))\n",
        "\n",
        "ax.plot(df2[-30:].index.values, df2['Total Strat Returns SVM'][-30:].values, color='r', label=\"SVM Strategy Returns\")\n",
        "ax.plot(df2[-30:].index.values, df2['Total Strat Returns LR'][-30:].values, color='b', label=\"LR Strategy Returns\")\n",
        "ax.plot(df2[-30:].index.values, df2['Market Returns'][-30:].values, color='k', label=\"Buy and Hold\")\n",
        "    \n",
        "ax.set(xlabel= \"Date\", ylabel=\"Returns\")\n",
        "plt.title('MSFT', fontsize=15)\n",
        "ax.xaxis.set_major_locator(ticker.AutoLocator())\n",
        "    \n",
        "# plt.figtext(.95,0.78, s=\"Sharpe Ratio \" + '5.27')\n",
        "# plt.figtext(.95,0.75, s=\"Sum Total Strat Returns \" + '0.49')\n",
        "# plt.figtext(.95,0.72, s=\"Model Accuracy \" + '0.6')\n",
        "# plt.figtext(.95,0.69, s=\"Model Precision \" + '0.72')\n",
        "# plt.figtext(.95,0.66, s=\"Model Recall \" + '0.47')\n",
        "    \n",
        "plt.legend(loc='best')\n",
        "plt.show()"
      ],
      "metadata": {
        "colab": {
          "base_uri": "https://localhost:8080/",
          "height": 505
        },
        "id": "hV8QrznbAIQL",
        "outputId": "38559d4f-df5d-40b8-aefd-f7245c243218"
      },
      "execution_count": 17,
      "outputs": [
        {
          "output_type": "display_data",
          "data": {
            "text/plain": [
              "<Figure size 1152x576 with 1 Axes>"
            ],
            "image/png": "[encoded data removed]"
          },
          "metadata": {
            "needs_background": "light"
          }
        }
      ]
    },
    {
      "cell_type": "markdown",
      "source": [
        "### Do you think these results are dependent on the cross-validation method and scoring? Do you think that if you change the scoring method you would get different results? Hint: think of the mathematical formulas used for scoring in the Randomized Search CV and Grid Search CV. For SVM we used f1 macro."
      ],
      "metadata": {
        "id": "01N-d9c0_5xg"
      }
    },
    {
      "cell_type": "markdown",
      "source": [
        "Changing the scoring method will change the results.\n",
        "\n",
        "When we use F1-marco, we take the unweighted average f1 score for the dataset. But in the question of SVM, there are three classes and the validation dataset might have an uneven distribution. Therefore, the results may change."
      ],
      "metadata": {
        "id": "vYnURM3madUr"
      }
    },
    {
      "cell_type": "markdown",
      "source": [
        "### Bonus: Provide supporting empirical evidence to your answers in question 9. Hint: Run additional models with your suggested CV and hyper-parameter selection. You can show a graph comparing your new method’s performance relative to your answers in question 8."
      ],
      "metadata": {
        "id": "plTrQXDq_8ar"
      }
    },
    {
      "cell_type": "code",
      "source": [
        "SVC2 = SVC(kernel='rbf')\n",
        "param_grid={'C':[0.3,0.5,1,5,10,20,30,50,100],\n",
        "            'kernel':['linear', 'rbf']}\n",
        "SVC_search = RandomizedSearchCV(SVC2, param_distributions=param_grid, cv=TimeSeriesSplit(5, test_size=1, gap=0), scoring='roc_auc') # 6 min to run\n",
        "SVC_search.fit(X_train, y_train)\n",
        "y_pred = SVC_search.predict(X_test)\n",
        "\n",
        "y_pred_SVC = y_pred"
      ],
      "metadata": {
        "id": "3V3GPMB6AJGQ"
      },
      "execution_count": 38,
      "outputs": []
    },
    {
      "cell_type": "code",
      "source": [
        "Accuracy = metrics.accuracy_score(y_test, y_pred)\n",
        "f_score = f1_score(y_test, y_pred, average='macro')\n",
        "Precision = metrics.precision_score(y_test, y_pred, average='macro')\n",
        "Recall = metrics.recall_score(y_test, y_pred, average='macro')\n",
        "\n",
        "print ('Selected Parameters: ', SVC_search.best_params_)\n",
        "print ('Test Accuracy: ' + str(Accuracy))\n",
        "print ('f1 score: ', f_score)\n",
        "print ('Precision: ', Precision)\n",
        "print ('Recall: ', Recall)"
      ],
      "metadata": {
        "colab": {
          "base_uri": "https://localhost:8080/"
        },
        "id": "5WkgrsNdodWy",
        "outputId": "78e9c01f-cfc2-4c8d-8ae1-4ac7d574f817"
      },
      "execution_count": 39,
      "outputs": [
        {
          "output_type": "stream",
          "name": "stdout",
          "text": [
            "Selected Parameters:  {'kernel': 'rbf', 'C': 0.5}\n",
            "Test Accuracy: 0.26666666666666666\n",
            "f1 score:  0.14035087719298248\n",
            "Precision:  0.08888888888888889\n",
            "Recall:  0.3333333333333333\n"
          ]
        }
      ]
    },
    {
      "cell_type": "code",
      "source": [
        "df2['SVM2 Signal'] = 0\n",
        "df2['SVM2 Returns'] = 0\n",
        "df2['Total Strat Returns SVM2'] = 0\n",
        "Signal_Column_SVM2 = df2.columns.get_loc('SVM2 Signal')\n",
        "Strat_Column_SVM2 = df2.columns.get_loc('SVM2 Returns')\n",
        "\n",
        "SVC_Return_Column2 = df2.columns.get_loc('Total Strat Returns SVM2')\n",
        "     \n",
        "df2.iloc[-30:, Signal_Column_SVM2] = list(map(int, y_pred_SVC))\n",
        "df2['SVM2 Returns'] = df2['SVM2 Signal'] * df2['Returns'].shift(-1)\n",
        "    \n",
        "df2.iloc[-30:, SVC_Return_Column2] = np.nancumsum(df2['SVM2 Returns'][-30:])\n",
        "\n"
      ],
      "metadata": {
        "id": "kEBfP6e-or4f"
      },
      "execution_count": 40,
      "outputs": []
    },
    {
      "cell_type": "code",
      "source": [
        "fig, ax = plt.subplots(figsize=(16, 8))\n",
        "\n",
        "ax.plot(df2[-30:].index.values, df2['Total Strat Returns SVM2'][-30:].values, color='g', label=\"SVM2 Strategy Returns\")\n",
        "ax.plot(df2[-30:].index.values, df2['Total Strat Returns SVM'][-30:].values, color='r', label=\"SVM Strategy Returns\")\n",
        "ax.plot(df2[-30:].index.values, df2['Total Strat Returns LR'][-30:].values, color='b', label=\"LR Strategy Returns\")\n",
        "ax.plot(df2[-30:].index.values, df2['Market Returns'][-30:].values, color='k', label=\"Buy and Hold\")\n",
        "    \n",
        "ax.set(xlabel= \"Date\", ylabel=\"Returns\")\n",
        "plt.title('MSFT', fontsize=15)\n",
        "ax.xaxis.set_major_locator(ticker.AutoLocator())\n",
        " \n",
        "plt.legend(loc='best')\n",
        "plt.show()"
      ],
      "metadata": {
        "colab": {
          "base_uri": "https://localhost:8080/",
          "height": 505
        },
        "id": "2FiyVrPjpCxO",
        "outputId": "55c176f1-427e-46db-a4f9-324b201683a6"
      },
      "execution_count": 41,
      "outputs": [
        {
          "output_type": "display_data",
          "data": {
            "text/plain": [
              "<Figure size 1152x576 with 1 Axes>"
            ],
            "image/png": "[encoded data removed]"
          },
          "metadata": {
            "needs_background": "light"
          }
        }
      ]
    }
  ]
}