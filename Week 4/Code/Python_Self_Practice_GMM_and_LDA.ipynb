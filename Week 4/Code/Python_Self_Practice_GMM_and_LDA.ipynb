{
  "cells": [
    {
      "cell_type": "markdown",
      "metadata": {
        "id": "TEaBcUlamJby"
      },
      "source": [
        "# Practice Question\n",
        "\n",
        "## GMM\n",
        "\n",
        "1.1. Build a GMM on the Iris data (first 2 features) and tune your model for different covariance types.\n",
        "\n",
        "1.2. Plot the results as shown in the hands on.\n",
        "\n",
        "## LDA\n",
        "\n",
        "2.1. Perform Linear Discriminant Analysis on the Iris Data (first 2 features). \n",
        "\n",
        "2.2. Plot the results as shown in the hands on."
      ]
    },
    {
      "cell_type": "code",
      "execution_count": null,
      "metadata": {
        "collapsed": true,
        "id": "c64m20zVmJb0"
      },
      "outputs": [],
      "source": [
        "from sklearn import datasets\n",
        "import numpy as np\n",
        "import pandas as pd\n",
        "\n",
        "# Import libraries here"
      ]
    },
    {
      "cell_type": "code",
      "execution_count": null,
      "metadata": {
        "collapsed": true,
        "id": "2jRYdMJQmJb1"
      },
      "outputs": [],
      "source": [
        "# Load the iris dataset\n",
        "iris = datasets.load_iris()\n",
        "X = iris.data[:, :2]\n",
        "y = iris.target"
      ]
    },
    {
      "cell_type": "code",
      "execution_count": null,
      "metadata": {
        "collapsed": true,
        "id": "EZ-TPC6umJb1"
      },
      "outputs": [],
      "source": [
        "#split the dataset into train, valid and test\n",
        "\n"
      ]
    }
  ],
  "metadata": {
    "colab": {
      "name": "Python Self-Practice: GMM and LDA.ipynb",
      "provenance": []
    },
    "kernelspec": {
      "display_name": "Python 3",
      "language": "python",
      "name": "python3"
    },
    "language_info": {
      "codemirror_mode": {
        "name": "ipython",
        "version": 3
      },
      "file_extension": ".py",
      "mimetype": "text/x-python",
      "name": "python",
      "nbconvert_exporter": "python",
      "pygments_lexer": "ipython3",
      "version": "3.10.2"
    }
  },
  "nbformat": 4,
  "nbformat_minor": 0
}
