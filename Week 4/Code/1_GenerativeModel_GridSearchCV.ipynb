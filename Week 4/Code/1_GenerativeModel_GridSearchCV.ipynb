{
  "cells": [
    {
      "cell_type": "markdown",
      "metadata": {
        "id": "13ZYI334KrJ5"
      },
      "source": [
        "# Outline:\n",
        "- Load Wine data\n",
        "- Implement Gaussian Naive Bayes\n",
        "- Introduce GridSearchCV on Random Forest\n",
        "- Introduce make_classification function "
      ]
    },
    {
      "cell_type": "code",
      "execution_count": 1,
      "metadata": {
        "colab": {
          "base_uri": "https://localhost:8080/"
        },
        "id": "fVVzHjq2KrJ-",
        "outputId": "843bfe0c-cfb6-4a0a-ceb6-5e75dedf37bc"
      },
      "outputs": [],
      "source": [
        "from sklearn.model_selection import train_test_split\n",
        "import numpy as np\n",
        "import pandas as pd\n",
        "\n",
        "# !gdown --id 1WA0I2LdXT_v0GqyYQ6b92ad7cHm_fmUT\n",
        "\n",
        "# Load the wine dataset\n",
        "data = pd.read_csv('wine_original.csv')\n",
        "labels = data['class']\n",
        "del data['class']\n",
        "\n",
        "# Create training and test sets\n",
        "X_train, X_test, y_train, y_test = train_test_split(data, labels, test_size=0.2, random_state=10)"
      ]
    },
    {
      "cell_type": "code",
      "execution_count": 2,
      "metadata": {
        "colab": {
          "base_uri": "https://localhost:8080/",
          "height": 285
        },
        "id": "nAn4uF3qKrJ_",
        "outputId": "a2cec355-8e44-462d-a92c-2d6a41326578"
      },
      "outputs": [
        {
          "name": "stdout",
          "output_type": "stream",
          "text": [
            "(142, 13)\n"
          ]
        },
        {
          "data": {
            "text/html": [
              "<div>\n",
              "<style scoped>\n",
              "    .dataframe tbody tr th:only-of-type {\n",
              "        vertical-align: middle;\n",
              "    }\n",
              "\n",
              "    .dataframe tbody tr th {\n",
              "        vertical-align: top;\n",
              "    }\n",
              "\n",
              "    .dataframe thead th {\n",
              "        text-align: right;\n",
              "    }\n",
              "</style>\n",
              "<table border=\"1\" class=\"dataframe\">\n",
              "  <thead>\n",
              "    <tr style=\"text-align: right;\">\n",
              "      <th></th>\n",
              "      <th>Alcohol</th>\n",
              "      <th>Malic acid</th>\n",
              "      <th>Ash</th>\n",
              "      <th>Alcalinity of ash</th>\n",
              "      <th>Magnesium</th>\n",
              "      <th>Total phenols</th>\n",
              "      <th>Flavanoids</th>\n",
              "      <th>Nonflavanoid phenols</th>\n",
              "      <th>Proanthocyanins</th>\n",
              "      <th>Color intensity</th>\n",
              "      <th>Hue</th>\n",
              "      <th>OD280/OD315</th>\n",
              "      <th>Proline</th>\n",
              "    </tr>\n",
              "  </thead>\n",
              "  <tbody>\n",
              "    <tr>\n",
              "      <th>95</th>\n",
              "      <td>12.47</td>\n",
              "      <td>1.52</td>\n",
              "      <td>2.20</td>\n",
              "      <td>19.0</td>\n",
              "      <td>162</td>\n",
              "      <td>2.50</td>\n",
              "      <td>2.27</td>\n",
              "      <td>0.32</td>\n",
              "      <td>3.28</td>\n",
              "      <td>2.60</td>\n",
              "      <td>1.16</td>\n",
              "      <td>2.63</td>\n",
              "      <td>937</td>\n",
              "    </tr>\n",
              "    <tr>\n",
              "      <th>91</th>\n",
              "      <td>12.00</td>\n",
              "      <td>1.51</td>\n",
              "      <td>2.42</td>\n",
              "      <td>22.0</td>\n",
              "      <td>86</td>\n",
              "      <td>1.45</td>\n",
              "      <td>1.25</td>\n",
              "      <td>0.50</td>\n",
              "      <td>1.63</td>\n",
              "      <td>3.60</td>\n",
              "      <td>1.05</td>\n",
              "      <td>2.65</td>\n",
              "      <td>450</td>\n",
              "    </tr>\n",
              "    <tr>\n",
              "      <th>24</th>\n",
              "      <td>13.50</td>\n",
              "      <td>1.81</td>\n",
              "      <td>2.61</td>\n",
              "      <td>20.0</td>\n",
              "      <td>96</td>\n",
              "      <td>2.53</td>\n",
              "      <td>2.61</td>\n",
              "      <td>0.28</td>\n",
              "      <td>1.66</td>\n",
              "      <td>3.52</td>\n",
              "      <td>1.12</td>\n",
              "      <td>3.82</td>\n",
              "      <td>845</td>\n",
              "    </tr>\n",
              "    <tr>\n",
              "      <th>109</th>\n",
              "      <td>11.61</td>\n",
              "      <td>1.35</td>\n",
              "      <td>2.70</td>\n",
              "      <td>20.0</td>\n",
              "      <td>94</td>\n",
              "      <td>2.74</td>\n",
              "      <td>2.92</td>\n",
              "      <td>0.29</td>\n",
              "      <td>2.49</td>\n",
              "      <td>2.65</td>\n",
              "      <td>0.96</td>\n",
              "      <td>3.26</td>\n",
              "      <td>680</td>\n",
              "    </tr>\n",
              "    <tr>\n",
              "      <th>121</th>\n",
              "      <td>11.56</td>\n",
              "      <td>2.05</td>\n",
              "      <td>3.23</td>\n",
              "      <td>28.5</td>\n",
              "      <td>119</td>\n",
              "      <td>3.18</td>\n",
              "      <td>5.08</td>\n",
              "      <td>0.47</td>\n",
              "      <td>1.87</td>\n",
              "      <td>6.00</td>\n",
              "      <td>0.93</td>\n",
              "      <td>3.69</td>\n",
              "      <td>465</td>\n",
              "    </tr>\n",
              "  </tbody>\n",
              "</table>\n",
              "</div>"
            ],
            "text/plain": [
              "     Alcohol  Malic acid   Ash  Alcalinity of ash  Magnesium  Total phenols  \\\n",
              "95     12.47        1.52  2.20               19.0        162           2.50   \n",
              "91     12.00        1.51  2.42               22.0         86           1.45   \n",
              "24     13.50        1.81  2.61               20.0         96           2.53   \n",
              "109    11.61        1.35  2.70               20.0         94           2.74   \n",
              "121    11.56        2.05  3.23               28.5        119           3.18   \n",
              "\n",
              "     Flavanoids  Nonflavanoid phenols  Proanthocyanins  Color intensity   Hue  \\\n",
              "95         2.27                  0.32             3.28             2.60  1.16   \n",
              "91         1.25                  0.50             1.63             3.60  1.05   \n",
              "24         2.61                  0.28             1.66             3.52  1.12   \n",
              "109        2.92                  0.29             2.49             2.65  0.96   \n",
              "121        5.08                  0.47             1.87             6.00  0.93   \n",
              "\n",
              "     OD280/OD315  Proline  \n",
              "95          2.63      937  \n",
              "91          2.65      450  \n",
              "24          3.82      845  \n",
              "109         3.26      680  \n",
              "121         3.69      465  "
            ]
          },
          "execution_count": 2,
          "metadata": {},
          "output_type": "execute_result"
        }
      ],
      "source": [
        "print (X_train.shape)\n",
        "X_train.head()"
      ]
    },
    {
      "cell_type": "markdown",
      "metadata": {
        "id": "FGXjo3THKrKB"
      },
      "source": [
        "[NB doc](https://scikit-learn.org/stable/modules/naive_bayes.html)\n",
        "\n",
        "GaussianNB doc:\n",
        "https://scikit-learn.org/stable/modules/generated/sklearn.naive_bayes.GaussianNB.html#sklearn.naive_bayes.GaussianNB\n",
        "\n",
        "**priors:** array-like of shape (n_classes,) \\\n",
        "Prior probabilities of the classes. If specified the priors are not adjusted according to the data.\n",
        "\n",
        "**var_smoothing:** float, default=1e-9 \\\n",
        "Portion of the largest variance of all features that is added to variances for calculation stability.\n",
        "\n"
      ]
    },
    {
      "cell_type": "code",
      "execution_count": 3,
      "metadata": {
        "colab": {
          "base_uri": "https://localhost:8080/"
        },
        "id": "RnqJF6TwKrKB",
        "outputId": "9579f130-7a5a-451a-8475-dd1f8f4567ad"
      },
      "outputs": [
        {
          "data": {
            "text/plain": [
              "array([1.e+00, 1.e-01, 1.e-02, 1.e-03, 1.e-04, 1.e-05, 1.e-06, 1.e-07,\n",
              "       1.e-08, 1.e-09, 1.e-10, 1.e-11, 1.e-12])"
            ]
          },
          "execution_count": 3,
          "metadata": {},
          "output_type": "execute_result"
        }
      ],
      "source": [
        "np.logspace(0, -12, num =13)"
      ]
    },
    {
      "cell_type": "code",
      "execution_count": 4,
      "metadata": {
        "colab": {
          "base_uri": "https://localhost:8080/"
        },
        "id": "h6dvhwlCKrKC",
        "outputId": "94ec47da-0c35-4890-9939-34b4cf9ef9fe"
      },
      "outputs": [
        {
          "name": "stdout",
          "output_type": "stream",
          "text": [
            "vs = 1.0\n",
            "Training accuracy = 0.6690140845070423\n",
            "Test accuracy = 0.6944444444444444\n",
            "vs = 0.1\n",
            "Training accuracy = 0.7183098591549296\n",
            "Test accuracy = 0.7222222222222222\n",
            "vs = 0.01\n",
            "Training accuracy = 0.7394366197183099\n",
            "Test accuracy = 0.7222222222222222\n",
            "vs = 0.001\n",
            "Training accuracy = 0.7676056338028169\n",
            "Test accuracy = 0.7222222222222222\n",
            "vs = 0.0001\n",
            "Training accuracy = 0.9084507042253521\n",
            "Test accuracy = 0.9166666666666666\n",
            "vs = 1e-05\n",
            "Training accuracy = 0.9788732394366197\n",
            "Test accuracy = 0.9444444444444444\n",
            "vs = 1e-06\n",
            "Training accuracy = 0.9929577464788732\n",
            "Test accuracy = 0.9166666666666666\n",
            "vs = 1e-07\n",
            "Training accuracy = 0.9929577464788732\n",
            "Test accuracy = 0.8888888888888888\n",
            "vs = 1e-08\n",
            "Training accuracy = 0.9859154929577465\n",
            "Test accuracy = 0.8888888888888888\n",
            "vs = 1e-09\n",
            "Training accuracy = 0.9859154929577465\n",
            "Test accuracy = 0.8888888888888888\n",
            "vs = 1e-10\n",
            "Training accuracy = 0.9859154929577465\n",
            "Test accuracy = 0.8888888888888888\n",
            "vs = 1e-11\n",
            "Training accuracy = 0.9859154929577465\n",
            "Test accuracy = 0.8888888888888888\n",
            "vs = 1e-12\n",
            "Training accuracy = 0.9859154929577465\n",
            "Test accuracy = 0.8888888888888888\n"
          ]
        }
      ],
      "source": [
        "from sklearn.naive_bayes import GaussianNB, MultinomialNB\n",
        "\n",
        "for vs in np.logspace(0, -12, num =13):\n",
        "\n",
        "    # Initialize Gaussian Naive Bayes\n",
        "    gnb = GaussianNB(var_smoothing = vs)\n",
        "\n",
        "    # Train the classifier\n",
        "    gnb.fit(X_train, y_train)\n",
        "    \n",
        "    # Make predictions on test data\n",
        "    y_pred = gnb.predict(X_test)\n",
        "    y_train_pred = gnb.predict(X_train)\n",
        "    \n",
        "    print ('vs = ' + str(vs))\n",
        "    print ('Training accuracy = ' + str(np.sum(y_train_pred == y_train)/len(y_train)))\n",
        "    print ('Test accuracy = ' + str(np.sum(y_pred == y_test)/len(y_test)))"
      ]
    },
    {
      "cell_type": "code",
      "execution_count": 5,
      "metadata": {
        "colab": {
          "base_uri": "https://localhost:8080/"
        },
        "id": "RJ3K6GK5L1xY",
        "outputId": "a51336c2-268c-4c9f-a571-dac525fc6b0e"
      },
      "outputs": [
        {
          "name": "stdout",
          "output_type": "stream",
          "text": [
            "[0.34507042 0.37323944 0.28169014]\n"
          ]
        }
      ],
      "source": [
        "print (gnb.class_prior_)"
      ]
    },
    {
      "cell_type": "code",
      "execution_count": 6,
      "metadata": {
        "colab": {
          "base_uri": "https://localhost:8080/"
        },
        "id": "u3dAnK7FL9ju",
        "outputId": "14ac3b2d-e8f4-4475-c160-f26999668e77"
      },
      "outputs": [
        {
          "name": "stdout",
          "output_type": "stream",
          "text": [
            "[[7.77879490e-11 1.00000000e+00 1.54786654e-18]\n",
            " [1.03627208e-11 1.00000000e+00 3.03140716e-10]\n",
            " [9.99999981e-01 1.86393579e-08 1.07425384e-34]\n",
            " [2.23035951e-11 1.00000000e+00 1.77867256e-14]\n",
            " [1.00000000e+00 1.94369316e-11 8.97437777e-30]\n",
            " [2.01384635e-06 9.99997986e-01 6.33633746e-21]\n",
            " [2.36406733e-08 9.99999976e-01 3.35476062e-14]\n",
            " [9.99998312e-01 1.68824501e-06 5.08640588e-28]\n",
            " [3.09275440e-20 2.32727637e-22 1.00000000e+00]\n",
            " [1.00000000e+00 9.09221468e-16 1.84294545e-44]\n",
            " [9.99997694e-01 2.30598977e-06 6.41812873e-26]\n",
            " [5.55891208e-01 4.44108792e-01 6.59048277e-29]\n",
            " [1.00000000e+00 2.50153268e-10 1.54910327e-25]\n",
            " [9.99010158e-11 1.68351895e-02 9.83164810e-01]\n",
            " [4.86770057e-07 9.99999513e-01 7.38431551e-15]\n",
            " [1.55383802e-16 9.99999988e-01 1.19104314e-08]\n",
            " [1.26871825e-14 7.37510636e-03 9.92624894e-01]\n",
            " [3.92807753e-06 9.99996072e-01 1.07125468e-11]\n",
            " [4.62853864e-09 9.99999995e-01 1.05316557e-21]\n",
            " [4.07432297e-19 4.08073169e-08 9.99999959e-01]\n",
            " [9.99994793e-01 5.20690870e-06 3.51170895e-28]\n",
            " [6.29420683e-22 2.82831509e-12 1.00000000e+00]\n",
            " [9.99999999e-01 6.16369619e-10 1.27143110e-33]\n",
            " [1.00000000e+00 7.13654807e-20 4.47463608e-37]\n",
            " [8.03322346e-07 9.99999197e-01 1.17013028e-17]\n",
            " [1.77541067e-27 1.47128550e-07 9.99999853e-01]\n",
            " [1.71550972e-07 8.75243269e-01 1.24756559e-01]\n",
            " [1.02244119e-16 1.23244695e-06 9.99998768e-01]\n",
            " [1.91147350e-14 9.99199834e-01 8.00165953e-04]\n",
            " [4.07526179e-06 9.99995925e-01 4.49638735e-13]\n",
            " [4.99892383e-27 1.69136372e-21 1.00000000e+00]\n",
            " [3.35444799e-22 1.64730576e-06 9.99998353e-01]\n",
            " [9.84480198e-13 3.36222573e-01 6.63777427e-01]\n",
            " [8.93598215e-17 1.24098520e-16 1.00000000e+00]\n",
            " [4.59351401e-09 9.99999995e-01 3.10825448e-28]\n",
            " [9.99999972e-01 2.79837123e-08 5.68790502e-28]]\n"
          ]
        }
      ],
      "source": [
        "print(gnb.predict_proba(X_test))"
      ]
    },
    {
      "cell_type": "markdown",
      "metadata": {
        "id": "qRkqApj9KrKD"
      },
      "source": [
        "# GridSearchCV and accuracy_score using Multinomial Naive Bayes"
      ]
    },
    {
      "cell_type": "markdown",
      "metadata": {
        "id": "ZpqNpt6IKrKD"
      },
      "source": [
        "MultinomialNB doc:\n",
        "https://scikit-learn.org/stable/modules/generated/sklearn.naive_bayes.MultinomialNB.html#sklearn.naive_bayes.MultinomialNB\n"
      ]
    },
    {
      "cell_type": "code",
      "execution_count": 7,
      "metadata": {
        "colab": {
          "base_uri": "https://localhost:8080/"
        },
        "id": "mH0EvtGdKrKE",
        "outputId": "20cf8844-a1d9-4411-a0a1-97de9f5c0093"
      },
      "outputs": [
        {
          "name": "stdout",
          "output_type": "stream",
          "text": [
            "{'max_depth': 10, 'max_features': 'log2', 'min_samples_leaf': 1, 'min_samples_split': 2, 'n_estimators': 20}\n",
            "Test accuracy = 0.8611111111111112\n",
            "Train accuracy = 1.0\n"
          ]
        }
      ],
      "source": [
        "from sklearn.model_selection import GridSearchCV\n",
        "from sklearn.ensemble import RandomForestClassifier\n",
        "from sklearn.metrics import accuracy_score\n",
        "\n",
        "para_grid = {'n_estimators': [20, 50, 100, 200], # Number of trees in random forest\n",
        "               'max_features': ['auto', 'sqrt', 'log2'], # Number of features to consider at every split\n",
        "               'max_depth': [10, 20, 30, None], # Maximum number of levels in tree\n",
        "               'min_samples_split': [2, 5, 10], # Minimum number of samples required to split a node\n",
        "               'min_samples_leaf': [1, 2, 4]} # Minimum number of samples required at each leaf node\n",
        "\n",
        "rf = RandomForestClassifier()\n",
        "clf = GridSearchCV(rf, para_grid, cv = 3)\n",
        "clf.fit(X_train, y_train)\n",
        "y_pred = clf.predict(X_test)\n",
        "\n",
        "# optimal parameters\n",
        "print(clf.best_params_)\n",
        "\n",
        "accuracy = accuracy_score(y_pred, y_test)\n",
        "train_acc = accuracy_score(clf.predict(X_train), y_train)\n",
        "print ('Test accuracy = ' + str(accuracy))\n",
        "print ('Train accuracy = ' + str(train_acc)) "
      ]
    },
    {
      "cell_type": "markdown",
      "metadata": {
        "id": "BbGcxBZdKrKF"
      },
      "source": [
        "# make_classification"
      ]
    },
    {
      "cell_type": "code",
      "execution_count": 8,
      "metadata": {
        "colab": {
          "base_uri": "https://localhost:8080/"
        },
        "id": "I71_kl3pKrKF",
        "outputId": "498019b2-8f60-40a6-a687-b2a059fc0cc8"
      },
      "outputs": [
        {
          "data": {
            "text/plain": [
              "array([[ 0.63177194,  0.94751505, -0.36605781, ...,  0.78424856,\n",
              "         0.48017657,  0.6801706 ],\n",
              "       [-2.20334734,  1.06654479,  1.06288988, ...,  0.6682359 ,\n",
              "        -0.11381227, -1.39980569],\n",
              "       [ 0.60938379, -0.25850069, -2.07940208, ...,  0.41355673,\n",
              "        -0.90796613, -1.6013794 ],\n",
              "       ...,\n",
              "       [-0.11410629,  1.54293349, -0.20800973, ..., -1.52895471,\n",
              "        -0.30078988, -0.46185686],\n",
              "       [-1.88533324, -1.64922936,  0.23708023, ...,  1.7018218 ,\n",
              "         3.20017762,  0.49517397],\n",
              "       [ 0.01559523,  0.45548936, -1.95664826, ...,  0.68576515,\n",
              "        -0.4411947 , -1.8935202 ]])"
            ]
          },
          "execution_count": 8,
          "metadata": {},
          "output_type": "execute_result"
        }
      ],
      "source": [
        "# Generate a random n-class classification problem.\n",
        "\n",
        "from sklearn.datasets import make_classification\n",
        "\n",
        "X, y = make_classification(n_samples=2000, n_features=10, n_classes=4, n_informative=4)\n",
        "\n",
        "X"
      ]
    }
  ],
  "metadata": {
    "anaconda-cloud": {},
    "celltoolbar": "Slideshow",
    "colab": {
      "collapsed_sections": [],
      "name": "1_GenerativeModel_GridSearchCV.ipynb",
      "provenance": []
    },
    "kernelspec": {
      "display_name": "Python 3",
      "language": "python",
      "name": "python3"
    },
    "language_info": {
      "codemirror_mode": {
        "name": "ipython",
        "version": 3
      },
      "file_extension": ".py",
      "mimetype": "text/x-python",
      "name": "python",
      "nbconvert_exporter": "python",
      "pygments_lexer": "ipython3",
      "version": "3.10.2"
    }
  },
  "nbformat": 4,
  "nbformat_minor": 0
}
