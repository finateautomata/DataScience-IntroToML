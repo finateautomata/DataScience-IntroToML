{
  "cells": [
    {
      "cell_type": "markdown",
      "metadata": {
        "id": "nhdOBcfUsn17"
      },
      "source": [
        "# Dealing with Panel Data (Time Series and Cross-Section) in Finance"
      ]
    },
    {
      "cell_type": "markdown",
      "metadata": {
        "id": "aiQzFEKtutu6"
      },
      "source": [
        "In finance, especially in forecasting, we use time series or panel data. Time series data is mostly very easy to deal with. This is because we are tracking one variable over time.\n",
        "\n",
        "What if we were tracking a variable over time and firms? We would now have to indexers for our variables, which we call panel data.\n",
        "\n",
        "The below example uses Compustat data. The raw data tracks annual fundamental data over the period: 2017-2020, across many firms. We will see how to deal with panel data in finance. We will be using the data set we obtain at the end of this code for Assignment 2."
      ]
    },
    {
      "cell_type": "markdown",
      "metadata": {
        "id": "w7YhmVWvtvY4"
      },
      "source": [
        "## Import Library and Data"
      ]
    },
    {
      "cell_type": "code",
      "execution_count": 37,
      "metadata": {
        "id": "4h-SBKResbOW"
      },
      "outputs": [],
      "source": [
        "import pandas as pd\n",
        "import numpy as np\n",
        "from sklearn.preprocessing import StandardScaler \n",
        "import missingno as msno"
      ]
    },
    {
      "cell_type": "code",
      "execution_count": 38,
      "metadata": {
        "colab": {
          "base_uri": "https://localhost:8080/"
        },
        "id": "66Cqf8LDs70k",
        "outputId": "267e2be8-0619-40d5-cd1c-e74fe5391678"
      },
      "outputs": [],
      "source": [
        "# ! gdown --id 1jb3oxr6Pbwu3GPd1bJn8RlacS0pOSv77"
      ]
    },
    {
      "cell_type": "code",
      "execution_count": 39,
      "metadata": {
        "colab": {
          "base_uri": "https://localhost:8080/",
          "height": 317
        },
        "id": "F5i-kX97tTiq",
        "outputId": "b98a2c5f-bfca-4a52-fda2-eef1145fbc71"
      },
      "outputs": [
        {
          "data": {
            "text/html": [
              "<div>\n",
              "<style scoped>\n",
              "    .dataframe tbody tr th:only-of-type {\n",
              "        vertical-align: middle;\n",
              "    }\n",
              "\n",
              "    .dataframe tbody tr th {\n",
              "        vertical-align: top;\n",
              "    }\n",
              "\n",
              "    .dataframe thead th {\n",
              "        text-align: right;\n",
              "    }\n",
              "</style>\n",
              "<table border=\"1\" class=\"dataframe\">\n",
              "  <thead>\n",
              "    <tr style=\"text-align: right;\">\n",
              "      <th></th>\n",
              "      <th>Unnamed: 0</th>\n",
              "      <th>permno</th>\n",
              "      <th>exchcd</th>\n",
              "      <th>shrcd</th>\n",
              "      <th>ret</th>\n",
              "      <th>acc</th>\n",
              "      <th>agr</th>\n",
              "      <th>cfp</th>\n",
              "      <th>ep</th>\n",
              "      <th>ni</th>\n",
              "      <th>...</th>\n",
              "      <th>operprof</th>\n",
              "      <th>capxint</th>\n",
              "      <th>chpm</th>\n",
              "      <th>alm</th>\n",
              "      <th>hire</th>\n",
              "      <th>herf</th>\n",
              "      <th>bm_ia</th>\n",
              "      <th>me_ia</th>\n",
              "      <th>ffi12</th>\n",
              "      <th>fyear</th>\n",
              "    </tr>\n",
              "  </thead>\n",
              "  <tbody>\n",
              "    <tr>\n",
              "      <th>0</th>\n",
              "      <td>0</td>\n",
              "      <td>10032</td>\n",
              "      <td>3</td>\n",
              "      <td>11</td>\n",
              "      <td>-0.015975</td>\n",
              "      <td>NaN</td>\n",
              "      <td>0.119131</td>\n",
              "      <td>0.078191</td>\n",
              "      <td>0.055671</td>\n",
              "      <td>0.000209</td>\n",
              "      <td>...</td>\n",
              "      <td>0.178622</td>\n",
              "      <td>0.020598</td>\n",
              "      <td>0.014426</td>\n",
              "      <td>0.416017</td>\n",
              "      <td>0.142857</td>\n",
              "      <td>0.727377</td>\n",
              "      <td>1.180605</td>\n",
              "      <td>0.026592</td>\n",
              "      <td>6</td>\n",
              "      <td>2017.0</td>\n",
              "    </tr>\n",
              "    <tr>\n",
              "      <th>1</th>\n",
              "      <td>1</td>\n",
              "      <td>55597</td>\n",
              "      <td>1</td>\n",
              "      <td>11</td>\n",
              "      <td>-0.005877</td>\n",
              "      <td>0.005842</td>\n",
              "      <td>0.067161</td>\n",
              "      <td>0.052896</td>\n",
              "      <td>0.011175</td>\n",
              "      <td>0.007889</td>\n",
              "      <td>...</td>\n",
              "      <td>0.191929</td>\n",
              "      <td>0.037949</td>\n",
              "      <td>-0.016507</td>\n",
              "      <td>0.175209</td>\n",
              "      <td>0.058824</td>\n",
              "      <td>0.123350</td>\n",
              "      <td>0.931938</td>\n",
              "      <td>0.338751</td>\n",
              "      <td>3</td>\n",
              "      <td>2017.0</td>\n",
              "    </tr>\n",
              "    <tr>\n",
              "      <th>2</th>\n",
              "      <td>2</td>\n",
              "      <td>80575</td>\n",
              "      <td>1</td>\n",
              "      <td>11</td>\n",
              "      <td>-0.046883</td>\n",
              "      <td>-0.003278</td>\n",
              "      <td>0.058725</td>\n",
              "      <td>0.049405</td>\n",
              "      <td>0.036281</td>\n",
              "      <td>-0.014695</td>\n",
              "      <td>...</td>\n",
              "      <td>0.197794</td>\n",
              "      <td>0.057538</td>\n",
              "      <td>-0.009467</td>\n",
              "      <td>0.142822</td>\n",
              "      <td>0.096335</td>\n",
              "      <td>0.064086</td>\n",
              "      <td>0.589591</td>\n",
              "      <td>0.987700</td>\n",
              "      <td>3</td>\n",
              "      <td>2017.0</td>\n",
              "    </tr>\n",
              "    <tr>\n",
              "      <th>3</th>\n",
              "      <td>3</td>\n",
              "      <td>25778</td>\n",
              "      <td>3</td>\n",
              "      <td>11</td>\n",
              "      <td>0.240112</td>\n",
              "      <td>0.005994</td>\n",
              "      <td>0.035686</td>\n",
              "      <td>0.046193</td>\n",
              "      <td>0.025747</td>\n",
              "      <td>-0.003276</td>\n",
              "      <td>...</td>\n",
              "      <td>0.245913</td>\n",
              "      <td>0.003740</td>\n",
              "      <td>-0.079625</td>\n",
              "      <td>0.340250</td>\n",
              "      <td>-0.042373</td>\n",
              "      <td>0.237726</td>\n",
              "      <td>0.739767</td>\n",
              "      <td>2.721329</td>\n",
              "      <td>6</td>\n",
              "      <td>2017.0</td>\n",
              "    </tr>\n",
              "    <tr>\n",
              "      <th>4</th>\n",
              "      <td>4</td>\n",
              "      <td>75654</td>\n",
              "      <td>3</td>\n",
              "      <td>11</td>\n",
              "      <td>-0.110406</td>\n",
              "      <td>0.005153</td>\n",
              "      <td>0.240001</td>\n",
              "      <td>0.024275</td>\n",
              "      <td>0.022150</td>\n",
              "      <td>0.009433</td>\n",
              "      <td>...</td>\n",
              "      <td>0.287046</td>\n",
              "      <td>0.024719</td>\n",
              "      <td>-0.050827</td>\n",
              "      <td>0.033750</td>\n",
              "      <td>0.246305</td>\n",
              "      <td>0.136111</td>\n",
              "      <td>0.404079</td>\n",
              "      <td>0.783007</td>\n",
              "      <td>6</td>\n",
              "      <td>2017.0</td>\n",
              "    </tr>\n",
              "  </tbody>\n",
              "</table>\n",
              "<p>5 rows × 60 columns</p>\n",
              "</div>"
            ],
            "text/plain": [
              "   Unnamed: 0  permno  exchcd  shrcd       ret       acc       agr       cfp  \\\n",
              "0           0   10032       3     11 -0.015975       NaN  0.119131  0.078191   \n",
              "1           1   55597       1     11 -0.005877  0.005842  0.067161  0.052896   \n",
              "2           2   80575       1     11 -0.046883 -0.003278  0.058725  0.049405   \n",
              "3           3   25778       3     11  0.240112  0.005994  0.035686  0.046193   \n",
              "4           4   75654       3     11 -0.110406  0.005153  0.240001  0.024275   \n",
              "\n",
              "         ep        ni  ...  operprof   capxint      chpm       alm      hire  \\\n",
              "0  0.055671  0.000209  ...  0.178622  0.020598  0.014426  0.416017  0.142857   \n",
              "1  0.011175  0.007889  ...  0.191929  0.037949 -0.016507  0.175209  0.058824   \n",
              "2  0.036281 -0.014695  ...  0.197794  0.057538 -0.009467  0.142822  0.096335   \n",
              "3  0.025747 -0.003276  ...  0.245913  0.003740 -0.079625  0.340250 -0.042373   \n",
              "4  0.022150  0.009433  ...  0.287046  0.024719 -0.050827  0.033750  0.246305   \n",
              "\n",
              "       herf     bm_ia     me_ia  ffi12   fyear  \n",
              "0  0.727377  1.180605  0.026592      6  2017.0  \n",
              "1  0.123350  0.931938  0.338751      3  2017.0  \n",
              "2  0.064086  0.589591  0.987700      3  2017.0  \n",
              "3  0.237726  0.739767  2.721329      6  2017.0  \n",
              "4  0.136111  0.404079  0.783007      6  2017.0  \n",
              "\n",
              "[5 rows x 60 columns]"
            ]
          },
          "execution_count": 39,
          "metadata": {},
          "output_type": "execute_result"
        }
      ],
      "source": [
        "df=pd.read_csv('df_hw.csv')\n",
        "df.head()"
      ]
    },
    {
      "cell_type": "code",
      "execution_count": 40,
      "metadata": {
        "id": "y1DXzOzzt0QG"
      },
      "outputs": [],
      "source": [
        "df=df.iloc[:,1:]"
      ]
    },
    {
      "cell_type": "markdown",
      "metadata": {
        "id": "X2oeJ103uVQq"
      },
      "source": [
        "## Data Cleanup, Subsetting, and Generating Lags\n",
        "\n"
      ]
    },
    {
      "cell_type": "code",
      "execution_count": 41,
      "metadata": {
        "id": "5qIpLJSatbAI"
      },
      "outputs": [],
      "source": [
        "df.drop(['exchcd','shrcd','ffi12'],axis=1,inplace=True)\n",
        "df.set_index(['permno','fyear'],inplace=True)"
      ]
    },
    {
      "cell_type": "code",
      "execution_count": 42,
      "metadata": {},
      "outputs": [
        {
          "data": {
            "text/plain": [
              "<AxesSubplot:>"
            ]
          },
          "execution_count": 42,
          "metadata": {},
          "output_type": "execute_result"
        },
        {
          "data": {
            "image/png": "[encoded data removed]",
            "text/plain": [
              "<Figure size 1800x1044 with 3 Axes>"
            ]
          },
          "metadata": {
            "needs_background": "light"
          },
          "output_type": "display_data"
        }
      ],
      "source": [
        "msno.bar(df)"
      ]
    },
    {
      "cell_type": "code",
      "execution_count": 43,
      "metadata": {
        "id": "B5T34KrwtcZG"
      },
      "outputs": [],
      "source": [
        "df=df.dropna(subset=['gma'])"
      ]
    },
    {
      "cell_type": "code",
      "execution_count": 44,
      "metadata": {
        "id": "IWhm7WnVtcrd"
      },
      "outputs": [],
      "source": [
        "df_lagged = df.groupby('permno').shift(1)\n",
        "df_lagged.drop('gma',axis=1,inplace=True)\n",
        "df_gma = df[['gma']]\n",
        "df=pd.concat([df_gma,df_lagged],axis=1)\n",
        "df.replace([np.inf,-np.inf],np.nan,inplace=True)\n",
        "df=df.dropna()\n",
        "df=df.reset_index()"
      ]
    },
    {
      "cell_type": "code",
      "execution_count": 45,
      "metadata": {
        "id": "V6N1OW2Rtepv"
      },
      "outputs": [
        {
          "name": "stderr",
          "output_type": "stream",
          "text": [
            "/var/folders/hn/l61q_f8s7nlgg9ybvy7tmlx40000gn/T/ipykernel_29624/1554595212.py:4: SettingWithCopyWarning: \n",
            "A value is trying to be set on a copy of a slice from a DataFrame\n",
            "\n",
            "See the caveats in the documentation: https://pandas.pydata.org/pandas-docs/stable/user_guide/indexing.html#returning-a-view-versus-a-copy\n",
            "  df_train_valid.drop('gma',axis=1,inplace=True)\n",
            "/var/folders/hn/l61q_f8s7nlgg9ybvy7tmlx40000gn/T/ipykernel_29624/1554595212.py:10: SettingWithCopyWarning: \n",
            "A value is trying to be set on a copy of a slice from a DataFrame\n",
            "\n",
            "See the caveats in the documentation: https://pandas.pydata.org/pandas-docs/stable/user_guide/indexing.html#returning-a-view-versus-a-copy\n",
            "  df_test.drop('gma',axis=1,inplace=True)\n"
          ]
        }
      ],
      "source": [
        "df_train_valid=df[df['fyear']<=2019]\n",
        "df_train_valid.set_index(['permno','fyear'],inplace=True)\n",
        "df_train_valid_label = df_train_valid[['gma']]\n",
        "df_train_valid.drop('gma',axis=1,inplace=True)\n",
        "\n",
        "\n",
        "df_test=df[df['fyear']==2020]\n",
        "df_test.set_index(['permno','fyear'],inplace=True)\n",
        "df_test_label = df_test[['gma']]\n",
        "df_test.drop('gma',axis=1,inplace=True)"
      ]
    },
    {
      "cell_type": "code",
      "execution_count": 46,
      "metadata": {
        "id": "cKZ6UV-RtiXJ"
      },
      "outputs": [],
      "source": [
        "import typing\n",
        "\n",
        "class SklearnWrapper:\n",
        "    def __init__(self, transformation: typing.Callable):\n",
        "        self.transformation = transformation\n",
        "        self._group_transforms = []\n",
        "        # Start with -1 and for each group up the pointer by one\n",
        "        self._pointer = -1\n",
        "\n",
        "    def _call_with_function(self, df: pd.DataFrame, function: str):\n",
        "        # If pointer >= len we are making a new apply, reset _pointer\n",
        "        if self._pointer >= len(self._group_transforms):\n",
        "            self._pointer = -1\n",
        "        self._pointer += 1\n",
        "        return pd.DataFrame(\n",
        "            getattr(self._group_transforms[self._pointer], function)(df.values),\n",
        "            columns=df.columns,\n",
        "            index=df.index,\n",
        "        )\n",
        "\n",
        "    def fit(self, df):\n",
        "        self._group_transforms.append(self.transformation.fit(df.values))\n",
        "        return self\n",
        "\n",
        "    def transform(self, df):\n",
        "        return self._call_with_function(df, \"transform\")\n",
        "\n",
        "    def fit_transform(self, df):\n",
        "        self.fit(df)\n",
        "        return self.transform(df)\n",
        "\n"
      ]
    },
    {
      "cell_type": "code",
      "execution_count": 47,
      "metadata": {
        "id": "QDIVkSbLtkhN"
      },
      "outputs": [],
      "source": [
        "scaler=SklearnWrapper(StandardScaler())"
      ]
    },
    {
      "cell_type": "markdown",
      "metadata": {
        "id": "Q2jGYveiwDoj"
      },
      "source": [
        "## Categorizing Profitability: Going from a continuous variable to a categorical varibale"
      ]
    },
    {
      "cell_type": "code",
      "execution_count": 48,
      "metadata": {
        "id": "_O_RAnL8tk30"
      },
      "outputs": [
        {
          "data": {
            "text/html": [
              "<div>\n",
              "<style scoped>\n",
              "    .dataframe tbody tr th:only-of-type {\n",
              "        vertical-align: middle;\n",
              "    }\n",
              "\n",
              "    .dataframe tbody tr th {\n",
              "        vertical-align: top;\n",
              "    }\n",
              "\n",
              "    .dataframe thead th {\n",
              "        text-align: right;\n",
              "    }\n",
              "</style>\n",
              "<table border=\"1\" class=\"dataframe\">\n",
              "  <thead>\n",
              "    <tr style=\"text-align: right;\">\n",
              "      <th></th>\n",
              "      <th></th>\n",
              "      <th>gma</th>\n",
              "      <th>label</th>\n",
              "    </tr>\n",
              "    <tr>\n",
              "      <th>permno</th>\n",
              "      <th>fyear</th>\n",
              "      <th></th>\n",
              "      <th></th>\n",
              "    </tr>\n",
              "  </thead>\n",
              "  <tbody>\n",
              "    <tr>\n",
              "      <th>15417</th>\n",
              "      <th>2018.0</th>\n",
              "      <td>0.564012</td>\n",
              "      <td>0</td>\n",
              "    </tr>\n",
              "    <tr>\n",
              "      <th>89031</th>\n",
              "      <th>2018.0</th>\n",
              "      <td>1.676655</td>\n",
              "      <td>1</td>\n",
              "    </tr>\n",
              "    <tr>\n",
              "      <th>11154</th>\n",
              "      <th>2018.0</th>\n",
              "      <td>-0.646399</td>\n",
              "      <td>0</td>\n",
              "    </tr>\n",
              "    <tr>\n",
              "      <th>13556</th>\n",
              "      <th>2018.0</th>\n",
              "      <td>-0.075451</td>\n",
              "      <td>0</td>\n",
              "    </tr>\n",
              "    <tr>\n",
              "      <th>14296</th>\n",
              "      <th>2018.0</th>\n",
              "      <td>0.771351</td>\n",
              "      <td>0</td>\n",
              "    </tr>\n",
              "  </tbody>\n",
              "</table>\n",
              "</div>"
            ],
            "text/plain": [
              "                    gma  label\n",
              "permno fyear                  \n",
              "15417  2018.0  0.564012      0\n",
              "89031  2018.0  1.676655      1\n",
              "11154  2018.0 -0.646399      0\n",
              "13556  2018.0 -0.075451      0\n",
              "14296  2018.0  0.771351      0"
            ]
          },
          "execution_count": 48,
          "metadata": {},
          "output_type": "execute_result"
        }
      ],
      "source": [
        "df_train_valid_label=pd.DataFrame(df_train_valid_label.groupby('fyear').apply(scaler.fit_transform))\n",
        "df_train_valid_label['label'] =df_train_valid_label['gma'].astype(int)\n",
        "df_train_valid_label.head()"
      ]
    },
    {
      "cell_type": "code",
      "execution_count": 49,
      "metadata": {
        "id": "uaWebUy9wQwz"
      },
      "outputs": [],
      "source": [
        "df_train_valid_label=df_train_valid_label.iloc[:,1]"
      ]
    },
    {
      "cell_type": "code",
      "execution_count": 50,
      "metadata": {
        "id": "sefqTf8gtnsO"
      },
      "outputs": [
        {
          "data": {
            "text/html": [
              "<div>\n",
              "<style scoped>\n",
              "    .dataframe tbody tr th:only-of-type {\n",
              "        vertical-align: middle;\n",
              "    }\n",
              "\n",
              "    .dataframe tbody tr th {\n",
              "        vertical-align: top;\n",
              "    }\n",
              "\n",
              "    .dataframe thead th {\n",
              "        text-align: right;\n",
              "    }\n",
              "</style>\n",
              "<table border=\"1\" class=\"dataframe\">\n",
              "  <thead>\n",
              "    <tr style=\"text-align: right;\">\n",
              "      <th></th>\n",
              "      <th></th>\n",
              "      <th>gma</th>\n",
              "      <th>label</th>\n",
              "    </tr>\n",
              "    <tr>\n",
              "      <th>permno</th>\n",
              "      <th>fyear</th>\n",
              "      <th></th>\n",
              "      <th></th>\n",
              "    </tr>\n",
              "  </thead>\n",
              "  <tbody>\n",
              "    <tr>\n",
              "      <th>12211</th>\n",
              "      <th>2020.0</th>\n",
              "      <td>-0.237420</td>\n",
              "      <td>0</td>\n",
              "    </tr>\n",
              "    <tr>\n",
              "      <th>82777</th>\n",
              "      <th>2020.0</th>\n",
              "      <td>1.067435</td>\n",
              "      <td>1</td>\n",
              "    </tr>\n",
              "    <tr>\n",
              "      <th>89216</th>\n",
              "      <th>2020.0</th>\n",
              "      <td>0.370074</td>\n",
              "      <td>0</td>\n",
              "    </tr>\n",
              "    <tr>\n",
              "      <th>27684</th>\n",
              "      <th>2020.0</th>\n",
              "      <td>-0.556317</td>\n",
              "      <td>0</td>\n",
              "    </tr>\n",
              "    <tr>\n",
              "      <th>80320</th>\n",
              "      <th>2020.0</th>\n",
              "      <td>0.205453</td>\n",
              "      <td>0</td>\n",
              "    </tr>\n",
              "  </tbody>\n",
              "</table>\n",
              "</div>"
            ],
            "text/plain": [
              "                    gma  label\n",
              "permno fyear                  \n",
              "12211  2020.0 -0.237420      0\n",
              "82777  2020.0  1.067435      1\n",
              "89216  2020.0  0.370074      0\n",
              "27684  2020.0 -0.556317      0\n",
              "80320  2020.0  0.205453      0"
            ]
          },
          "execution_count": 50,
          "metadata": {},
          "output_type": "execute_result"
        }
      ],
      "source": [
        "df_test_label=pd.DataFrame(df_test_label.groupby('fyear').apply(scaler.fit_transform))\n",
        "df_test_label['label'] =df_test_label['gma'].astype(int)\n",
        "df_test_label.head()"
      ]
    },
    {
      "cell_type": "code",
      "execution_count": 51,
      "metadata": {
        "id": "aXcHH1TwwU0b"
      },
      "outputs": [],
      "source": [
        "df_test_label=df_test_label.iloc[:,1]"
      ]
    },
    {
      "cell_type": "code",
      "execution_count": 52,
      "metadata": {
        "id": "KvqCWSjAtuIv"
      },
      "outputs": [],
      "source": [
        "df_label = pd.concat([df_train_valid_label,df_test_label],axis=0)"
      ]
    },
    {
      "cell_type": "code",
      "execution_count": 53,
      "metadata": {
        "id": "5aL2YO98wX5L"
      },
      "outputs": [
        {
          "data": {
            "text/plain": [
              "permno  fyear \n",
              "15417   2018.0    0\n",
              "89031   2018.0    1\n",
              "11154   2018.0    0\n",
              "13556   2018.0    0\n",
              "14296   2018.0    0\n",
              "Name: label, dtype: int64"
            ]
          },
          "execution_count": 53,
          "metadata": {},
          "output_type": "execute_result"
        }
      ],
      "source": [
        "df_label.head()"
      ]
    }
  ],
  "metadata": {
    "colab": {
      "collapsed_sections": [],
      "name": "Data Prep.ipynb",
      "provenance": []
    },
    "kernelspec": {
      "display_name": "Python 3",
      "name": "python3"
    },
    "language_info": {
      "codemirror_mode": {
        "name": "ipython",
        "version": 3
      },
      "file_extension": ".py",
      "mimetype": "text/x-python",
      "name": "python",
      "nbconvert_exporter": "python",
      "pygments_lexer": "ipython3",
      "version": "3.8.9"
    }
  },
  "nbformat": 4,
  "nbformat_minor": 0
}
